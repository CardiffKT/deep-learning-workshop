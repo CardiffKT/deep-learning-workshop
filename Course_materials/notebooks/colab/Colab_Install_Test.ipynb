{
  "nbformat": 4,
  "nbformat_minor": 0,
  "metadata": {
    "colab": {
      "name": "Colab_Test.ipynb",
      "provenance": [],
      "collapsed_sections": [],
      "include_colab_link": true
    },
    "kernelspec": {
      "name": "python3",
      "display_name": "Python 3"
    }
  },
  "cells": [
    {
      "cell_type": "markdown",
      "metadata": {
        "id": "view-in-github",
        "colab_type": "text"
      },
      "source": [
        "<a href=\"https://colab.research.google.com/github/evan-paul-carey/deep-learning-workshop/blob/master/Course_materials/notebooks/colab/Colab_Install_Test.ipynb\" target=\"_parent\"><img src=\"https://colab.research.google.com/assets/colab-badge.svg\" alt=\"Open In Colab\"/></a>"
      ]
    },
    {
      "cell_type": "markdown",
      "metadata": {
        "id": "HizLvp8yLX5k",
        "colab_type": "text"
      },
      "source": [
        "# Basic Google Colab Python and Tensorflow Document\n",
        "*By Evan Carey* \n",
        "\n",
        "Here is some basic Python code! "
      ]
    },
    {
      "cell_type": "code",
      "metadata": {
        "id": "LADtZj_8Ldbk",
        "colab_type": "code",
        "outputId": "f4984540-9e82-43eb-f35b-07374a053fc8",
        "colab": {
          "base_uri": "https://localhost:8080/",
          "height": 34
        }
      },
      "source": [
        "2 + 2"
      ],
      "execution_count": 1,
      "outputs": [
        {
          "output_type": "execute_result",
          "data": {
            "text/plain": [
              "4"
            ]
          },
          "metadata": {
            "tags": []
          },
          "execution_count": 1
        }
      ]
    },
    {
      "cell_type": "code",
      "metadata": {
        "id": "f0n5zvQMKtZg",
        "colab_type": "code",
        "outputId": "289b165b-20fd-49ed-cf3a-59df12c24b92",
        "colab": {
          "base_uri": "https://localhost:8080/",
          "height": 34
        }
      },
      "source": [
        "x = 5*30;print(x)"
      ],
      "execution_count": 2,
      "outputs": [
        {
          "output_type": "stream",
          "text": [
            "150\n"
          ],
          "name": "stdout"
        }
      ]
    },
    {
      "cell_type": "markdown",
      "metadata": {
        "id": "G9SKhW_rLgrx",
        "colab_type": "text"
      },
      "source": [
        "Now we will load tensorflow to use. Tensorflow is already installed by default in the Google colab environment, so all we have to do is 'load' the functionality by calling an `import` statement. We give the module the alias `tf` upon import so we can refer to it as `tf` in subsequent code. "
      ]
    },
    {
      "cell_type": "code",
      "metadata": {
        "id": "IhqUOGpsLkig",
        "colab_type": "code",
        "colab": {
          "base_uri": "https://localhost:8080/",
          "height": 34
        },
        "outputId": "c4ad689f-9c54-4382-c33b-e89bb0dc2b59"
      },
      "source": [
        "# Tell colab to use Tensorflow 2.0! Current Default is 1.X as of 1/3/2020\n",
        "try:\n",
        "  # %tensorflow_version command only exists in Colab.\n",
        "  %tensorflow_version 2.x\n",
        "except Exception:\n",
        "  pass\n",
        "# load tensorflow\n",
        "import tensorflow as tf"
      ],
      "execution_count": 3,
      "outputs": [
        {
          "output_type": "stream",
          "text": [
            "TensorFlow 2.x selected.\n"
          ],
          "name": "stdout"
        }
      ]
    },
    {
      "cell_type": "code",
      "metadata": {
        "id": "xIEBp-PhMn2t",
        "colab_type": "code",
        "outputId": "5f6dc1a0-00ab-4f38-e06b-feaefc3ec098",
        "colab": {
          "base_uri": "https://localhost:8080/",
          "height": 34
        }
      },
      "source": [
        "# check tensorflow version. Should be 2.x!\n",
        "tf.__version__"
      ],
      "execution_count": 4,
      "outputs": [
        {
          "output_type": "execute_result",
          "data": {
            "text/plain": [
              "'2.1.0-rc1'"
            ]
          },
          "metadata": {
            "tags": []
          },
          "execution_count": 4
        }
      ]
    },
    {
      "cell_type": "markdown",
      "metadata": {
        "id": "gWDerptBM_oP",
        "colab_type": "text"
      },
      "source": [
        "Now let's create a basic constant to ensure tensorflow is loaded correctly. "
      ]
    },
    {
      "cell_type": "code",
      "metadata": {
        "id": "qFQF6REGNEwW",
        "colab_type": "code",
        "outputId": "da48d3a2-494d-4b79-cd3d-00e0b76ab285",
        "colab": {
          "base_uri": "https://localhost:8080/",
          "height": 69
        }
      },
      "source": [
        "# create tf constant integer\n",
        "tf.constant([1,2,3,4],\n",
        "            dtype='int32',\n",
        "            shape=[2,2])"
      ],
      "execution_count": 5,
      "outputs": [
        {
          "output_type": "execute_result",
          "data": {
            "text/plain": [
              "<tf.Tensor: shape=(2, 2), dtype=int32, numpy=\n",
              "array([[1, 2],\n",
              "       [3, 4]], dtype=int32)>"
            ]
          },
          "metadata": {
            "tags": []
          },
          "execution_count": 5
        }
      ]
    }
  ]
}