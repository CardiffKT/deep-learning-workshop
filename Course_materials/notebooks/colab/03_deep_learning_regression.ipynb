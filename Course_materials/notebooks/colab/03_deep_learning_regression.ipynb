{
  "nbformat": 4,
  "nbformat_minor": 0,
  "metadata": {
    "kernelspec": {
      "name": "python3",
      "display_name": "Python 3"
    },
    "language_info": {
      "codemirror_mode": {
        "name": "ipython",
        "version": 3
      },
      "file_extension": ".py",
      "mimetype": "text/x-python",
      "name": "python",
      "nbconvert_exporter": "python",
      "pygments_lexer": "ipython3",
      "version": "3.7.5"
    },
    "colab": {
      "name": "03_deep_learning_regression.ipynb",
      "provenance": [],
      "include_colab_link": true
    },
    "accelerator": "TPU"
  },
  "cells": [
    {
      "cell_type": "markdown",
      "metadata": {
        "id": "view-in-github",
        "colab_type": "text"
      },
      "source": [
        "<a href=\"https://colab.research.google.com/github/evan-paul-carey/deep-learning-workshop/blob/master/Course_materials/notebooks/colab/03_deep_learning_regression.ipynb\" target=\"_parent\"><img src=\"https://colab.research.google.com/assets/colab-badge.svg\" alt=\"Open In Colab\"/></a>"
      ]
    },
    {
      "cell_type": "markdown",
      "metadata": {
        "id": "CQL3otIySJUM",
        "colab_type": "text"
      },
      "source": [
        "# Deep learning with keras and tensorflow: RNN and regression models"
      ]
    },
    {
      "cell_type": "markdown",
      "metadata": {
        "id": "tPEnF4aBSJUO",
        "colab_type": "text"
      },
      "source": [
        "*Authors: Evan Carey*\n",
        "\n",
        "*Copyright 2019-2020, BH Analytics, LLC*"
      ]
    },
    {
      "cell_type": "markdown",
      "metadata": {
        "id": "mPod7wh3SJUP",
        "colab_type": "text"
      },
      "source": [
        "## Overview\n",
        "\n",
        "In this session, we will explore implementing an deep learning model with recurrent neural layers, often call an recurrent neural network (RNN). "
      ]
    },
    {
      "cell_type": "markdown",
      "metadata": {
        "id": "kBnOXYeXSJUP",
        "colab_type": "text"
      },
      "source": [
        "## Libraries\n",
        "\n",
        "First let's import the libraries we will be using."
      ]
    },
    {
      "cell_type": "code",
      "metadata": {
        "id": "76lWM7VLSJUQ",
        "colab_type": "code",
        "outputId": "0fab0688-5b97-4343-e3b9-e65f3791ee03",
        "colab": {
          "base_uri": "https://localhost:8080/",
          "height": 34
        }
      },
      "source": [
        "# colab specific code:\n",
        "try:\n",
        "  # %tensorflow_version only exists in Colab.\n",
        "  %tensorflow_version 2.x\n",
        "except Exception:\n",
        "  pass\n",
        "\n",
        "\n",
        "import sys\n",
        "import numpy as np\n",
        "import pandas as pd\n",
        "import matplotlib\n",
        "import matplotlib.pyplot as plt\n",
        "import seaborn as sns\n",
        "import tensorflow as tf"
      ],
      "execution_count": 0,
      "outputs": [
        {
          "output_type": "stream",
          "text": [
            "TensorFlow 2.x selected.\n"
          ],
          "name": "stdout"
        }
      ]
    },
    {
      "cell_type": "code",
      "metadata": {
        "id": "hYrFvQgWSJUS",
        "colab_type": "code",
        "colab": {}
      },
      "source": [
        "# Set default figure size to be larger\n",
        "# this may only work in matplotlib 2.0+!\n",
        "from IPython.core.interactiveshell import InteractiveShell\n",
        "matplotlib.rcParams['figure.figsize'] = [10.0, 6.0]\n",
        "# Enable multiple outputs from jupyter cells\n",
        "InteractiveShell.ast_node_interactivity = \"all\""
      ],
      "execution_count": 0,
      "outputs": []
    },
    {
      "cell_type": "code",
      "metadata": {
        "id": "U7_xEzYGSJUU",
        "colab_type": "code",
        "outputId": "05f8eb60-e398-4212-b945-6a94b34cfb6c",
        "colab": {
          "base_uri": "https://localhost:8080/",
          "height": 86
        }
      },
      "source": [
        "# Get Version information\n",
        "print(\"Pandas version: {0}\".format(pd.__version__))\n",
        "print(\"Matplotlib version: {0}\".format(matplotlib.__version__))\n",
        "print(\"Numpy version: {0}\".format(np.__version__))\n",
        "print(\"Tensorflow version: {0}\".format(tf.__version__))"
      ],
      "execution_count": 0,
      "outputs": [
        {
          "output_type": "stream",
          "text": [
            "Pandas version: 0.25.3\n",
            "Matplotlib version: 3.1.2\n",
            "Numpy version: 1.17.4\n",
            "Tensorflow version: 2.1.0-rc1\n"
          ],
          "name": "stdout"
        }
      ]
    },
    {
      "cell_type": "markdown",
      "metadata": {
        "id": "9cOxGRZ0SJUX",
        "colab_type": "text"
      },
      "source": [
        " ## Concrete Compressive Strength Data"
      ]
    },
    {
      "cell_type": "markdown",
      "metadata": {
        "id": "ARTZIEKXSJUY",
        "colab_type": "text"
      },
      "source": [
        "We will use a classic dataset examining variation in concrete compressive strength as a function of various ingredients used in the manufacturing process. The outcome is compressive strength, a continuous variable. There are 8 inputs and 1030 rows. \n",
        "\n",
        "-  Cement (component 1) -- quantitative -- kg in a m3 mixture -- Input Variable\n",
        "-  Blast Furnace Slag (component 2) -- quantitative -- kg in a m3 mixture -- Input Variable\n",
        "-  Fly Ash (component 3) -- quantitative -- kg in a m3 mixture -- Input Variable\n",
        "-  Water (component 4) -- quantitative -- kg in a m3 mixture -- Input Variable\n",
        "-  Superplasticizer (component 5) -- quantitative -- kg in a m3 mixture -- Input Variable\n",
        "-  Coarse Aggregate (component 6) -- quantitative -- kg in a m3 mixture -- Input Variable\n",
        "-  Fine Aggregate (component 7) -- quantitative -- kg in a m3 mixture -- Input Variable\n",
        "-  Age -- quantitative -- Day (1~365) -- Input Variable\n",
        "\n",
        "Here is the reference for the data:\n",
        "\n",
        ">  I-Cheng Yeh, \"Modeling of strength of high performance concrete using artificial neural networks,\" Cement and Concrete Research, Vol. 28, No. 12, pp. 1797-1808 (1998)\n",
        "\n",
        "Check the readme for more details on this dataset. \n"
      ]
    },
    {
      "cell_type": "code",
      "metadata": {
        "scrolled": true,
        "id": "n9U-s6gESJUZ",
        "colab_type": "code",
        "outputId": "1a36816a-d3d4-4d1e-fa6f-9de38db9957c",
        "colab": {
          "base_uri": "https://localhost:8080/",
          "height": 518
        }
      },
      "source": [
        "# import the dataset\n",
        "url = r'https://raw.githubusercontent.com/evan-paul-carey/deep-learning-workshop/master/Course_materials/data/concrete.csv'\n",
        "concrete_source = \\\n",
        "    pd.read_csv(url)\n",
        "concrete_source.head()\n",
        "concrete_source.tail()"
      ],
      "execution_count": 0,
      "outputs": [
        {
          "output_type": "execute_result",
          "data": {
            "text/html": [
              "<div>\n",
              "<style scoped>\n",
              "    .dataframe tbody tr th:only-of-type {\n",
              "        vertical-align: middle;\n",
              "    }\n",
              "\n",
              "    .dataframe tbody tr th {\n",
              "        vertical-align: top;\n",
              "    }\n",
              "\n",
              "    .dataframe thead th {\n",
              "        text-align: right;\n",
              "    }\n",
              "</style>\n",
              "<table border=\"1\" class=\"dataframe\">\n",
              "  <thead>\n",
              "    <tr style=\"text-align: right;\">\n",
              "      <th></th>\n",
              "      <th>Cement (component 1)(kg in a m^3 mixture)</th>\n",
              "      <th>Blast Furnace Slag (component 2)(kg in a m^3 mixture)</th>\n",
              "      <th>Fly Ash (component 3)(kg in a m^3 mixture)</th>\n",
              "      <th>Water  (component 4)(kg in a m^3 mixture)</th>\n",
              "      <th>Superplasticizer (component 5)(kg in a m^3 mixture)</th>\n",
              "      <th>Coarse Aggregate  (component 6)(kg in a m^3 mixture)</th>\n",
              "      <th>Fine Aggregate (component 7)(kg in a m^3 mixture)</th>\n",
              "      <th>Age (day)</th>\n",
              "      <th>Concrete compressive strength(MPa, megapascals)</th>\n",
              "    </tr>\n",
              "  </thead>\n",
              "  <tbody>\n",
              "    <tr>\n",
              "      <th>0</th>\n",
              "      <td>540.0</td>\n",
              "      <td>0.0</td>\n",
              "      <td>0.0</td>\n",
              "      <td>162.0</td>\n",
              "      <td>2.5</td>\n",
              "      <td>1040.0</td>\n",
              "      <td>676.0</td>\n",
              "      <td>28</td>\n",
              "      <td>79.986111</td>\n",
              "    </tr>\n",
              "    <tr>\n",
              "      <th>1</th>\n",
              "      <td>540.0</td>\n",
              "      <td>0.0</td>\n",
              "      <td>0.0</td>\n",
              "      <td>162.0</td>\n",
              "      <td>2.5</td>\n",
              "      <td>1055.0</td>\n",
              "      <td>676.0</td>\n",
              "      <td>28</td>\n",
              "      <td>61.887366</td>\n",
              "    </tr>\n",
              "    <tr>\n",
              "      <th>2</th>\n",
              "      <td>332.5</td>\n",
              "      <td>142.5</td>\n",
              "      <td>0.0</td>\n",
              "      <td>228.0</td>\n",
              "      <td>0.0</td>\n",
              "      <td>932.0</td>\n",
              "      <td>594.0</td>\n",
              "      <td>270</td>\n",
              "      <td>40.269535</td>\n",
              "    </tr>\n",
              "    <tr>\n",
              "      <th>3</th>\n",
              "      <td>332.5</td>\n",
              "      <td>142.5</td>\n",
              "      <td>0.0</td>\n",
              "      <td>228.0</td>\n",
              "      <td>0.0</td>\n",
              "      <td>932.0</td>\n",
              "      <td>594.0</td>\n",
              "      <td>365</td>\n",
              "      <td>41.052780</td>\n",
              "    </tr>\n",
              "    <tr>\n",
              "      <th>4</th>\n",
              "      <td>198.6</td>\n",
              "      <td>132.4</td>\n",
              "      <td>0.0</td>\n",
              "      <td>192.0</td>\n",
              "      <td>0.0</td>\n",
              "      <td>978.4</td>\n",
              "      <td>825.5</td>\n",
              "      <td>360</td>\n",
              "      <td>44.296075</td>\n",
              "    </tr>\n",
              "  </tbody>\n",
              "</table>\n",
              "</div>"
            ],
            "text/plain": [
              "   Cement (component 1)(kg in a m^3 mixture)  ...  Concrete compressive strength(MPa, megapascals) \n",
              "0                                      540.0  ...                                         79.986111\n",
              "1                                      540.0  ...                                         61.887366\n",
              "2                                      332.5  ...                                         40.269535\n",
              "3                                      332.5  ...                                         41.052780\n",
              "4                                      198.6  ...                                         44.296075\n",
              "\n",
              "[5 rows x 9 columns]"
            ]
          },
          "metadata": {
            "tags": []
          },
          "execution_count": 4
        },
        {
          "output_type": "execute_result",
          "data": {
            "text/html": [
              "<div>\n",
              "<style scoped>\n",
              "    .dataframe tbody tr th:only-of-type {\n",
              "        vertical-align: middle;\n",
              "    }\n",
              "\n",
              "    .dataframe tbody tr th {\n",
              "        vertical-align: top;\n",
              "    }\n",
              "\n",
              "    .dataframe thead th {\n",
              "        text-align: right;\n",
              "    }\n",
              "</style>\n",
              "<table border=\"1\" class=\"dataframe\">\n",
              "  <thead>\n",
              "    <tr style=\"text-align: right;\">\n",
              "      <th></th>\n",
              "      <th>Cement (component 1)(kg in a m^3 mixture)</th>\n",
              "      <th>Blast Furnace Slag (component 2)(kg in a m^3 mixture)</th>\n",
              "      <th>Fly Ash (component 3)(kg in a m^3 mixture)</th>\n",
              "      <th>Water  (component 4)(kg in a m^3 mixture)</th>\n",
              "      <th>Superplasticizer (component 5)(kg in a m^3 mixture)</th>\n",
              "      <th>Coarse Aggregate  (component 6)(kg in a m^3 mixture)</th>\n",
              "      <th>Fine Aggregate (component 7)(kg in a m^3 mixture)</th>\n",
              "      <th>Age (day)</th>\n",
              "      <th>Concrete compressive strength(MPa, megapascals)</th>\n",
              "    </tr>\n",
              "  </thead>\n",
              "  <tbody>\n",
              "    <tr>\n",
              "      <th>1025</th>\n",
              "      <td>276.4</td>\n",
              "      <td>116.0</td>\n",
              "      <td>90.3</td>\n",
              "      <td>179.6</td>\n",
              "      <td>8.9</td>\n",
              "      <td>870.1</td>\n",
              "      <td>768.3</td>\n",
              "      <td>28</td>\n",
              "      <td>44.284354</td>\n",
              "    </tr>\n",
              "    <tr>\n",
              "      <th>1026</th>\n",
              "      <td>322.2</td>\n",
              "      <td>0.0</td>\n",
              "      <td>115.6</td>\n",
              "      <td>196.0</td>\n",
              "      <td>10.4</td>\n",
              "      <td>817.9</td>\n",
              "      <td>813.4</td>\n",
              "      <td>28</td>\n",
              "      <td>31.178794</td>\n",
              "    </tr>\n",
              "    <tr>\n",
              "      <th>1027</th>\n",
              "      <td>148.5</td>\n",
              "      <td>139.4</td>\n",
              "      <td>108.6</td>\n",
              "      <td>192.7</td>\n",
              "      <td>6.1</td>\n",
              "      <td>892.4</td>\n",
              "      <td>780.0</td>\n",
              "      <td>28</td>\n",
              "      <td>23.696601</td>\n",
              "    </tr>\n",
              "    <tr>\n",
              "      <th>1028</th>\n",
              "      <td>159.1</td>\n",
              "      <td>186.7</td>\n",
              "      <td>0.0</td>\n",
              "      <td>175.6</td>\n",
              "      <td>11.3</td>\n",
              "      <td>989.6</td>\n",
              "      <td>788.9</td>\n",
              "      <td>28</td>\n",
              "      <td>32.768036</td>\n",
              "    </tr>\n",
              "    <tr>\n",
              "      <th>1029</th>\n",
              "      <td>260.9</td>\n",
              "      <td>100.5</td>\n",
              "      <td>78.3</td>\n",
              "      <td>200.6</td>\n",
              "      <td>8.6</td>\n",
              "      <td>864.5</td>\n",
              "      <td>761.5</td>\n",
              "      <td>28</td>\n",
              "      <td>32.401235</td>\n",
              "    </tr>\n",
              "  </tbody>\n",
              "</table>\n",
              "</div>"
            ],
            "text/plain": [
              "      Cement (component 1)(kg in a m^3 mixture)  ...  Concrete compressive strength(MPa, megapascals) \n",
              "1025                                      276.4  ...                                         44.284354\n",
              "1026                                      322.2  ...                                         31.178794\n",
              "1027                                      148.5  ...                                         23.696601\n",
              "1028                                      159.1  ...                                         32.768036\n",
              "1029                                      260.9  ...                                         32.401235\n",
              "\n",
              "[5 rows x 9 columns]"
            ]
          },
          "metadata": {
            "tags": []
          },
          "execution_count": 4
        }
      ]
    },
    {
      "cell_type": "code",
      "metadata": {
        "id": "urjdp-Z6SJUb",
        "colab_type": "code",
        "outputId": "85debf4b-5bca-4cd2-a634-51e8bc2d06e9",
        "colab": {
          "base_uri": "https://localhost:8080/",
          "height": 198
        }
      },
      "source": [
        "# rename the variables to make life easier ;)\n",
        "# use the re module\n",
        "# look for paranthesis, only keep first part\n",
        "import re\n",
        "temp_names = [re.split(' *\\(', x)[0] for x in concrete_source.columns]\n",
        "# sub spaces for underscores\n",
        "concrete_source.columns = [re.sub(' +', '_', x) for x in temp_names]\n",
        "concrete_source.head()"
      ],
      "execution_count": 0,
      "outputs": [
        {
          "output_type": "execute_result",
          "data": {
            "text/html": [
              "<div>\n",
              "<style scoped>\n",
              "    .dataframe tbody tr th:only-of-type {\n",
              "        vertical-align: middle;\n",
              "    }\n",
              "\n",
              "    .dataframe tbody tr th {\n",
              "        vertical-align: top;\n",
              "    }\n",
              "\n",
              "    .dataframe thead th {\n",
              "        text-align: right;\n",
              "    }\n",
              "</style>\n",
              "<table border=\"1\" class=\"dataframe\">\n",
              "  <thead>\n",
              "    <tr style=\"text-align: right;\">\n",
              "      <th></th>\n",
              "      <th>Cement</th>\n",
              "      <th>Blast_Furnace_Slag</th>\n",
              "      <th>Fly_Ash</th>\n",
              "      <th>Water</th>\n",
              "      <th>Superplasticizer</th>\n",
              "      <th>Coarse_Aggregate</th>\n",
              "      <th>Fine_Aggregate</th>\n",
              "      <th>Age</th>\n",
              "      <th>Concrete_compressive_strength</th>\n",
              "    </tr>\n",
              "  </thead>\n",
              "  <tbody>\n",
              "    <tr>\n",
              "      <th>0</th>\n",
              "      <td>540.0</td>\n",
              "      <td>0.0</td>\n",
              "      <td>0.0</td>\n",
              "      <td>162.0</td>\n",
              "      <td>2.5</td>\n",
              "      <td>1040.0</td>\n",
              "      <td>676.0</td>\n",
              "      <td>28</td>\n",
              "      <td>79.986111</td>\n",
              "    </tr>\n",
              "    <tr>\n",
              "      <th>1</th>\n",
              "      <td>540.0</td>\n",
              "      <td>0.0</td>\n",
              "      <td>0.0</td>\n",
              "      <td>162.0</td>\n",
              "      <td>2.5</td>\n",
              "      <td>1055.0</td>\n",
              "      <td>676.0</td>\n",
              "      <td>28</td>\n",
              "      <td>61.887366</td>\n",
              "    </tr>\n",
              "    <tr>\n",
              "      <th>2</th>\n",
              "      <td>332.5</td>\n",
              "      <td>142.5</td>\n",
              "      <td>0.0</td>\n",
              "      <td>228.0</td>\n",
              "      <td>0.0</td>\n",
              "      <td>932.0</td>\n",
              "      <td>594.0</td>\n",
              "      <td>270</td>\n",
              "      <td>40.269535</td>\n",
              "    </tr>\n",
              "    <tr>\n",
              "      <th>3</th>\n",
              "      <td>332.5</td>\n",
              "      <td>142.5</td>\n",
              "      <td>0.0</td>\n",
              "      <td>228.0</td>\n",
              "      <td>0.0</td>\n",
              "      <td>932.0</td>\n",
              "      <td>594.0</td>\n",
              "      <td>365</td>\n",
              "      <td>41.052780</td>\n",
              "    </tr>\n",
              "    <tr>\n",
              "      <th>4</th>\n",
              "      <td>198.6</td>\n",
              "      <td>132.4</td>\n",
              "      <td>0.0</td>\n",
              "      <td>192.0</td>\n",
              "      <td>0.0</td>\n",
              "      <td>978.4</td>\n",
              "      <td>825.5</td>\n",
              "      <td>360</td>\n",
              "      <td>44.296075</td>\n",
              "    </tr>\n",
              "  </tbody>\n",
              "</table>\n",
              "</div>"
            ],
            "text/plain": [
              "   Cement  Blast_Furnace_Slag  ...  Age  Concrete_compressive_strength\n",
              "0   540.0                 0.0  ...   28                      79.986111\n",
              "1   540.0                 0.0  ...   28                      61.887366\n",
              "2   332.5               142.5  ...  270                      40.269535\n",
              "3   332.5               142.5  ...  365                      41.052780\n",
              "4   198.6               132.4  ...  360                      44.296075\n",
              "\n",
              "[5 rows x 9 columns]"
            ]
          },
          "metadata": {
            "tags": []
          },
          "execution_count": 5
        }
      ]
    },
    {
      "cell_type": "markdown",
      "metadata": {
        "id": "H79LDmxKSJUe",
        "colab_type": "text"
      },
      "source": [
        "Since we have no categorical data, we can just use the `.describe()` method"
      ]
    },
    {
      "cell_type": "code",
      "metadata": {
        "id": "qEl0JcG6SJUe",
        "colab_type": "code",
        "outputId": "620ae11d-ca84-4efe-ceb0-63eab6eca16f",
        "colab": {
          "base_uri": "https://localhost:8080/",
          "height": 308
        }
      },
      "source": [
        "# Describe all the data\n",
        "concrete_source.describe(include='all')"
      ],
      "execution_count": 0,
      "outputs": [
        {
          "output_type": "execute_result",
          "data": {
            "text/html": [
              "<div>\n",
              "<style scoped>\n",
              "    .dataframe tbody tr th:only-of-type {\n",
              "        vertical-align: middle;\n",
              "    }\n",
              "\n",
              "    .dataframe tbody tr th {\n",
              "        vertical-align: top;\n",
              "    }\n",
              "\n",
              "    .dataframe thead th {\n",
              "        text-align: right;\n",
              "    }\n",
              "</style>\n",
              "<table border=\"1\" class=\"dataframe\">\n",
              "  <thead>\n",
              "    <tr style=\"text-align: right;\">\n",
              "      <th></th>\n",
              "      <th>Cement</th>\n",
              "      <th>Blast_Furnace_Slag</th>\n",
              "      <th>Fly_Ash</th>\n",
              "      <th>Water</th>\n",
              "      <th>Superplasticizer</th>\n",
              "      <th>Coarse_Aggregate</th>\n",
              "      <th>Fine_Aggregate</th>\n",
              "      <th>Age</th>\n",
              "      <th>Concrete_compressive_strength</th>\n",
              "    </tr>\n",
              "  </thead>\n",
              "  <tbody>\n",
              "    <tr>\n",
              "      <th>count</th>\n",
              "      <td>1030.000000</td>\n",
              "      <td>1030.000000</td>\n",
              "      <td>1030.000000</td>\n",
              "      <td>1030.000000</td>\n",
              "      <td>1030.000000</td>\n",
              "      <td>1030.000000</td>\n",
              "      <td>1030.000000</td>\n",
              "      <td>1030.000000</td>\n",
              "      <td>1030.000000</td>\n",
              "    </tr>\n",
              "    <tr>\n",
              "      <th>mean</th>\n",
              "      <td>281.165631</td>\n",
              "      <td>73.895485</td>\n",
              "      <td>54.187136</td>\n",
              "      <td>181.566359</td>\n",
              "      <td>6.203112</td>\n",
              "      <td>972.918592</td>\n",
              "      <td>773.578883</td>\n",
              "      <td>45.662136</td>\n",
              "      <td>35.817836</td>\n",
              "    </tr>\n",
              "    <tr>\n",
              "      <th>std</th>\n",
              "      <td>104.507142</td>\n",
              "      <td>86.279104</td>\n",
              "      <td>63.996469</td>\n",
              "      <td>21.355567</td>\n",
              "      <td>5.973492</td>\n",
              "      <td>77.753818</td>\n",
              "      <td>80.175427</td>\n",
              "      <td>63.169912</td>\n",
              "      <td>16.705679</td>\n",
              "    </tr>\n",
              "    <tr>\n",
              "      <th>min</th>\n",
              "      <td>102.000000</td>\n",
              "      <td>0.000000</td>\n",
              "      <td>0.000000</td>\n",
              "      <td>121.750000</td>\n",
              "      <td>0.000000</td>\n",
              "      <td>801.000000</td>\n",
              "      <td>594.000000</td>\n",
              "      <td>1.000000</td>\n",
              "      <td>2.331808</td>\n",
              "    </tr>\n",
              "    <tr>\n",
              "      <th>25%</th>\n",
              "      <td>192.375000</td>\n",
              "      <td>0.000000</td>\n",
              "      <td>0.000000</td>\n",
              "      <td>164.900000</td>\n",
              "      <td>0.000000</td>\n",
              "      <td>932.000000</td>\n",
              "      <td>730.950000</td>\n",
              "      <td>7.000000</td>\n",
              "      <td>23.707115</td>\n",
              "    </tr>\n",
              "    <tr>\n",
              "      <th>50%</th>\n",
              "      <td>272.900000</td>\n",
              "      <td>22.000000</td>\n",
              "      <td>0.000000</td>\n",
              "      <td>185.000000</td>\n",
              "      <td>6.350000</td>\n",
              "      <td>968.000000</td>\n",
              "      <td>779.510000</td>\n",
              "      <td>28.000000</td>\n",
              "      <td>34.442774</td>\n",
              "    </tr>\n",
              "    <tr>\n",
              "      <th>75%</th>\n",
              "      <td>350.000000</td>\n",
              "      <td>142.950000</td>\n",
              "      <td>118.270000</td>\n",
              "      <td>192.000000</td>\n",
              "      <td>10.160000</td>\n",
              "      <td>1029.400000</td>\n",
              "      <td>824.000000</td>\n",
              "      <td>56.000000</td>\n",
              "      <td>46.136287</td>\n",
              "    </tr>\n",
              "    <tr>\n",
              "      <th>max</th>\n",
              "      <td>540.000000</td>\n",
              "      <td>359.400000</td>\n",
              "      <td>200.100000</td>\n",
              "      <td>247.000000</td>\n",
              "      <td>32.200000</td>\n",
              "      <td>1145.000000</td>\n",
              "      <td>992.600000</td>\n",
              "      <td>365.000000</td>\n",
              "      <td>82.599225</td>\n",
              "    </tr>\n",
              "  </tbody>\n",
              "</table>\n",
              "</div>"
            ],
            "text/plain": [
              "            Cement  ...  Concrete_compressive_strength\n",
              "count  1030.000000  ...                    1030.000000\n",
              "mean    281.165631  ...                      35.817836\n",
              "std     104.507142  ...                      16.705679\n",
              "min     102.000000  ...                       2.331808\n",
              "25%     192.375000  ...                      23.707115\n",
              "50%     272.900000  ...                      34.442774\n",
              "75%     350.000000  ...                      46.136287\n",
              "max     540.000000  ...                      82.599225\n",
              "\n",
              "[8 rows x 9 columns]"
            ]
          },
          "metadata": {
            "tags": []
          },
          "execution_count": 6
        }
      ]
    },
    {
      "cell_type": "markdown",
      "metadata": {
        "id": "nZGFuxw9SJUh",
        "colab_type": "text"
      },
      "source": [
        "We will check for missing as well:"
      ]
    },
    {
      "cell_type": "code",
      "metadata": {
        "id": "4LzKzzvGSJUi",
        "colab_type": "code",
        "outputId": "42acf5bb-81d7-4643-8c5e-284b3fff1729",
        "colab": {
          "base_uri": "https://localhost:8080/",
          "height": 190
        }
      },
      "source": [
        "# summarize missing by column\n",
        "concrete_source.isna().sum()"
      ],
      "execution_count": 0,
      "outputs": [
        {
          "output_type": "execute_result",
          "data": {
            "text/plain": [
              "Cement                           0\n",
              "Blast_Furnace_Slag               0\n",
              "Fly_Ash                          0\n",
              "Water                            0\n",
              "Superplasticizer                 0\n",
              "Coarse_Aggregate                 0\n",
              "Fine_Aggregate                   0\n",
              "Age                              0\n",
              "Concrete_compressive_strength    0\n",
              "dtype: int64"
            ]
          },
          "metadata": {
            "tags": []
          },
          "execution_count": 7
        }
      ]
    },
    {
      "cell_type": "markdown",
      "metadata": {
        "id": "cuDkDWD7SJUk",
        "colab_type": "text"
      },
      "source": [
        "We can see there is no missing data. The average compressive strength is 35.8, but the minimum is 2.3 while the max is 82.5. We want to implement a neural network that captures the non-linear and interactions in these inputs and then predicts compressive strength as a function of the inputs. "
      ]
    },
    {
      "cell_type": "code",
      "metadata": {
        "id": "_KB26m7PSJUl",
        "colab_type": "code",
        "outputId": "1774bb14-03ac-4470-951a-57b1b6d999fe",
        "colab": {
          "base_uri": "https://localhost:8080/",
          "height": 406
        }
      },
      "source": [
        "# check the distribution of the outcome\n",
        "sns.distplot(concrete_source['Concrete_compressive_strength'])"
      ],
      "execution_count": 0,
      "outputs": [
        {
          "output_type": "execute_result",
          "data": {
            "text/plain": [
              "<matplotlib.axes._subplots.AxesSubplot at 0x7f90a623e208>"
            ]
          },
          "metadata": {
            "tags": []
          },
          "execution_count": 8
        },
        {
          "output_type": "display_data",
          "data": {
            "image/png": "[encoded data removed]",
            "text/plain": [
              "<Figure size 720x432 with 1 Axes>"
            ]
          },
          "metadata": {
            "tags": []
          }
        }
      ]
    },
    {
      "cell_type": "markdown",
      "metadata": {
        "id": "NYbK-auDSJUn",
        "colab_type": "text"
      },
      "source": [
        "## Setting up a traing/validation/testing dataset"
      ]
    },
    {
      "cell_type": "markdown",
      "metadata": {
        "id": "29gEE_TFSJUn",
        "colab_type": "text"
      },
      "source": [
        "Recall our goal in machine learning in general - to develop an algorithm that minimizes **generalization error**.\n",
        "\n",
        "However, we can't directly observe **generalization error**, since it is based on out of sample data. \n",
        "\n",
        "We need to set up a separate training and testing dataset for our models. We will use the training dataset to train model parameters, then use the the testing dataset to estimate generalization error (instead of training error). I will use a random subset of the data in this case.\n",
        "\n",
        "> Other options can include leveraging time series elements of our data (if present), or leveraging clusters in our data (like stores, or plants, or customers). However we don't have those elements in this dataset, so we will use a random subset. "
      ]
    },
    {
      "cell_type": "code",
      "metadata": {
        "id": "XzaeJPicSJUo",
        "colab_type": "code",
        "outputId": "0fde89e7-7a88-4692-8f68-a80a1d4f7641",
        "colab": {
          "base_uri": "https://localhost:8080/",
          "height": 52
        }
      },
      "source": [
        "# initial split - default is to shuffle data and randomly split\n",
        "concrete_train = concrete_source.sample(frac=0.8,\n",
        "                                       random_state=0)\n",
        "concrete_test = concrete_source.drop(concrete_train.index)\n",
        "# check dims\n",
        "print('training data size:', concrete_train.shape)\n",
        "print('testing data size:', concrete_test.shape)"
      ],
      "execution_count": 0,
      "outputs": [
        {
          "output_type": "stream",
          "text": [
            "training data size: (824, 9)\n",
            "testing data size: (206, 9)\n"
          ],
          "name": "stdout"
        }
      ]
    },
    {
      "cell_type": "markdown",
      "metadata": {
        "id": "JjBLJleiSJUp",
        "colab_type": "text"
      },
      "source": [
        "## Convert to numpy objects"
      ]
    },
    {
      "cell_type": "markdown",
      "metadata": {
        "id": "kCRba2leSJUq",
        "colab_type": "text"
      },
      "source": [
        "We need to end up with numpy X and Y matrices to use as inputs to the keras workflow. There are a number of possible ways to do this. In this case, we have no categorical variables, so it is a bit easier. If there were categorical variables we would need to decide how to represent them as numbers. I good choice would be one hot encoding, or dummy coding. You could use  the `get_dummies()` function from `Pandas`, or the `patsy` package to adopt an R-style formula interface to generate the appropriate matrices (or other ways). "
      ]
    },
    {
      "cell_type": "code",
      "metadata": {
        "id": "S_GdYk0pSJUr",
        "colab_type": "code",
        "colab": {}
      },
      "source": [
        "# pd.get_dummies()\n",
        "## create numpy arrays from the target and inputs\n",
        "Y_train = concrete_train.pop('Concrete_compressive_strength').values\n",
        "Y_test = concrete_test.pop('Concrete_compressive_strength').values\n",
        "X_train = concrete_train.values\n",
        "X_test = concrete_test.values"
      ],
      "execution_count": 0,
      "outputs": []
    },
    {
      "cell_type": "markdown",
      "metadata": {
        "id": "fF_93CeTSJUs",
        "colab_type": "text"
      },
      "source": [
        "## Build the first keras model"
      ]
    },
    {
      "cell_type": "markdown",
      "metadata": {
        "id": "zvhfEx1OSJUt",
        "colab_type": "text"
      },
      "source": [
        "We will start with the equivalent model to a linear regression. The recommended default optimizer to use is `rmsprop`, so we will start there. \n",
        "\n",
        "> Notice that I am using the tensorflow.keras module instead of just keras. These are slightly different - tensorflow had imported the keras API into their library. There are minor differences, so this is important to note!"
      ]
    },
    {
      "cell_type": "code",
      "metadata": {
        "id": "ZybOkn0LSJUt",
        "colab_type": "code",
        "colab": {}
      },
      "source": [
        "# import needed parts\n",
        "from tensorflow.keras.layers import Dense\n",
        "from tensorflow.keras import Sequential\n",
        "# build a simple linear model\n",
        "\n",
        "\n",
        "def build_model1():\n",
        "    model = Sequential()\n",
        "    model.add(Dense(1,\n",
        "                    activation='linear',\n",
        "                    input_dim=X_train.shape[1]))\n",
        "    model.compile(optimizer='rmsprop',\n",
        "                  loss='mse',  # mean squared error\n",
        "                  metrics=['mae'])  # mean absolute error\n",
        "    return model"
      ],
      "execution_count": 0,
      "outputs": []
    },
    {
      "cell_type": "markdown",
      "metadata": {
        "id": "wD6bf6kGSJUv",
        "colab_type": "text"
      },
      "source": [
        "We will need to scale the training and testing data in a consistent manner. Let's use the sklearn `StandardScaler()` to accomplish this. This will apply the same transformation (based on the initial `.fit()` call) to subsequent datasets. "
      ]
    },
    {
      "cell_type": "code",
      "metadata": {
        "id": "ED4QRoEZSJUv",
        "colab_type": "code",
        "colab": {}
      },
      "source": [
        "# Capture mean and stdev\n",
        "# we will want to use this mean and stdev on future data!\n",
        "x_mean = np.mean(X_train,axis=0) # column means\n",
        "x_std = np.std(X_train,axis=0) # column std"
      ],
      "execution_count": 0,
      "outputs": []
    },
    {
      "cell_type": "code",
      "metadata": {
        "id": "FLtxdWjaSJUx",
        "colab_type": "code",
        "colab": {}
      },
      "source": [
        "# write function to normalize\n",
        "def norm(x,mean,std):\n",
        "  return (x - mean) / std"
      ],
      "execution_count": 0,
      "outputs": []
    },
    {
      "cell_type": "code",
      "metadata": {
        "id": "Ug-PkfImSJUz",
        "colab_type": "code",
        "outputId": "17837d65-a0e9-40b8-d0fe-aba07cd17e68",
        "colab": {
          "base_uri": "https://localhost:8080/",
          "height": 86
        }
      },
      "source": [
        "# normalize the x values\n",
        "X_train_s = norm(X_train,x_mean,x_std)\n",
        "# check this worked!\n",
        "# means should be zero, std should be 1\n",
        "print('Column means are:')\n",
        "np.mean(X_train_s,axis=0)\n",
        "print('Column stdev are:')\n",
        "np.std(X_train_s,axis=0)"
      ],
      "execution_count": 0,
      "outputs": [
        {
          "output_type": "stream",
          "text": [
            "Column means are:\n"
          ],
          "name": "stdout"
        },
        {
          "output_type": "execute_result",
          "data": {
            "text/plain": [
              "array([ 2.43602334e-16, -1.25034826e-16,  8.62309145e-17, -6.88769430e-16,\n",
              "        1.55215646e-16,  1.13178075e-16, -9.45306401e-16,  3.66481387e-17])"
            ]
          },
          "metadata": {
            "tags": []
          },
          "execution_count": 14
        },
        {
          "output_type": "stream",
          "text": [
            "Column stdev are:\n"
          ],
          "name": "stdout"
        },
        {
          "output_type": "execute_result",
          "data": {
            "text/plain": [
              "array([1., 1., 1., 1., 1., 1., 1., 1.])"
            ]
          },
          "metadata": {
            "tags": []
          },
          "execution_count": 14
        }
      ]
    },
    {
      "cell_type": "markdown",
      "metadata": {
        "id": "aR0yrgAHSJU0",
        "colab_type": "text"
      },
      "source": [
        "Now we can fit the model to the dataset and investigate the results."
      ]
    },
    {
      "cell_type": "code",
      "metadata": {
        "id": "SovDX4fxSJU1",
        "colab_type": "code",
        "outputId": "9bf8f1d9-fa0a-4444-d8ad-d48ff253d1b0",
        "colab": {
          "base_uri": "https://localhost:8080/",
          "height": 1000
        }
      },
      "source": [
        "# fit this model/architecture to my data\n",
        "regr1 = build_model1()\n",
        "regr1.fit(X_train_s,\n",
        "          Y_train,\n",
        "          epochs=40,\n",
        "          validation_split=0.2)"
      ],
      "execution_count": 0,
      "outputs": [
        {
          "output_type": "stream",
          "text": [
            "Train on 659 samples, validate on 165 samples\n",
            "Epoch 1/40\n",
            "659/659 [==============================] - 1s 864us/sample - loss: 1540.0196 - mae: 35.4108 - val_loss: 1665.6004 - val_mae: 36.9642\n",
            "Epoch 2/40\n",
            "659/659 [==============================] - 0s 97us/sample - loss: 1537.4981 - mae: 35.3866 - val_loss: 1663.0809 - val_mae: 36.9418\n",
            "Epoch 3/40\n",
            "659/659 [==============================] - 0s 77us/sample - loss: 1535.2056 - mae: 35.3658 - val_loss: 1660.6014 - val_mae: 36.9199\n",
            "Epoch 4/40\n",
            "659/659 [==============================] - 0s 63us/sample - loss: 1532.9408 - mae: 35.3454 - val_loss: 1658.1205 - val_mae: 36.8981\n",
            "Epoch 5/40\n",
            "659/659 [==============================] - 0s 69us/sample - loss: 1530.7254 - mae: 35.3249 - val_loss: 1655.7733 - val_mae: 36.8763\n",
            "Epoch 6/40\n",
            "659/659 [==============================] - 0s 64us/sample - loss: 1528.5650 - mae: 35.3037 - val_loss: 1653.3739 - val_mae: 36.8543\n",
            "Epoch 7/40\n",
            "659/659 [==============================] - 0s 68us/sample - loss: 1526.3798 - mae: 35.2829 - val_loss: 1651.0161 - val_mae: 36.8326\n",
            "Epoch 8/40\n",
            "659/659 [==============================] - 0s 59us/sample - loss: 1524.2151 - mae: 35.2628 - val_loss: 1648.6208 - val_mae: 36.8108\n",
            "Epoch 9/40\n",
            "659/659 [==============================] - 0s 72us/sample - loss: 1522.0149 - mae: 35.2421 - val_loss: 1646.1951 - val_mae: 36.7890\n",
            "Epoch 10/40\n",
            "659/659 [==============================] - 0s 71us/sample - loss: 1519.7775 - mae: 35.2213 - val_loss: 1643.7267 - val_mae: 36.7669\n",
            "Epoch 11/40\n",
            "659/659 [==============================] - 0s 63us/sample - loss: 1517.5764 - mae: 35.2011 - val_loss: 1641.4019 - val_mae: 36.7453\n",
            "Epoch 12/40\n",
            "659/659 [==============================] - 0s 65us/sample - loss: 1515.4275 - mae: 35.1802 - val_loss: 1639.0116 - val_mae: 36.7234\n",
            "Epoch 13/40\n",
            "659/659 [==============================] - 0s 60us/sample - loss: 1513.2198 - mae: 35.1595 - val_loss: 1636.5951 - val_mae: 36.7014\n",
            "Epoch 14/40\n",
            "659/659 [==============================] - 0s 74us/sample - loss: 1510.9815 - mae: 35.1386 - val_loss: 1634.1377 - val_mae: 36.6795\n",
            "Epoch 15/40\n",
            "659/659 [==============================] - 0s 66us/sample - loss: 1508.7885 - mae: 35.1183 - val_loss: 1631.7610 - val_mae: 36.6577\n",
            "Epoch 16/40\n",
            "659/659 [==============================] - 0s 70us/sample - loss: 1506.5941 - mae: 35.0976 - val_loss: 1629.3552 - val_mae: 36.6357\n",
            "Epoch 17/40\n",
            "659/659 [==============================] - 0s 72us/sample - loss: 1504.3911 - mae: 35.0768 - val_loss: 1626.9486 - val_mae: 36.6138\n",
            "Epoch 18/40\n",
            "659/659 [==============================] - 0s 65us/sample - loss: 1502.1747 - mae: 35.0561 - val_loss: 1624.4868 - val_mae: 36.5919\n",
            "Epoch 19/40\n",
            "659/659 [==============================] - 0s 70us/sample - loss: 1499.9592 - mae: 35.0352 - val_loss: 1622.0882 - val_mae: 36.5697\n",
            "Epoch 20/40\n",
            "659/659 [==============================] - 0s 72us/sample - loss: 1497.7824 - mae: 35.0143 - val_loss: 1619.6976 - val_mae: 36.5480\n",
            "Epoch 21/40\n",
            "659/659 [==============================] - 0s 64us/sample - loss: 1495.6189 - mae: 34.9943 - val_loss: 1617.4103 - val_mae: 36.5264\n",
            "Epoch 22/40\n",
            "659/659 [==============================] - 0s 67us/sample - loss: 1493.4920 - mae: 34.9730 - val_loss: 1615.0281 - val_mae: 36.5046\n",
            "Epoch 23/40\n",
            "659/659 [==============================] - 0s 69us/sample - loss: 1491.3321 - mae: 34.9527 - val_loss: 1612.6683 - val_mae: 36.4826\n",
            "Epoch 24/40\n",
            "659/659 [==============================] - 0s 76us/sample - loss: 1489.2080 - mae: 34.9323 - val_loss: 1610.3591 - val_mae: 36.4608\n",
            "Epoch 25/40\n",
            "659/659 [==============================] - 0s 67us/sample - loss: 1487.0465 - mae: 34.9116 - val_loss: 1608.0196 - val_mae: 36.4392\n",
            "Epoch 26/40\n",
            "659/659 [==============================] - 0s 64us/sample - loss: 1484.9091 - mae: 34.8907 - val_loss: 1605.6692 - val_mae: 36.4172\n",
            "Epoch 27/40\n",
            "659/659 [==============================] - 0s 69us/sample - loss: 1482.7495 - mae: 34.8695 - val_loss: 1603.3652 - val_mae: 36.3956\n",
            "Epoch 28/40\n",
            "659/659 [==============================] - 0s 62us/sample - loss: 1480.6228 - mae: 34.8489 - val_loss: 1601.0393 - val_mae: 36.3738\n",
            "Epoch 29/40\n",
            "659/659 [==============================] - 0s 72us/sample - loss: 1478.5034 - mae: 34.8284 - val_loss: 1598.6988 - val_mae: 36.3518\n",
            "Epoch 30/40\n",
            "659/659 [==============================] - 0s 64us/sample - loss: 1476.3512 - mae: 34.8078 - val_loss: 1596.3575 - val_mae: 36.3299\n",
            "Epoch 31/40\n",
            "659/659 [==============================] - 0s 73us/sample - loss: 1474.1826 - mae: 34.7863 - val_loss: 1593.9929 - val_mae: 36.3081\n",
            "Epoch 32/40\n",
            "659/659 [==============================] - 0s 70us/sample - loss: 1472.0866 - mae: 34.7662 - val_loss: 1591.7285 - val_mae: 36.2863\n",
            "Epoch 33/40\n",
            "659/659 [==============================] - 0s 71us/sample - loss: 1470.0051 - mae: 34.7453 - val_loss: 1589.5197 - val_mae: 36.2650\n",
            "Epoch 34/40\n",
            "659/659 [==============================] - 0s 61us/sample - loss: 1467.9317 - mae: 34.7248 - val_loss: 1587.2297 - val_mae: 36.2432\n",
            "Epoch 35/40\n",
            "659/659 [==============================] - 0s 71us/sample - loss: 1465.8226 - mae: 34.7042 - val_loss: 1584.9241 - val_mae: 36.2214\n",
            "Epoch 36/40\n",
            "659/659 [==============================] - 0s 61us/sample - loss: 1463.6695 - mae: 34.6834 - val_loss: 1582.5524 - val_mae: 36.1995\n",
            "Epoch 37/40\n",
            "659/659 [==============================] - 0s 72us/sample - loss: 1461.5250 - mae: 34.6633 - val_loss: 1580.2276 - val_mae: 36.1776\n",
            "Epoch 38/40\n",
            "659/659 [==============================] - 0s 65us/sample - loss: 1459.3955 - mae: 34.6422 - val_loss: 1577.8928 - val_mae: 36.1556\n",
            "Epoch 39/40\n",
            "659/659 [==============================] - 0s 61us/sample - loss: 1457.2745 - mae: 34.6216 - val_loss: 1575.6079 - val_mae: 36.1339\n",
            "Epoch 40/40\n",
            "659/659 [==============================] - 0s 64us/sample - loss: 1455.1906 - mae: 34.6004 - val_loss: 1573.3154 - val_mae: 36.1120\n"
          ],
          "name": "stdout"
        },
        {
          "output_type": "execute_result",
          "data": {
            "text/plain": [
              "<tensorflow.python.keras.callbacks.History at 0x7f90161e2b70>"
            ]
          },
          "metadata": {
            "tags": []
          },
          "execution_count": 15
        }
      ]
    },
    {
      "cell_type": "markdown",
      "metadata": {
        "id": "KjWxB-IrSJU3",
        "colab_type": "text"
      },
      "source": [
        "We can investigate the model object by asking for the layer weights (just the slope and one weight per input in this model) by asking for the model summary. "
      ]
    },
    {
      "cell_type": "code",
      "metadata": {
        "id": "gNqlaS4BSJU4",
        "colab_type": "code",
        "outputId": "640b7907-0b4d-485f-96aa-1e693265e3dd",
        "colab": {
          "base_uri": "https://localhost:8080/",
          "height": 190
        }
      },
      "source": [
        "# summarize model\n",
        "regr1.summary()"
      ],
      "execution_count": 0,
      "outputs": [
        {
          "output_type": "stream",
          "text": [
            "Model: \"sequential\"\n",
            "_________________________________________________________________\n",
            "Layer (type)                 Output Shape              Param #   \n",
            "=================================================================\n",
            "dense (Dense)                (None, 1)                 9         \n",
            "=================================================================\n",
            "Total params: 9\n",
            "Trainable params: 9\n",
            "Non-trainable params: 0\n",
            "_________________________________________________________________\n"
          ],
          "name": "stdout"
        }
      ]
    },
    {
      "cell_type": "code",
      "metadata": {
        "id": "HwJXzuqDSJU7",
        "colab_type": "code",
        "outputId": "4164b252-6795-44b9-b391-e47b1aca3731",
        "colab": {
          "base_uri": "https://localhost:8080/",
          "height": 155
        }
      },
      "source": [
        "# Retrieve the weights\n",
        "regr1.get_weights()"
      ],
      "execution_count": 0,
      "outputs": [
        {
          "output_type": "execute_result",
          "data": {
            "text/plain": [
              "[array([[ 0.5625368 ],\n",
              "        [-0.01073717],\n",
              "        [-0.07368579],\n",
              "        [ 0.329551  ],\n",
              "        [ 0.7367016 ],\n",
              "        [ 0.3779924 ],\n",
              "        [ 0.42446458],\n",
              "        [ 0.43428728]], dtype=float32), array([0.84540325], dtype=float32)]"
            ]
          },
          "metadata": {
            "tags": []
          },
          "execution_count": 17
        }
      ]
    },
    {
      "cell_type": "markdown",
      "metadata": {
        "id": "amRMXtkMSJU9",
        "colab_type": "text"
      },
      "source": [
        "A good way to understand if the model has fit is to monitor the training error and the validation error for both the loss function (MSE in this case), and another sensible metric (MAE). "
      ]
    },
    {
      "cell_type": "code",
      "metadata": {
        "id": "-wBYcCU_SJU9",
        "colab_type": "code",
        "outputId": "3c42a879-833c-4b32-aa5a-9d1ba455e495",
        "colab": {
          "base_uri": "https://localhost:8080/",
          "height": 391
        }
      },
      "source": [
        "## plot the loss function per epoch\n",
        "plt.plot(regr1.history.history['loss'],\n",
        "        color='red')\n",
        "plt.plot(regr1.history.history['val_loss'],\n",
        "        color='blue')"
      ],
      "execution_count": 0,
      "outputs": [
        {
          "output_type": "execute_result",
          "data": {
            "text/plain": [
              "[<matplotlib.lines.Line2D at 0x7f90148ef8d0>]"
            ]
          },
          "metadata": {
            "tags": []
          },
          "execution_count": 18
        },
        {
          "output_type": "execute_result",
          "data": {
            "text/plain": [
              "[<matplotlib.lines.Line2D at 0x7f90161e2ef0>]"
            ]
          },
          "metadata": {
            "tags": []
          },
          "execution_count": 18
        },
        {
          "output_type": "display_data",
          "data": {
            "image/png": "[encoded data removed]",
            "text/plain": [
              "<Figure size 720x432 with 1 Axes>"
            ]
          },
          "metadata": {
            "tags": []
          }
        }
      ]
    },
    {
      "cell_type": "code",
      "metadata": {
        "id": "Fge0F1vLSJU_",
        "colab_type": "code",
        "outputId": "f2a8d61d-8077-46be-a6a9-6103df3b9dfb",
        "colab": {
          "base_uri": "https://localhost:8080/",
          "height": 391
        }
      },
      "source": [
        "## plot the loss function per epoch\n",
        "plt.plot(regr1.history.history['mae'],\n",
        "         color='red')\n",
        "plt.plot(regr1.history.history['val_mae'],\n",
        "         color='blue')"
      ],
      "execution_count": 0,
      "outputs": [
        {
          "output_type": "execute_result",
          "data": {
            "text/plain": [
              "[<matplotlib.lines.Line2D at 0x7f9014861160>]"
            ]
          },
          "metadata": {
            "tags": []
          },
          "execution_count": 19
        },
        {
          "output_type": "execute_result",
          "data": {
            "text/plain": [
              "[<matplotlib.lines.Line2D at 0x7f9014915278>]"
            ]
          },
          "metadata": {
            "tags": []
          },
          "execution_count": 19
        },
        {
          "output_type": "display_data",
          "data": {
            "image/png": "[encoded data removed]",
            "text/plain": [
              "<Figure size 720x432 with 1 Axes>"
            ]
          },
          "metadata": {
            "tags": []
          }
        }
      ]
    },
    {
      "cell_type": "markdown",
      "metadata": {
        "id": "RGGRprUYSJVB",
        "colab_type": "text"
      },
      "source": [
        "It looks like the model is making progress, but we clearly need to run it for more epochs to get 'convergence'. Let's do that.."
      ]
    },
    {
      "cell_type": "code",
      "metadata": {
        "id": "OrhRM_avSJVB",
        "colab_type": "code",
        "outputId": "3fdb3b15-0ee6-4b93-ba13-f9495eda384b",
        "colab": {
          "base_uri": "https://localhost:8080/",
          "height": 34
        }
      },
      "source": [
        "# fit this model/architecture to my data\n",
        "regr1 = build_model1()\n",
        "regr1.fit(X_train_s,\n",
        "          Y_train,\n",
        "          epochs=2000,\n",
        "          validation_split=0.2,\n",
        "          verbose=0)"
      ],
      "execution_count": 0,
      "outputs": [
        {
          "output_type": "execute_result",
          "data": {
            "text/plain": [
              "<tensorflow.python.keras.callbacks.History at 0x7f90147ebf28>"
            ]
          },
          "metadata": {
            "tags": []
          },
          "execution_count": 20
        }
      ]
    },
    {
      "cell_type": "code",
      "metadata": {
        "id": "uWkt10SESJVD",
        "colab_type": "code",
        "outputId": "1533ac86-2724-4e0e-bc8e-06215b3c2373",
        "colab": {
          "base_uri": "https://localhost:8080/",
          "height": 391
        }
      },
      "source": [
        "# plot the loss function per epoch\n",
        "plt.plot(regr1.history.history['loss'],\n",
        "         color='red')\n",
        "plt.plot(regr1.history.history['val_loss'],\n",
        "         color='blue')"
      ],
      "execution_count": 0,
      "outputs": [
        {
          "output_type": "execute_result",
          "data": {
            "text/plain": [
              "[<matplotlib.lines.Line2D at 0x7f9013ed7a20>]"
            ]
          },
          "metadata": {
            "tags": []
          },
          "execution_count": 21
        },
        {
          "output_type": "execute_result",
          "data": {
            "text/plain": [
              "[<matplotlib.lines.Line2D at 0x7f90147f2780>]"
            ]
          },
          "metadata": {
            "tags": []
          },
          "execution_count": 21
        },
        {
          "output_type": "display_data",
          "data": {
            "image/png": "[encoded data removed]",
            "text/plain": [
              "<Figure size 720x432 with 1 Axes>"
            ]
          },
          "metadata": {
            "tags": []
          }
        }
      ]
    },
    {
      "cell_type": "code",
      "metadata": {
        "id": "tP_1A7u0SJVF",
        "colab_type": "code",
        "outputId": "c1d2cc94-9723-47b1-a376-ae739c91a4fd",
        "colab": {
          "base_uri": "https://localhost:8080/",
          "height": 391
        }
      },
      "source": [
        "# plot the loss function per epoch\n",
        "plt.plot(regr1.history.history['mae'],\n",
        "         color='red')\n",
        "plt.plot(regr1.history.history['val_mae'],\n",
        "         color='blue')"
      ],
      "execution_count": 0,
      "outputs": [
        {
          "output_type": "execute_result",
          "data": {
            "text/plain": [
              "[<matplotlib.lines.Line2D at 0x7f9013e42ba8>]"
            ]
          },
          "metadata": {
            "tags": []
          },
          "execution_count": 22
        },
        {
          "output_type": "execute_result",
          "data": {
            "text/plain": [
              "[<matplotlib.lines.Line2D at 0x7f9013e51080>]"
            ]
          },
          "metadata": {
            "tags": []
          },
          "execution_count": 22
        },
        {
          "output_type": "display_data",
          "data": {
            "image/png": "[encoded data removed]",
            "text/plain": [
              "<Figure size 720x432 with 1 Axes>"
            ]
          },
          "metadata": {
            "tags": []
          }
        }
      ]
    },
    {
      "cell_type": "markdown",
      "metadata": {
        "id": "7LD5DesmSJVH",
        "colab_type": "text"
      },
      "source": [
        "It looks like the model converged by the 1700 epoch or so...let's look at those numbers:"
      ]
    },
    {
      "cell_type": "code",
      "metadata": {
        "id": "44umbGUtSJVH",
        "colab_type": "code",
        "outputId": "77f325bb-b3f4-499f-c0ce-338df2b87940",
        "colab": {
          "base_uri": "https://localhost:8080/",
          "height": 1000
        }
      },
      "source": [
        "# print metrics from the 15th epoch\n",
        "regr1.history.history['val_loss'][1700:1725]\n",
        "regr1.history.history['val_loss'][1975:2000]\n",
        "\n",
        "regr1.history.history['val_mae'][1700:1725]\n",
        "regr1.history.history['val_mae'][1975:2000]"
      ],
      "execution_count": 0,
      "outputs": [
        {
          "output_type": "execute_result",
          "data": {
            "text/plain": [
              "[117.50087853633997,\n",
              " 117.4497636274858,\n",
              " 117.41281520959103,\n",
              " 117.36742877382221,\n",
              " 117.3178559736772,\n",
              " 117.2799800526012,\n",
              " 117.23073314319957,\n",
              " 117.1856256195993,\n",
              " 117.14306085759944,\n",
              " 117.10523787989762,\n",
              " 117.06399439031428,\n",
              " 117.02549789891098,\n",
              " 116.99110297000769,\n",
              " 116.95204930160985,\n",
              " 116.91739053437205,\n",
              " 116.86906141801315,\n",
              " 116.83068519361092,\n",
              " 116.787897976962,\n",
              " 116.74368041067413,\n",
              " 116.7063720703125,\n",
              " 116.66737846605706,\n",
              " 116.63449854995265,\n",
              " 116.60122037945372,\n",
              " 116.56092936197916,\n",
              " 116.53397780909683]"
            ]
          },
          "metadata": {
            "tags": []
          },
          "execution_count": 23
        },
        {
          "output_type": "execute_result",
          "data": {
            "text/plain": [
              "[113.81379315925366,\n",
              " 113.81400742964311,\n",
              " 113.81451240308357,\n",
              " 113.80645821311258,\n",
              " 113.80660122958096,\n",
              " 113.80354410807291,\n",
              " 113.7987129905007,\n",
              " 113.79964562618372,\n",
              " 113.79907309792259,\n",
              " 113.79638301964962,\n",
              " 113.79768778483073,\n",
              " 113.7915053396514,\n",
              " 113.79254515676787,\n",
              " 113.7894501657197,\n",
              " 113.78555801853989,\n",
              " 113.78369001908736,\n",
              " 113.78520517060251,\n",
              " 113.78175631436434,\n",
              " 113.77938879764442,\n",
              " 113.77927611379913,\n",
              " 113.77715777772846,\n",
              " 113.77585338245738,\n",
              " 113.77721733324455,\n",
              " 113.77853402802438,\n",
              " 113.7729057080818]"
            ]
          },
          "metadata": {
            "tags": []
          },
          "execution_count": 23
        },
        {
          "output_type": "execute_result",
          "data": {
            "text/plain": [
              "[8.773422,\n",
              " 8.7719755,\n",
              " 8.771231,\n",
              " 8.770089,\n",
              " 8.768773,\n",
              " 8.767784,\n",
              " 8.766672,\n",
              " 8.765662,\n",
              " 8.764578,\n",
              " 8.7636795,\n",
              " 8.762517,\n",
              " 8.761459,\n",
              " 8.760639,\n",
              " 8.75975,\n",
              " 8.758999,\n",
              " 8.757723,\n",
              " 8.756751,\n",
              " 8.755765,\n",
              " 8.7545595,\n",
              " 8.753527,\n",
              " 8.752478,\n",
              " 8.7516165,\n",
              " 8.750857,\n",
              " 8.749576,\n",
              " 8.748928]"
            ]
          },
          "metadata": {
            "tags": []
          },
          "execution_count": 23
        },
        {
          "output_type": "execute_result",
          "data": {
            "text/plain": [
              "[8.669975,\n",
              " 8.669906,\n",
              " 8.669791,\n",
              " 8.669495,\n",
              " 8.669369,\n",
              " 8.669318,\n",
              " 8.668943,\n",
              " 8.669046,\n",
              " 8.669045,\n",
              " 8.668841,\n",
              " 8.669009,\n",
              " 8.668667,\n",
              " 8.668735,\n",
              " 8.668663,\n",
              " 8.66875,\n",
              " 8.668631,\n",
              " 8.668759,\n",
              " 8.668588,\n",
              " 8.668485,\n",
              " 8.668376,\n",
              " 8.6683,\n",
              " 8.668228,\n",
              " 8.668155,\n",
              " 8.668218,\n",
              " 8.668159]"
            ]
          },
          "metadata": {
            "tags": []
          },
          "execution_count": 23
        }
      ]
    },
    {
      "cell_type": "markdown",
      "metadata": {
        "id": "NlaqT1njSJVJ",
        "colab_type": "text"
      },
      "source": [
        "Actually it looks like the validation error started getting a little bit worse towards the end! This could be a symptom of overfitting, although the current model does not have much capacity (just a linear model). \n",
        "\n",
        "We could find the minimum validation loss:"
      ]
    },
    {
      "cell_type": "code",
      "metadata": {
        "id": "xihBjOjYSJVK",
        "colab_type": "code",
        "outputId": "99de6c32-238e-4284-92fe-aaf15c5608d9",
        "colab": {
          "base_uri": "https://localhost:8080/",
          "height": 86
        }
      },
      "source": [
        "print('The min validation loss of',\n",
        "      np.min(regr1.history.history['val_loss']),\n",
        "      ',\\n was at epoch',\n",
        "      np.argmin(regr1.history.history['val_loss']))\n",
        "\n",
        "print('The min validation mae of',\n",
        "      np.min(regr1.history.history['val_mae']),\n",
        "      ',\\n was at epoch',\n",
        "      np.argmin(regr1.history.history['val_mae']))\n"
      ],
      "execution_count": 0,
      "outputs": [
        {
          "output_type": "stream",
          "text": [
            "The min validation loss of 113.7729057080818 ,\n",
            " was at epoch 1999\n",
            "The min validation mae of 8.668155 ,\n",
            " was at epoch 1997\n"
          ],
          "name": "stdout"
        }
      ]
    },
    {
      "cell_type": "markdown",
      "metadata": {
        "id": "vYNpB4uSSJVO",
        "colab_type": "text"
      },
      "source": [
        "That is a bit inconclusive....we are probably OK with regard to overfitting here. Let's investigate fitting a more flexible model..."
      ]
    },
    {
      "cell_type": "markdown",
      "metadata": {
        "id": "KGYHmCzBSJVO",
        "colab_type": "text"
      },
      "source": [
        "## Build a more complex model"
      ]
    },
    {
      "cell_type": "markdown",
      "metadata": {
        "id": "ABpsjWOqSJVP",
        "colab_type": "text"
      },
      "source": [
        "We can add complexity to our model by increasing the **depth** (adding hidden layers), and also increasing the **width** (adding more neurons per layer). "
      ]
    },
    {
      "cell_type": "code",
      "metadata": {
        "id": "X7RbyvfjSJVP",
        "colab_type": "code",
        "colab": {}
      },
      "source": [
        "# build a 2 layer neural network\n",
        "def build_model2():\n",
        "    model = Sequential()\n",
        "    model.add(Dense(64,\n",
        "                    activation='relu',\n",
        "                    input_dim=X_train.shape[1]))\n",
        "    model.add(Dense(64,\n",
        "                    activation='relu'))\n",
        "    model.add(Dense(1,\n",
        "                    activation='linear'))\n",
        "    model.compile(optimizer='rmsprop',\n",
        "                  loss='mse',  # mean squared error\n",
        "                  metrics=['mae'])  # mean absolute error\n",
        "    return model"
      ],
      "execution_count": 0,
      "outputs": []
    },
    {
      "cell_type": "code",
      "metadata": {
        "id": "LommJmQZSJVR",
        "colab_type": "code",
        "outputId": "18c4ea5a-f2af-4376-c190-5dfbf356e2a9",
        "colab": {
          "base_uri": "https://localhost:8080/",
          "height": 34
        }
      },
      "source": [
        "# fit this model/architecture to my data\n",
        "regr2 = build_model2()\n",
        "regr2.fit(X_train_s,\n",
        "          Y_train,\n",
        "          epochs=400,\n",
        "          validation_split=0.2,\n",
        "          verbose=0)"
      ],
      "execution_count": 0,
      "outputs": [
        {
          "output_type": "execute_result",
          "data": {
            "text/plain": [
              "<tensorflow.python.keras.callbacks.History at 0x7f9013d6e860>"
            ]
          },
          "metadata": {
            "tags": []
          },
          "execution_count": 26
        }
      ]
    },
    {
      "cell_type": "markdown",
      "metadata": {
        "id": "qumNrBTrSJVS",
        "colab_type": "text"
      },
      "source": [
        "We can investigate the model object by asking for the layer weights (just the slope and intercept in this model), or by asking for the model summary. "
      ]
    },
    {
      "cell_type": "code",
      "metadata": {
        "id": "xcvUQzFdSJVT",
        "colab_type": "code",
        "outputId": "ff1fbb6a-8f25-467f-d722-6f23813e4902",
        "colab": {
          "base_uri": "https://localhost:8080/",
          "height": 259
        }
      },
      "source": [
        "# summarize model\n",
        "regr2.summary()"
      ],
      "execution_count": 0,
      "outputs": [
        {
          "output_type": "stream",
          "text": [
            "Model: \"sequential_2\"\n",
            "_________________________________________________________________\n",
            "Layer (type)                 Output Shape              Param #   \n",
            "=================================================================\n",
            "dense_2 (Dense)              (None, 64)                576       \n",
            "_________________________________________________________________\n",
            "dense_3 (Dense)              (None, 64)                4160      \n",
            "_________________________________________________________________\n",
            "dense_4 (Dense)              (None, 1)                 65        \n",
            "=================================================================\n",
            "Total params: 4,801\n",
            "Trainable params: 4,801\n",
            "Non-trainable params: 0\n",
            "_________________________________________________________________\n"
          ],
          "name": "stdout"
        }
      ]
    },
    {
      "cell_type": "code",
      "metadata": {
        "id": "6YOuiF5hSJVU",
        "colab_type": "code",
        "colab": {}
      },
      "source": [
        "# Retrieve the weights\n",
        "# regr2.get_weights()\n",
        "# This prints all the weights (4,000 +)"
      ],
      "execution_count": 0,
      "outputs": []
    },
    {
      "cell_type": "code",
      "metadata": {
        "id": "iBaYDA0JSJVX",
        "colab_type": "code",
        "outputId": "36179f0b-46d9-4e99-a462-8b7889a1536b",
        "colab": {
          "base_uri": "https://localhost:8080/",
          "height": 391
        }
      },
      "source": [
        "# plot the loss function per epoch\n",
        "plt.plot(regr2.history.history['loss'],\n",
        "         color='red')\n",
        "plt.plot(regr2.history.history['val_loss'],\n",
        "         color='blue')"
      ],
      "execution_count": 0,
      "outputs": [
        {
          "output_type": "execute_result",
          "data": {
            "text/plain": [
              "[<matplotlib.lines.Line2D at 0x7f9013be9e48>]"
            ]
          },
          "metadata": {
            "tags": []
          },
          "execution_count": 29
        },
        {
          "output_type": "execute_result",
          "data": {
            "text/plain": [
              "[<matplotlib.lines.Line2D at 0x7f9013d6ed30>]"
            ]
          },
          "metadata": {
            "tags": []
          },
          "execution_count": 29
        },
        {
          "output_type": "display_data",
          "data": {
            "image/png": "[encoded data removed]",
            "text/plain": [
              "<Figure size 720x432 with 1 Axes>"
            ]
          },
          "metadata": {
            "tags": []
          }
        }
      ]
    },
    {
      "cell_type": "code",
      "metadata": {
        "id": "hMkGQwn-SJVa",
        "colab_type": "code",
        "outputId": "3f69dc15-8314-4392-cea2-631e4bef7ba0",
        "colab": {
          "base_uri": "https://localhost:8080/",
          "height": 391
        }
      },
      "source": [
        "# plot the loss function per epoch\n",
        "plt.plot(regr2.history.history['mae'],\n",
        "         color='red')\n",
        "plt.plot(regr2.history.history['val_mae'],\n",
        "         color='blue')"
      ],
      "execution_count": 0,
      "outputs": [
        {
          "output_type": "execute_result",
          "data": {
            "text/plain": [
              "[<matplotlib.lines.Line2D at 0x7f9012befef0>]"
            ]
          },
          "metadata": {
            "tags": []
          },
          "execution_count": 30
        },
        {
          "output_type": "execute_result",
          "data": {
            "text/plain": [
              "[<matplotlib.lines.Line2D at 0x7f901593cf28>]"
            ]
          },
          "metadata": {
            "tags": []
          },
          "execution_count": 30
        },
        {
          "output_type": "display_data",
          "data": {
            "image/png": "[encoded data removed]",
            "text/plain": [
              "<Figure size 720x432 with 1 Axes>"
            ]
          },
          "metadata": {
            "tags": []
          }
        }
      ]
    },
    {
      "cell_type": "markdown",
      "metadata": {
        "id": "40gQPg-3SJVc",
        "colab_type": "text"
      },
      "source": [
        "This convergence pattern looks pretty good! How well did we do regarding error prediction? "
      ]
    },
    {
      "cell_type": "code",
      "metadata": {
        "id": "75EXud6NSJVc",
        "colab_type": "code",
        "outputId": "3c2e7787-f25a-4fb9-9e9a-960ecf2483fb",
        "colab": {
          "base_uri": "https://localhost:8080/",
          "height": 86
        }
      },
      "source": [
        "print('The min validation loss of',\n",
        "      np.min(regr2.history.history['val_loss']),\n",
        "      ',\\n was at epoch',\n",
        "      np.argmin(regr2.history.history['val_loss']))\n",
        "\n",
        "print('The min validation mae of',\n",
        "      np.min(regr2.history.history['val_mae']),\n",
        "      ',\\n was at epoch',\n",
        "      np.argmin(regr2.history.history['val_mae']))"
      ],
      "execution_count": 0,
      "outputs": [
        {
          "output_type": "stream",
          "text": [
            "The min validation loss of 34.23613845362808 ,\n",
            " was at epoch 376\n",
            "The min validation mae of 3.9754493 ,\n",
            " was at epoch 364\n"
          ],
          "name": "stdout"
        }
      ]
    },
    {
      "cell_type": "markdown",
      "metadata": {
        "id": "cmF0g6amSJVe",
        "colab_type": "text"
      },
      "source": [
        "This implies we could run this for a bit longer since we have not yet overfit the data. Let's try more Epochs and look at the convergence again:"
      ]
    },
    {
      "cell_type": "code",
      "metadata": {
        "id": "aP_CXMiCSJVe",
        "colab_type": "code",
        "outputId": "7a68aaf7-2fb2-4088-9d0c-5f2fdf813468",
        "colab": {
          "base_uri": "https://localhost:8080/",
          "height": 34
        }
      },
      "source": [
        "# fit this model/architecture to my data\n",
        "regr2 = build_model2()\n",
        "regr2.fit(X_train_s,\n",
        "          Y_train,\n",
        "          epochs=1000,\n",
        "          validation_split=0.3,\n",
        "          verbose=0)"
      ],
      "execution_count": 0,
      "outputs": [
        {
          "output_type": "execute_result",
          "data": {
            "text/plain": [
              "<tensorflow.python.keras.callbacks.History at 0x7f9013ddbc88>"
            ]
          },
          "metadata": {
            "tags": []
          },
          "execution_count": 32
        }
      ]
    },
    {
      "cell_type": "markdown",
      "metadata": {
        "id": "KygamJEkSJVf",
        "colab_type": "text"
      },
      "source": [
        "We can investigate the model object by asking for the layer weights (just the slope and intercept in this model), or by asking for the model summary. "
      ]
    },
    {
      "cell_type": "code",
      "metadata": {
        "id": "jtLcxMRnSJVg",
        "colab_type": "code",
        "outputId": "f5ed68f5-1cc6-4369-dae4-d5f047862449",
        "colab": {
          "base_uri": "https://localhost:8080/",
          "height": 259
        }
      },
      "source": [
        "# summarize model\n",
        "regr2.summary()"
      ],
      "execution_count": 0,
      "outputs": [
        {
          "output_type": "stream",
          "text": [
            "Model: \"sequential_3\"\n",
            "_________________________________________________________________\n",
            "Layer (type)                 Output Shape              Param #   \n",
            "=================================================================\n",
            "dense_5 (Dense)              (None, 64)                576       \n",
            "_________________________________________________________________\n",
            "dense_6 (Dense)              (None, 64)                4160      \n",
            "_________________________________________________________________\n",
            "dense_7 (Dense)              (None, 1)                 65        \n",
            "=================================================================\n",
            "Total params: 4,801\n",
            "Trainable params: 4,801\n",
            "Non-trainable params: 0\n",
            "_________________________________________________________________\n"
          ],
          "name": "stdout"
        }
      ]
    },
    {
      "cell_type": "code",
      "metadata": {
        "id": "Y1UdYh08SJVh",
        "colab_type": "code",
        "colab": {}
      },
      "source": [
        "# Retrieve the weights\n",
        "# regr2.get_weights()\n",
        "# This prints all the weights (4,000 +)"
      ],
      "execution_count": 0,
      "outputs": []
    },
    {
      "cell_type": "code",
      "metadata": {
        "id": "_0OCwQJ-SJVj",
        "colab_type": "code",
        "outputId": "41d026a0-2a01-4ba7-9391-56d5919b9f63",
        "colab": {
          "base_uri": "https://localhost:8080/",
          "height": 391
        }
      },
      "source": [
        "# plot the loss function per epoch\n",
        "plt.plot(regr2.history.history['loss'],\n",
        "         color='red')\n",
        "plt.plot(regr2.history.history['val_loss'],\n",
        "         color='blue')"
      ],
      "execution_count": 0,
      "outputs": [
        {
          "output_type": "execute_result",
          "data": {
            "text/plain": [
              "[<matplotlib.lines.Line2D at 0x7f9013a29dd8>]"
            ]
          },
          "metadata": {
            "tags": []
          },
          "execution_count": 35
        },
        {
          "output_type": "execute_result",
          "data": {
            "text/plain": [
              "[<matplotlib.lines.Line2D at 0x7f9013d646d8>]"
            ]
          },
          "metadata": {
            "tags": []
          },
          "execution_count": 35
        },
        {
          "output_type": "display_data",
          "data": {
            "image/png": "[encoded data removed]",
            "text/plain": [
              "<Figure size 720x432 with 1 Axes>"
            ]
          },
          "metadata": {
            "tags": []
          }
        }
      ]
    },
    {
      "cell_type": "code",
      "metadata": {
        "id": "Z2dKpUKPSJVl",
        "colab_type": "code",
        "outputId": "24ff45ac-da4b-44a3-caea-b25630a00c05",
        "colab": {
          "base_uri": "https://localhost:8080/",
          "height": 391
        }
      },
      "source": [
        "# plot the loss function per epoch\n",
        "plt.plot(regr2.history.history['mae'],\n",
        "         color='red')\n",
        "plt.plot(regr2.history.history['val_mae'],\n",
        "         color='blue')"
      ],
      "execution_count": 0,
      "outputs": [
        {
          "output_type": "execute_result",
          "data": {
            "text/plain": [
              "[<matplotlib.lines.Line2D at 0x7f9013a150f0>]"
            ]
          },
          "metadata": {
            "tags": []
          },
          "execution_count": 36
        },
        {
          "output_type": "execute_result",
          "data": {
            "text/plain": [
              "[<matplotlib.lines.Line2D at 0x7f9013a58208>]"
            ]
          },
          "metadata": {
            "tags": []
          },
          "execution_count": 36
        },
        {
          "output_type": "display_data",
          "data": {
            "image/png": "[encoded data removed]",
            "text/plain": [
              "<Figure size 720x432 with 1 Axes>"
            ]
          },
          "metadata": {
            "tags": []
          }
        }
      ]
    },
    {
      "cell_type": "markdown",
      "metadata": {
        "id": "hH8c2SXCSJVo",
        "colab_type": "text"
      },
      "source": [
        "This convergence pattern still looks pretty good! How well did we do regarding error prediction? "
      ]
    },
    {
      "cell_type": "code",
      "metadata": {
        "id": "j1mHt4vOSJVp",
        "colab_type": "code",
        "outputId": "18aac832-ee00-4e39-d7b2-e9483adb9f95",
        "colab": {
          "base_uri": "https://localhost:8080/",
          "height": 86
        }
      },
      "source": [
        "print('The min validation loss of',\n",
        "      np.min(regr2.history.history['val_loss']),\n",
        "      ',\\n was at epoch',\n",
        "      np.argmin(regr2.history.history['val_loss']))\n",
        "\n",
        "print('The min validation mae of',\n",
        "      np.min(regr2.history.history['val_mae']),\n",
        "      ',\\n was at epoch',\n",
        "      np.argmin(regr2.history.history['val_mae']))"
      ],
      "execution_count": 0,
      "outputs": [
        {
          "output_type": "stream",
          "text": [
            "The min validation loss of 30.38404526249055 ,\n",
            " was at epoch 408\n",
            "The min validation mae of 3.7762825 ,\n",
            " was at epoch 795\n"
          ],
          "name": "stdout"
        }
      ]
    },
    {
      "cell_type": "markdown",
      "metadata": {
        "id": "zhqtdHXwSJVq",
        "colab_type": "text"
      },
      "source": [
        "This makes me think we have reached convergence by 1000 epochs, but we did need at least ~800 to get there. "
      ]
    },
    {
      "cell_type": "markdown",
      "metadata": {
        "id": "wPV1tX8_SJVr",
        "colab_type": "text"
      },
      "source": [
        "## Build a more complex model with dropout"
      ]
    },
    {
      "cell_type": "markdown",
      "metadata": {
        "id": "gT_ZQKwBSJVr",
        "colab_type": "text"
      },
      "source": [
        "It is possible we could get a better model fit on the validation dataset if we introduce some form of regularization. \n",
        "\n",
        "> A good general definition for Regularization is any modifications we make intending to increase generalization error at the expense of training error. \n",
        "\n",
        "One form of regularization is model dropout. This is easily implemented in keras:"
      ]
    },
    {
      "cell_type": "code",
      "metadata": {
        "id": "yS9uVMlYSJVr",
        "colab_type": "code",
        "colab": {}
      },
      "source": [
        "# build a two layer neural network with regularization\n",
        "from tensorflow.keras.layers import Dropout\n",
        "def build_model3():\n",
        "    model = Sequential()\n",
        "    model.add(Dense(64,\n",
        "                    activation='relu',\n",
        "                    input_dim=X_train.shape[1]))\n",
        "    model.add(Dropout(0.5))\n",
        "    model.add(Dense(64,\n",
        "                    activation='relu'))\n",
        "    model.add(Dropout(0.5))\n",
        "    model.add(Dense(64,\n",
        "                    activation='relu',\n",
        "                    input_dim=X_train.shape[1]))\n",
        "    model.add(Dropout(0.5))\n",
        "    model.add(Dense(1,\n",
        "                    activation='linear'))\n",
        "    model.compile(optimizer='rmsprop',\n",
        "                  loss='mse',  # mean squared error\n",
        "                  metrics=['mae'])  # mean absolute error\n",
        "    return model"
      ],
      "execution_count": 0,
      "outputs": []
    },
    {
      "cell_type": "code",
      "metadata": {
        "id": "4D7Y9S-WSJVt",
        "colab_type": "code",
        "outputId": "8e91cbd3-6010-4b2a-d07a-fee8a9684bb8",
        "colab": {
          "base_uri": "https://localhost:8080/",
          "height": 34
        }
      },
      "source": [
        "# fit this model/architecture to my data\n",
        "regr3 = build_model3()\n",
        "regr3.fit(X_train_s,\n",
        "          Y_train,\n",
        "          epochs=1000,\n",
        "          validation_split=0.2,\n",
        "          verbose=0)"
      ],
      "execution_count": 0,
      "outputs": [
        {
          "output_type": "execute_result",
          "data": {
            "text/plain": [
              "<tensorflow.python.keras.callbacks.History at 0x7f900fb9d390>"
            ]
          },
          "metadata": {
            "tags": []
          },
          "execution_count": 39
        }
      ]
    },
    {
      "cell_type": "markdown",
      "metadata": {
        "id": "NsQf1fkQSJVw",
        "colab_type": "text"
      },
      "source": [
        "We can investigate the model object by asking for the layer weights (just the slope and intercept in this model), or by asking for the model summary. "
      ]
    },
    {
      "cell_type": "code",
      "metadata": {
        "id": "30fXOifWSJVw",
        "colab_type": "code",
        "outputId": "25d09b31-395e-42d6-970e-292d553a9ea1",
        "colab": {
          "base_uri": "https://localhost:8080/",
          "height": 397
        }
      },
      "source": [
        "## summarize model\n",
        "regr3.summary()"
      ],
      "execution_count": 0,
      "outputs": [
        {
          "output_type": "stream",
          "text": [
            "Model: \"sequential_4\"\n",
            "_________________________________________________________________\n",
            "Layer (type)                 Output Shape              Param #   \n",
            "=================================================================\n",
            "dense_8 (Dense)              (None, 64)                576       \n",
            "_________________________________________________________________\n",
            "dropout (Dropout)            (None, 64)                0         \n",
            "_________________________________________________________________\n",
            "dense_9 (Dense)              (None, 64)                4160      \n",
            "_________________________________________________________________\n",
            "dropout_1 (Dropout)          (None, 64)                0         \n",
            "_________________________________________________________________\n",
            "dense_10 (Dense)             (None, 64)                4160      \n",
            "_________________________________________________________________\n",
            "dropout_2 (Dropout)          (None, 64)                0         \n",
            "_________________________________________________________________\n",
            "dense_11 (Dense)             (None, 1)                 65        \n",
            "=================================================================\n",
            "Total params: 8,961\n",
            "Trainable params: 8,961\n",
            "Non-trainable params: 0\n",
            "_________________________________________________________________\n"
          ],
          "name": "stdout"
        }
      ]
    },
    {
      "cell_type": "code",
      "metadata": {
        "id": "D3ahvcF3SJVy",
        "colab_type": "code",
        "outputId": "372e3eb3-cf36-4855-c253-0e33b16fb25f",
        "colab": {
          "base_uri": "https://localhost:8080/",
          "height": 391
        }
      },
      "source": [
        "## plot the loss function per epoch\n",
        "plt.plot(regr3.history.history['loss'],\n",
        "        color='red')\n",
        "plt.plot(regr3.history.history['val_loss'],\n",
        "        color='blue')"
      ],
      "execution_count": 0,
      "outputs": [
        {
          "output_type": "execute_result",
          "data": {
            "text/plain": [
              "[<matplotlib.lines.Line2D at 0x7f900f1faf60>]"
            ]
          },
          "metadata": {
            "tags": []
          },
          "execution_count": 41
        },
        {
          "output_type": "execute_result",
          "data": {
            "text/plain": [
              "[<matplotlib.lines.Line2D at 0x7f900fba7390>]"
            ]
          },
          "metadata": {
            "tags": []
          },
          "execution_count": 41
        },
        {
          "output_type": "display_data",
          "data": {
            "image/png": "[encoded data removed]",
            "text/plain": [
              "<Figure size 720x432 with 1 Axes>"
            ]
          },
          "metadata": {
            "tags": []
          }
        }
      ]
    },
    {
      "cell_type": "code",
      "metadata": {
        "id": "e2P2W4iBSJV0",
        "colab_type": "code",
        "outputId": "bcf83c08-efac-4e9f-e598-e703105c6a58",
        "colab": {
          "base_uri": "https://localhost:8080/",
          "height": 391
        }
      },
      "source": [
        "## plot the loss function per epoch\n",
        "plt.plot(regr3.history.history['mae'],\n",
        "         color='red')\n",
        "plt.plot(regr3.history.history['val_mae'],\n",
        "         color='blue')"
      ],
      "execution_count": 0,
      "outputs": [
        {
          "output_type": "execute_result",
          "data": {
            "text/plain": [
              "[<matplotlib.lines.Line2D at 0x7f900f167278>]"
            ]
          },
          "metadata": {
            "tags": []
          },
          "execution_count": 42
        },
        {
          "output_type": "execute_result",
          "data": {
            "text/plain": [
              "[<matplotlib.lines.Line2D at 0x7f900f1b16d8>]"
            ]
          },
          "metadata": {
            "tags": []
          },
          "execution_count": 42
        },
        {
          "output_type": "display_data",
          "data": {
            "image/png": "[encoded data removed]",
            "text/plain": [
              "<Figure size 720x432 with 1 Axes>"
            ]
          },
          "metadata": {
            "tags": []
          }
        }
      ]
    },
    {
      "cell_type": "code",
      "metadata": {
        "id": "i6jYr9mqSJV2",
        "colab_type": "code",
        "outputId": "78d5eb6f-2dfb-4295-e138-835d025cb7f7",
        "colab": {
          "base_uri": "https://localhost:8080/",
          "height": 86
        }
      },
      "source": [
        "print('The min validation loss of',\n",
        "      np.min(regr3.history.history['val_loss']),\n",
        "      ',\\n was at epoch',\n",
        "      np.argmin(regr3.history.history['val_loss']))\n",
        "\n",
        "print('The min validation mae of',\n",
        "      np.min(regr3.history.history['val_mae']),\n",
        "      ',\\n was at epoch',\n",
        "      np.argmin(regr3.history.history['val_mae']))"
      ],
      "execution_count": 0,
      "outputs": [
        {
          "output_type": "stream",
          "text": [
            "The min validation loss of 40.46041628519694 ,\n",
            " was at epoch 899\n",
            "The min validation mae of 4.835892 ,\n",
            " was at epoch 877\n"
          ],
          "name": "stdout"
        }
      ]
    },
    {
      "cell_type": "markdown",
      "metadata": {
        "id": "GgPruPJoSJV4",
        "colab_type": "text"
      },
      "source": [
        "This is looking good. The model seemed to have converged by the 900 epoch or so, overfit does not seem to be an issue. We are at a bit higher error validation error than we were in the prior models though.  "
      ]
    },
    {
      "cell_type": "markdown",
      "metadata": {
        "id": "J1zpsJJwSJV5",
        "colab_type": "text"
      },
      "source": [
        "## Build a more complex model with dropout, add L1 regularization"
      ]
    },
    {
      "cell_type": "markdown",
      "metadata": {
        "id": "xlbykZQ7SJV5",
        "colab_type": "text"
      },
      "source": [
        "Another form of regularization we can apply is through applying penalties to the weights. This is exactly like what you have learned before in the context of penalized linear models (LASSO, Ridge, Elastic net...)\n",
        "\n",
        "We can apply either L1, L2, or both penalties. \n",
        "\n",
        "-  Typically we penalize the weights but not the bias terms of the affine transformation for each neuron. \n",
        "-  We will typically use the same weight across the network, although we could consider optimizing a different weight for each neuron with input(s).\n",
        "    -  This would be expensive (large hyper-parameter space to search). \n",
        "-  L2 penalty\n",
        "    -  Like ridge regression. Reduces correlated inputs, but leaves weights in the model as small values. \n",
        "-  L1 penalty\n",
        "    -  Like LASSO regression. Eliminates some weights, induces sparsity. \n",
        "\n",
        "\n",
        "\n",
        "Some notes on the keras syntax:\n",
        "\n",
        "-  kernel_regularizer:\n",
        "    -  This will regularize the weights matrix (the Beta’s)\n",
        "-  activity_regularizer:\n",
        "    -  This will regularize the output of the neuron (the activation function output)\n",
        "\n",
        "-  bias_regularizer:\n",
        "    -  This will regularize the bias term for the neuron"
      ]
    },
    {
      "cell_type": "code",
      "metadata": {
        "id": "5spxgJH5SJV5",
        "colab_type": "code",
        "colab": {}
      },
      "source": [
        "from tensorflow.keras.regularizers import l1\n",
        "l1_penalty = 0.1\n",
        "# build a two layer neural network with regularization\n",
        "\n",
        "\n",
        "def build_model4():\n",
        "    model = Sequential()\n",
        "    model.add(Dense(64,\n",
        "                    activation='relu',\n",
        "                    kernel_regularizer=l1(l1_penalty),\n",
        "                    input_dim=X_train.shape[1]))\n",
        "    model.add(Dropout(0.5))\n",
        "    model.add(Dense(64,\n",
        "                    activation='relu',\n",
        "                    kernel_regularizer=l1(l1_penalty)))\n",
        "    model.add(Dropout(0.5))\n",
        "    model.add(Dense(64,\n",
        "                    activation='relu',\n",
        "                    kernel_regularizer=l1(l1_penalty)))\n",
        "    model.add(Dropout(0.5))\n",
        "    model.add(Dense(1,\n",
        "                    activation='linear'))\n",
        "    model.compile(optimizer='rmsprop',\n",
        "                  loss='mse',  # mean squared error\n",
        "                  metrics=['mae'])  # mean absolute error\n",
        "    return model"
      ],
      "execution_count": 0,
      "outputs": []
    },
    {
      "cell_type": "code",
      "metadata": {
        "id": "qpj4sj2XSJV7",
        "colab_type": "code",
        "outputId": "1a9ef3f5-6045-4d1b-9511-68e54a9f0fe3",
        "colab": {
          "base_uri": "https://localhost:8080/",
          "height": 34
        }
      },
      "source": [
        "# fit this model/architecture to my data\n",
        "regr4 = build_model4()\n",
        "regr4.fit(X_train_s,\n",
        "          Y_train,\n",
        "          epochs=1000,\n",
        "          validation_split=0.2,\n",
        "          verbose=0)"
      ],
      "execution_count": 0,
      "outputs": [
        {
          "output_type": "execute_result",
          "data": {
            "text/plain": [
              "<tensorflow.python.keras.callbacks.History at 0x7f900f0d46d8>"
            ]
          },
          "metadata": {
            "tags": []
          },
          "execution_count": 45
        }
      ]
    },
    {
      "cell_type": "markdown",
      "metadata": {
        "id": "R259SOlASJV8",
        "colab_type": "text"
      },
      "source": [
        "We can investigate the model object by asking for the layer weights (just the slope and intercept in this model), or by asking for the model summary. "
      ]
    },
    {
      "cell_type": "code",
      "metadata": {
        "id": "YHtsws9ISJV8",
        "colab_type": "code",
        "outputId": "d8953bac-1af1-4a71-c0ac-a3deca17502f",
        "colab": {
          "base_uri": "https://localhost:8080/",
          "height": 397
        }
      },
      "source": [
        "# summarize model\n",
        "regr4.summary()"
      ],
      "execution_count": 0,
      "outputs": [
        {
          "output_type": "stream",
          "text": [
            "Model: \"sequential_5\"\n",
            "_________________________________________________________________\n",
            "Layer (type)                 Output Shape              Param #   \n",
            "=================================================================\n",
            "dense_12 (Dense)             (None, 64)                576       \n",
            "_________________________________________________________________\n",
            "dropout_3 (Dropout)          (None, 64)                0         \n",
            "_________________________________________________________________\n",
            "dense_13 (Dense)             (None, 64)                4160      \n",
            "_________________________________________________________________\n",
            "dropout_4 (Dropout)          (None, 64)                0         \n",
            "_________________________________________________________________\n",
            "dense_14 (Dense)             (None, 64)                4160      \n",
            "_________________________________________________________________\n",
            "dropout_5 (Dropout)          (None, 64)                0         \n",
            "_________________________________________________________________\n",
            "dense_15 (Dense)             (None, 1)                 65        \n",
            "=================================================================\n",
            "Total params: 8,961\n",
            "Trainable params: 8,961\n",
            "Non-trainable params: 0\n",
            "_________________________________________________________________\n"
          ],
          "name": "stdout"
        }
      ]
    },
    {
      "cell_type": "code",
      "metadata": {
        "id": "IkxkVrGxSJV9",
        "colab_type": "code",
        "outputId": "db99d753-7e59-4256-e64a-8c87662f533c",
        "colab": {
          "base_uri": "https://localhost:8080/",
          "height": 391
        }
      },
      "source": [
        "# plot the loss function per epoch\n",
        "plt.plot(regr4.history.history['loss'],\n",
        "         color='red')\n",
        "plt.plot(regr4.history.history['val_loss'],\n",
        "         color='blue')"
      ],
      "execution_count": 0,
      "outputs": [
        {
          "output_type": "execute_result",
          "data": {
            "text/plain": [
              "[<matplotlib.lines.Line2D at 0x7f900de677f0>]"
            ]
          },
          "metadata": {
            "tags": []
          },
          "execution_count": 47
        },
        {
          "output_type": "execute_result",
          "data": {
            "text/plain": [
              "[<matplotlib.lines.Line2D at 0x7f900f0d4cc0>]"
            ]
          },
          "metadata": {
            "tags": []
          },
          "execution_count": 47
        },
        {
          "output_type": "display_data",
          "data": {
            "image/png": "[encoded data removed]",
            "text/plain": [
              "<Figure size 720x432 with 1 Axes>"
            ]
          },
          "metadata": {
            "tags": []
          }
        }
      ]
    },
    {
      "cell_type": "code",
      "metadata": {
        "id": "Qt_T0QRnSJV_",
        "colab_type": "code",
        "outputId": "06f2e85f-8b9f-4491-8d1e-3e359c0c41ae",
        "colab": {
          "base_uri": "https://localhost:8080/",
          "height": 391
        }
      },
      "source": [
        "# plot the loss function per epoch\n",
        "plt.plot(regr4.history.history['mae'],\n",
        "         color='red')\n",
        "plt.plot(regr4.history.history['val_mae'],\n",
        "         color='blue')"
      ],
      "execution_count": 0,
      "outputs": [
        {
          "output_type": "execute_result",
          "data": {
            "text/plain": [
              "[<matplotlib.lines.Line2D at 0x7f900de475f8>]"
            ]
          },
          "metadata": {
            "tags": []
          },
          "execution_count": 48
        },
        {
          "output_type": "execute_result",
          "data": {
            "text/plain": [
              "[<matplotlib.lines.Line2D at 0x7f900eee6048>]"
            ]
          },
          "metadata": {
            "tags": []
          },
          "execution_count": 48
        },
        {
          "output_type": "display_data",
          "data": {
            "image/png": "[encoded data removed]",
            "text/plain": [
              "<Figure size 720x432 with 1 Axes>"
            ]
          },
          "metadata": {
            "tags": []
          }
        }
      ]
    },
    {
      "cell_type": "code",
      "metadata": {
        "id": "zlxpnvQGSJWA",
        "colab_type": "code",
        "outputId": "61433c88-cac4-4d9b-9f30-10fb5efa20b2",
        "colab": {
          "base_uri": "https://localhost:8080/",
          "height": 86
        }
      },
      "source": [
        "print('The min validation loss of',\n",
        "      np.min(regr4.history.history['val_loss']),\n",
        "      ',\\n was at epoch',\n",
        "      np.argmin(regr4.history.history['val_loss']))\n",
        "\n",
        "print('The min validation mae of',\n",
        "      np.min(regr4.history.history['val_mae']),\n",
        "      ',\\n was at epoch',\n",
        "      np.argmin(regr4.history.history['val_mae']))"
      ],
      "execution_count": 0,
      "outputs": [
        {
          "output_type": "stream",
          "text": [
            "The min validation loss of 84.42561132257634 ,\n",
            " was at epoch 953\n",
            "The min validation mae of 6.0366945 ,\n",
            " was at epoch 768\n"
          ],
          "name": "stdout"
        }
      ]
    },
    {
      "cell_type": "markdown",
      "metadata": {
        "id": "pM2mTJ6OSJWB",
        "colab_type": "text"
      },
      "source": [
        "The model convergence looked good again (maybe could run longer), but the validation metrics are not better than without regularization. Perhaps we need a different strength penalty (different l1)?"
      ]
    },
    {
      "cell_type": "markdown",
      "metadata": {
        "id": "23vw0xsgSJWC",
        "colab_type": "text"
      },
      "source": [
        "## Build a more complex model with dropout, add L1 regularization, smaller weight. "
      ]
    },
    {
      "cell_type": "code",
      "metadata": {
        "id": "UAdWtxFWSJWC",
        "colab_type": "code",
        "colab": {}
      },
      "source": [
        "l1_penalty = 0.001\n",
        "# build a two layer neural network with regularization\n",
        "\n",
        "\n",
        "def build_model5():\n",
        "    model = Sequential()\n",
        "    model.add(Dense(64,\n",
        "                    activation='relu',\n",
        "                    kernel_regularizer=l1(l1_penalty),\n",
        "                    input_dim=X_train.shape[1]))\n",
        "    model.add(Dropout(0.5))\n",
        "    model.add(Dense(64,\n",
        "                    activation='relu',\n",
        "                    kernel_regularizer=l1(l1_penalty)))\n",
        "    model.add(Dropout(0.5))\n",
        "    model.add(Dense(64,\n",
        "                    activation='relu',\n",
        "                    kernel_regularizer=l1(l1_penalty)))\n",
        "    model.add(Dropout(0.5))\n",
        "    model.add(Dense(1,\n",
        "                    activation='linear'))\n",
        "    model.compile(optimizer='rmsprop',\n",
        "                  loss='mse',  # mean squared error\n",
        "                  metrics=['mae'])  # mean absolute error\n",
        "    return model"
      ],
      "execution_count": 0,
      "outputs": []
    },
    {
      "cell_type": "code",
      "metadata": {
        "id": "HIpi9bZnSJWF",
        "colab_type": "code",
        "outputId": "87799f06-2d01-47ab-f914-a545961fe890",
        "colab": {
          "base_uri": "https://localhost:8080/",
          "height": 34
        }
      },
      "source": [
        "# fit this model/architecture to my data\n",
        "regr5 = build_model5()\n",
        "regr5.fit(X_train_s,\n",
        "          Y_train,\n",
        "          epochs=1000,\n",
        "          validation_split=0.2,\n",
        "          verbose=0)"
      ],
      "execution_count": 0,
      "outputs": [
        {
          "output_type": "execute_result",
          "data": {
            "text/plain": [
              "<tensorflow.python.keras.callbacks.History at 0x7f900dd33c18>"
            ]
          },
          "metadata": {
            "tags": []
          },
          "execution_count": 51
        }
      ]
    },
    {
      "cell_type": "markdown",
      "metadata": {
        "id": "gCcJseCfSJWI",
        "colab_type": "text"
      },
      "source": [
        "We can investigate the model object by asking for the layer weights (just the slope and intercept in this model), or by asking for the model summary. "
      ]
    },
    {
      "cell_type": "code",
      "metadata": {
        "id": "9FcKmX-zSJWI",
        "colab_type": "code",
        "outputId": "fe3d29a8-e443-443c-88b2-8a630e8ea0ce",
        "colab": {
          "base_uri": "https://localhost:8080/",
          "height": 397
        }
      },
      "source": [
        "# summarize model\n",
        "regr5.summary()"
      ],
      "execution_count": 0,
      "outputs": [
        {
          "output_type": "stream",
          "text": [
            "Model: \"sequential_6\"\n",
            "_________________________________________________________________\n",
            "Layer (type)                 Output Shape              Param #   \n",
            "=================================================================\n",
            "dense_16 (Dense)             (None, 64)                576       \n",
            "_________________________________________________________________\n",
            "dropout_6 (Dropout)          (None, 64)                0         \n",
            "_________________________________________________________________\n",
            "dense_17 (Dense)             (None, 64)                4160      \n",
            "_________________________________________________________________\n",
            "dropout_7 (Dropout)          (None, 64)                0         \n",
            "_________________________________________________________________\n",
            "dense_18 (Dense)             (None, 64)                4160      \n",
            "_________________________________________________________________\n",
            "dropout_8 (Dropout)          (None, 64)                0         \n",
            "_________________________________________________________________\n",
            "dense_19 (Dense)             (None, 1)                 65        \n",
            "=================================================================\n",
            "Total params: 8,961\n",
            "Trainable params: 8,961\n",
            "Non-trainable params: 0\n",
            "_________________________________________________________________\n"
          ],
          "name": "stdout"
        }
      ]
    },
    {
      "cell_type": "code",
      "metadata": {
        "id": "7LZnEEDZSJWK",
        "colab_type": "code",
        "outputId": "b0910db7-519c-42b7-9962-339307ee827a",
        "colab": {
          "base_uri": "https://localhost:8080/",
          "height": 391
        }
      },
      "source": [
        "# plot the loss function per epoch\n",
        "plt.plot(regr5.history.history['loss'],\n",
        "         color='red')\n",
        "plt.plot(regr5.history.history['val_loss'],\n",
        "         color='blue')"
      ],
      "execution_count": 0,
      "outputs": [
        {
          "output_type": "execute_result",
          "data": {
            "text/plain": [
              "[<matplotlib.lines.Line2D at 0x7f900cb44f98>]"
            ]
          },
          "metadata": {
            "tags": []
          },
          "execution_count": 53
        },
        {
          "output_type": "execute_result",
          "data": {
            "text/plain": [
              "[<matplotlib.lines.Line2D at 0x7f900dd39438>]"
            ]
          },
          "metadata": {
            "tags": []
          },
          "execution_count": 53
        },
        {
          "output_type": "display_data",
          "data": {
            "image/png": "[encoded data removed]",
            "text/plain": [
              "<Figure size 720x432 with 1 Axes>"
            ]
          },
          "metadata": {
            "tags": []
          }
        }
      ]
    },
    {
      "cell_type": "code",
      "metadata": {
        "id": "_dIHrLmmSJWL",
        "colab_type": "code",
        "outputId": "aea7d7db-ab28-4373-9545-3f297f016112",
        "colab": {
          "base_uri": "https://localhost:8080/",
          "height": 391
        }
      },
      "source": [
        "# plot the loss function per epoch\n",
        "plt.plot(regr5.history.history['mae'],\n",
        "         color='red')\n",
        "plt.plot(regr5.history.history['val_mae'],\n",
        "         color='blue')"
      ],
      "execution_count": 0,
      "outputs": [
        {
          "output_type": "execute_result",
          "data": {
            "text/plain": [
              "[<matplotlib.lines.Line2D at 0x7f900d379048>]"
            ]
          },
          "metadata": {
            "tags": []
          },
          "execution_count": 54
        },
        {
          "output_type": "execute_result",
          "data": {
            "text/plain": [
              "[<matplotlib.lines.Line2D at 0x7f900cae0208>]"
            ]
          },
          "metadata": {
            "tags": []
          },
          "execution_count": 54
        },
        {
          "output_type": "display_data",
          "data": {
            "image/png": "[encoded data removed]",
            "text/plain": [
              "<Figure size 720x432 with 1 Axes>"
            ]
          },
          "metadata": {
            "tags": []
          }
        }
      ]
    },
    {
      "cell_type": "code",
      "metadata": {
        "id": "79zh7yV1SJWN",
        "colab_type": "code",
        "outputId": "15ab88f8-a666-4eae-fc72-4aa9205345c5",
        "colab": {
          "base_uri": "https://localhost:8080/",
          "height": 86
        }
      },
      "source": [
        "print('The min validation loss of',\n",
        "      np.min(regr5.history.history['val_loss']),\n",
        "      ',\\n was at epoch',\n",
        "      np.argmin(regr5.history.history['val_loss']))\n",
        "\n",
        "print('The min validation mae of',\n",
        "      np.min(regr5.history.history['val_mae']),\n",
        "      ',\\n was at epoch',\n",
        "      np.argmin(regr5.history.history['val_mae']))"
      ],
      "execution_count": 0,
      "outputs": [
        {
          "output_type": "stream",
          "text": [
            "The min validation loss of 48.39800981463808 ,\n",
            " was at epoch 895\n",
            "The min validation mae of 5.190907 ,\n",
            " was at epoch 895\n"
          ],
          "name": "stdout"
        }
      ]
    },
    {
      "cell_type": "markdown",
      "metadata": {
        "id": "vV6xuaxzSJWP",
        "colab_type": "text"
      },
      "source": [
        "The penalty gave us a similar result here. Sometimes (although possibly not on this dataset), regularization will be necessary to avoid overfitting the dataset.\n",
        "\n",
        "Let's compare all of the models we have fit thus far to get an idea of the best model (best on the validation data)."
      ]
    },
    {
      "cell_type": "code",
      "metadata": {
        "id": "ltiyfVImSJWQ",
        "colab_type": "code",
        "outputId": "b53b2e58-1ffb-484e-ed25-95b3530da284",
        "colab": {
          "base_uri": "https://localhost:8080/",
          "height": 34
        }
      },
      "source": [
        "# comparison of mse (loss) on validation data\n",
        "regr1.history.history['val_loss'][-1]\n",
        "regr2.history.history['val_loss'][-1]\n",
        "regr3.history.history['val_loss'][-1]\n",
        "regr4.history.history['val_loss'][-1]\n",
        "regr5.history.history['val_loss'][-1]"
      ],
      "execution_count": 0,
      "outputs": [
        {
          "output_type": "execute_result",
          "data": {
            "text/plain": [
              "113.7729057080818"
            ]
          },
          "metadata": {
            "tags": []
          },
          "execution_count": 56
        },
        {
          "output_type": "execute_result",
          "data": {
            "text/plain": [
              "35.29888226909022"
            ]
          },
          "metadata": {
            "tags": []
          },
          "execution_count": 56
        },
        {
          "output_type": "execute_result",
          "data": {
            "text/plain": [
              "47.370801174279414"
            ]
          },
          "metadata": {
            "tags": []
          },
          "execution_count": 56
        },
        {
          "output_type": "execute_result",
          "data": {
            "text/plain": [
              "87.54893812699751"
            ]
          },
          "metadata": {
            "tags": []
          },
          "execution_count": 56
        },
        {
          "output_type": "execute_result",
          "data": {
            "text/plain": [
              "57.140155745997575"
            ]
          },
          "metadata": {
            "tags": []
          },
          "execution_count": 56
        }
      ]
    },
    {
      "cell_type": "code",
      "metadata": {
        "id": "_eDg64VwSJWR",
        "colab_type": "code",
        "outputId": "ba1f8587-9e9a-4e37-8a79-302da92007d8",
        "colab": {
          "base_uri": "https://localhost:8080/",
          "height": 34
        }
      },
      "source": [
        "# comparison of mae on validation data\n",
        "regr1.history.history['val_mae'][-1]\n",
        "regr2.history.history['val_mae'][-1]\n",
        "regr3.history.history['val_mae'][-1]\n",
        "regr4.history.history['val_mae'][-1]\n",
        "regr5.history.history['val_mae'][-1]"
      ],
      "execution_count": 0,
      "outputs": [
        {
          "output_type": "execute_result",
          "data": {
            "text/plain": [
              "8.668159"
            ]
          },
          "metadata": {
            "tags": []
          },
          "execution_count": 57
        },
        {
          "output_type": "execute_result",
          "data": {
            "text/plain": [
              "4.0981016"
            ]
          },
          "metadata": {
            "tags": []
          },
          "execution_count": 57
        },
        {
          "output_type": "execute_result",
          "data": {
            "text/plain": [
              "5.255749"
            ]
          },
          "metadata": {
            "tags": []
          },
          "execution_count": 57
        },
        {
          "output_type": "execute_result",
          "data": {
            "text/plain": [
              "6.2750583"
            ]
          },
          "metadata": {
            "tags": []
          },
          "execution_count": 57
        },
        {
          "output_type": "execute_result",
          "data": {
            "text/plain": [
              "5.5746326"
            ]
          },
          "metadata": {
            "tags": []
          },
          "execution_count": 57
        }
      ]
    },
    {
      "cell_type": "markdown",
      "metadata": {
        "id": "532DmJ35SJWS",
        "colab_type": "text"
      },
      "source": [
        "It looks like our second model was the best model by either the loss function (mse) or the other chosen metric (mae). \n",
        "\n",
        "Let's select it as the 'best model', and score it on the test data. "
      ]
    },
    {
      "cell_type": "code",
      "metadata": {
        "id": "xoQ8voW0SJWS",
        "colab_type": "code",
        "outputId": "8e29a053-0af5-4500-81d5-f27361b820c5",
        "colab": {
          "base_uri": "https://localhost:8080/",
          "height": 34
        }
      },
      "source": [
        "# What happened?!?\n",
        "regr2.evaluate(x=X_test,\n",
        "               y=Y_test,\n",
        "               verbose=0)"
      ],
      "execution_count": 0,
      "outputs": [
        {
          "output_type": "execute_result",
          "data": {
            "text/plain": [
              "[33636784.116504855, 5610.8335]"
            ]
          },
          "metadata": {
            "tags": []
          },
          "execution_count": 58
        }
      ]
    },
    {
      "cell_type": "markdown",
      "metadata": {
        "id": "IEjcxTpKSJWU",
        "colab_type": "text"
      },
      "source": [
        "We need to transform the X as we did (standardize it). Good thing we set up the transformer function!"
      ]
    },
    {
      "cell_type": "code",
      "metadata": {
        "id": "czEeAfbaSJWV",
        "colab_type": "code",
        "outputId": "db83a82e-42a3-4232-db58-345833678c3a",
        "colab": {
          "base_uri": "https://localhost:8080/",
          "height": 34
        }
      },
      "source": [
        "# we need to transform the X...\n",
        "regr2.evaluate(x=norm(X_test,x_mean,x_std),\n",
        "               y=Y_test, verbose=0)"
      ],
      "execution_count": 0,
      "outputs": [
        {
          "output_type": "execute_result",
          "data": {
            "text/plain": [
              "[47.43248926551597, 4.594214]"
            ]
          },
          "metadata": {
            "tags": []
          },
          "execution_count": 59
        }
      ]
    },
    {
      "cell_type": "markdown",
      "metadata": {
        "id": "dPE8_yEDSJWW",
        "colab_type": "text"
      },
      "source": [
        "## Conclusion\n",
        "\n",
        "In this module, we have covered a lot! \n",
        "\n",
        "-  We learned how to implement a regression feed-forward NN using keras. \n",
        "-  We monitored our training error and our estimate of the generalization error via a validation dataset. \n",
        "-  We investigated some forms of regularization\n",
        "-  And then we finally chose the 'best' model. "
      ]
    }
  ]
}