{
 "cells": [
  {
   "cell_type": "markdown",
   "metadata": {},
   "source": [
    "# Deep learning with keras and tensorflow: RNN and regression models"
   ]
  },
  {
   "cell_type": "markdown",
   "metadata": {},
   "source": [
    "*Authors: Evan Carey*\n",
    "\n",
    "*Copyright 2019-2020, BH Analytics, LLC*"
   ]
  },
  {
   "cell_type": "markdown",
   "metadata": {},
   "source": [
    "## Overview\n",
    "\n",
    "In this session, we will explore implementing an deep learning model with recurrent neural layers, often call an recurrent neural network (RNN). "
   ]
  },
  {
   "cell_type": "markdown",
   "metadata": {},
   "source": [
    "## Libraries\n",
    "\n",
    "First let's import the libraries we will be using."
   ]
  },
  {
   "cell_type": "code",
   "execution_count": 1,
   "metadata": {},
   "outputs": [],
   "source": [
    "# colab specific code:\n",
    "try:\n",
    "  # %tensorflow_version only exists in Colab.\n",
    "  %tensorflow_version 2.x\n",
    "except Exception:\n",
    "  pass\n",
    "\n",
    "#import os\n",
    "#import pathlib\n",
    "import sys\n",
    "import numpy as np\n",
    "import pandas as pd\n",
    "import matplotlib\n",
    "import matplotlib.pyplot as plt\n",
    "import seaborn as sns\n",
    "import tensorflow as tf"
   ]
  },
  {
   "cell_type": "code",
   "execution_count": 2,
   "metadata": {},
   "outputs": [],
   "source": [
    "# Set default figure size to be larger\n",
    "# this may only work in matplotlib 2.0+!\n",
    "from IPython.core.interactiveshell import InteractiveShell\n",
    "matplotlib.rcParams['figure.figsize'] = [10.0, 6.0]\n",
    "# Enable multiple outputs from jupyter cells\n",
    "InteractiveShell.ast_node_interactivity = \"all\""
   ]
  },
  {
   "cell_type": "code",
   "execution_count": 3,
   "metadata": {},
   "outputs": [
    {
     "name": "stdout",
     "output_type": "stream",
     "text": [
      "Pandas version: 0.25.3\n",
      "Matplotlib version: 3.1.1\n",
      "Numpy version: 1.17.4\n",
      "Tensorflow version: 2.0.0\n"
     ]
    }
   ],
   "source": [
    "# Get Version information\n",
    "print(\"Pandas version: {0}\".format(pd.__version__))\n",
    "print(\"Matplotlib version: {0}\".format(matplotlib.__version__))\n",
    "print(\"Numpy version: {0}\".format(np.__version__))\n",
    "print(\"Tensorflow version: {0}\".format(tf.__version__))"
   ]
  },
  {
   "cell_type": "markdown",
   "metadata": {},
   "source": [
    " ## Concrete Compressive Strength Data"
   ]
  },
  {
   "cell_type": "markdown",
   "metadata": {},
   "source": [
    "We will use a classic dataset examining variation in concrete compressive strength as a function of various ingredients used in the manufacturing process. The outcome is compressive strength, a continuous variable. There are 8 inputs and 1030 rows. \n",
    "\n",
    "-  Cement (component 1) -- quantitative -- kg in a m3 mixture -- Input Variable\n",
    "-  Blast Furnace Slag (component 2) -- quantitative -- kg in a m3 mixture -- Input Variable\n",
    "-  Fly Ash (component 3) -- quantitative -- kg in a m3 mixture -- Input Variable\n",
    "-  Water (component 4) -- quantitative -- kg in a m3 mixture -- Input Variable\n",
    "-  Superplasticizer (component 5) -- quantitative -- kg in a m3 mixture -- Input Variable\n",
    "-  Coarse Aggregate (component 6) -- quantitative -- kg in a m3 mixture -- Input Variable\n",
    "-  Fine Aggregate (component 7) -- quantitative -- kg in a m3 mixture -- Input Variable\n",
    "-  Age -- quantitative -- Day (1~365) -- Input Variable\n",
    "\n",
    "Here is the reference for the data:\n",
    "\n",
    ">  I-Cheng Yeh, \"Modeling of strength of high performance concrete using artificial neural networks,\" Cement and Concrete Research, Vol. 28, No. 12, pp. 1797-1808 (1998)\n",
    "\n",
    "Check the readme for more details on this dataset. \n"
   ]
  },
  {
   "cell_type": "code",
   "execution_count": 4,
   "metadata": {
    "scrolled": true
   },
   "outputs": [
    {
     "data": {
      "text/html": [
       "<div>\n",
       "<style scoped>\n",
       "    .dataframe tbody tr th:only-of-type {\n",
       "        vertical-align: middle;\n",
       "    }\n",
       "\n",
       "    .dataframe tbody tr th {\n",
       "        vertical-align: top;\n",
       "    }\n",
       "\n",
       "    .dataframe thead th {\n",
       "        text-align: right;\n",
       "    }\n",
       "</style>\n",
       "<table border=\"1\" class=\"dataframe\">\n",
       "  <thead>\n",
       "    <tr style=\"text-align: right;\">\n",
       "      <th></th>\n",
       "      <th>Cement (component 1)(kg in a m^3 mixture)</th>\n",
       "      <th>Blast Furnace Slag (component 2)(kg in a m^3 mixture)</th>\n",
       "      <th>Fly Ash (component 3)(kg in a m^3 mixture)</th>\n",
       "      <th>Water  (component 4)(kg in a m^3 mixture)</th>\n",
       "      <th>Superplasticizer (component 5)(kg in a m^3 mixture)</th>\n",
       "      <th>Coarse Aggregate  (component 6)(kg in a m^3 mixture)</th>\n",
       "      <th>Fine Aggregate (component 7)(kg in a m^3 mixture)</th>\n",
       "      <th>Age (day)</th>\n",
       "      <th>Concrete compressive strength(MPa, megapascals)</th>\n",
       "    </tr>\n",
       "  </thead>\n",
       "  <tbody>\n",
       "    <tr>\n",
       "      <th>0</th>\n",
       "      <td>540.0</td>\n",
       "      <td>0.0</td>\n",
       "      <td>0.0</td>\n",
       "      <td>162.0</td>\n",
       "      <td>2.5</td>\n",
       "      <td>1040.0</td>\n",
       "      <td>676.0</td>\n",
       "      <td>28</td>\n",
       "      <td>79.986111</td>\n",
       "    </tr>\n",
       "    <tr>\n",
       "      <th>1</th>\n",
       "      <td>540.0</td>\n",
       "      <td>0.0</td>\n",
       "      <td>0.0</td>\n",
       "      <td>162.0</td>\n",
       "      <td>2.5</td>\n",
       "      <td>1055.0</td>\n",
       "      <td>676.0</td>\n",
       "      <td>28</td>\n",
       "      <td>61.887366</td>\n",
       "    </tr>\n",
       "    <tr>\n",
       "      <th>2</th>\n",
       "      <td>332.5</td>\n",
       "      <td>142.5</td>\n",
       "      <td>0.0</td>\n",
       "      <td>228.0</td>\n",
       "      <td>0.0</td>\n",
       "      <td>932.0</td>\n",
       "      <td>594.0</td>\n",
       "      <td>270</td>\n",
       "      <td>40.269535</td>\n",
       "    </tr>\n",
       "    <tr>\n",
       "      <th>3</th>\n",
       "      <td>332.5</td>\n",
       "      <td>142.5</td>\n",
       "      <td>0.0</td>\n",
       "      <td>228.0</td>\n",
       "      <td>0.0</td>\n",
       "      <td>932.0</td>\n",
       "      <td>594.0</td>\n",
       "      <td>365</td>\n",
       "      <td>41.052780</td>\n",
       "    </tr>\n",
       "    <tr>\n",
       "      <th>4</th>\n",
       "      <td>198.6</td>\n",
       "      <td>132.4</td>\n",
       "      <td>0.0</td>\n",
       "      <td>192.0</td>\n",
       "      <td>0.0</td>\n",
       "      <td>978.4</td>\n",
       "      <td>825.5</td>\n",
       "      <td>360</td>\n",
       "      <td>44.296075</td>\n",
       "    </tr>\n",
       "  </tbody>\n",
       "</table>\n",
       "</div>"
      ],
      "text/plain": [
       "   Cement (component 1)(kg in a m^3 mixture)  \\\n",
       "0                                      540.0   \n",
       "1                                      540.0   \n",
       "2                                      332.5   \n",
       "3                                      332.5   \n",
       "4                                      198.6   \n",
       "\n",
       "   Blast Furnace Slag (component 2)(kg in a m^3 mixture)  \\\n",
       "0                                                0.0       \n",
       "1                                                0.0       \n",
       "2                                              142.5       \n",
       "3                                              142.5       \n",
       "4                                              132.4       \n",
       "\n",
       "   Fly Ash (component 3)(kg in a m^3 mixture)  \\\n",
       "0                                         0.0   \n",
       "1                                         0.0   \n",
       "2                                         0.0   \n",
       "3                                         0.0   \n",
       "4                                         0.0   \n",
       "\n",
       "   Water  (component 4)(kg in a m^3 mixture)  \\\n",
       "0                                      162.0   \n",
       "1                                      162.0   \n",
       "2                                      228.0   \n",
       "3                                      228.0   \n",
       "4                                      192.0   \n",
       "\n",
       "   Superplasticizer (component 5)(kg in a m^3 mixture)  \\\n",
       "0                                                2.5     \n",
       "1                                                2.5     \n",
       "2                                                0.0     \n",
       "3                                                0.0     \n",
       "4                                                0.0     \n",
       "\n",
       "   Coarse Aggregate  (component 6)(kg in a m^3 mixture)  \\\n",
       "0                                             1040.0      \n",
       "1                                             1055.0      \n",
       "2                                              932.0      \n",
       "3                                              932.0      \n",
       "4                                              978.4      \n",
       "\n",
       "   Fine Aggregate (component 7)(kg in a m^3 mixture)  Age (day)  \\\n",
       "0                                              676.0         28   \n",
       "1                                              676.0         28   \n",
       "2                                              594.0        270   \n",
       "3                                              594.0        365   \n",
       "4                                              825.5        360   \n",
       "\n",
       "   Concrete compressive strength(MPa, megapascals)   \n",
       "0                                         79.986111  \n",
       "1                                         61.887366  \n",
       "2                                         40.269535  \n",
       "3                                         41.052780  \n",
       "4                                         44.296075  "
      ]
     },
     "execution_count": 4,
     "metadata": {},
     "output_type": "execute_result"
    },
    {
     "data": {
      "text/html": [
       "<div>\n",
       "<style scoped>\n",
       "    .dataframe tbody tr th:only-of-type {\n",
       "        vertical-align: middle;\n",
       "    }\n",
       "\n",
       "    .dataframe tbody tr th {\n",
       "        vertical-align: top;\n",
       "    }\n",
       "\n",
       "    .dataframe thead th {\n",
       "        text-align: right;\n",
       "    }\n",
       "</style>\n",
       "<table border=\"1\" class=\"dataframe\">\n",
       "  <thead>\n",
       "    <tr style=\"text-align: right;\">\n",
       "      <th></th>\n",
       "      <th>Cement (component 1)(kg in a m^3 mixture)</th>\n",
       "      <th>Blast Furnace Slag (component 2)(kg in a m^3 mixture)</th>\n",
       "      <th>Fly Ash (component 3)(kg in a m^3 mixture)</th>\n",
       "      <th>Water  (component 4)(kg in a m^3 mixture)</th>\n",
       "      <th>Superplasticizer (component 5)(kg in a m^3 mixture)</th>\n",
       "      <th>Coarse Aggregate  (component 6)(kg in a m^3 mixture)</th>\n",
       "      <th>Fine Aggregate (component 7)(kg in a m^3 mixture)</th>\n",
       "      <th>Age (day)</th>\n",
       "      <th>Concrete compressive strength(MPa, megapascals)</th>\n",
       "    </tr>\n",
       "  </thead>\n",
       "  <tbody>\n",
       "    <tr>\n",
       "      <th>1025</th>\n",
       "      <td>276.4</td>\n",
       "      <td>116.0</td>\n",
       "      <td>90.3</td>\n",
       "      <td>179.6</td>\n",
       "      <td>8.9</td>\n",
       "      <td>870.1</td>\n",
       "      <td>768.3</td>\n",
       "      <td>28</td>\n",
       "      <td>44.284354</td>\n",
       "    </tr>\n",
       "    <tr>\n",
       "      <th>1026</th>\n",
       "      <td>322.2</td>\n",
       "      <td>0.0</td>\n",
       "      <td>115.6</td>\n",
       "      <td>196.0</td>\n",
       "      <td>10.4</td>\n",
       "      <td>817.9</td>\n",
       "      <td>813.4</td>\n",
       "      <td>28</td>\n",
       "      <td>31.178794</td>\n",
       "    </tr>\n",
       "    <tr>\n",
       "      <th>1027</th>\n",
       "      <td>148.5</td>\n",
       "      <td>139.4</td>\n",
       "      <td>108.6</td>\n",
       "      <td>192.7</td>\n",
       "      <td>6.1</td>\n",
       "      <td>892.4</td>\n",
       "      <td>780.0</td>\n",
       "      <td>28</td>\n",
       "      <td>23.696601</td>\n",
       "    </tr>\n",
       "    <tr>\n",
       "      <th>1028</th>\n",
       "      <td>159.1</td>\n",
       "      <td>186.7</td>\n",
       "      <td>0.0</td>\n",
       "      <td>175.6</td>\n",
       "      <td>11.3</td>\n",
       "      <td>989.6</td>\n",
       "      <td>788.9</td>\n",
       "      <td>28</td>\n",
       "      <td>32.768036</td>\n",
       "    </tr>\n",
       "    <tr>\n",
       "      <th>1029</th>\n",
       "      <td>260.9</td>\n",
       "      <td>100.5</td>\n",
       "      <td>78.3</td>\n",
       "      <td>200.6</td>\n",
       "      <td>8.6</td>\n",
       "      <td>864.5</td>\n",
       "      <td>761.5</td>\n",
       "      <td>28</td>\n",
       "      <td>32.401235</td>\n",
       "    </tr>\n",
       "  </tbody>\n",
       "</table>\n",
       "</div>"
      ],
      "text/plain": [
       "      Cement (component 1)(kg in a m^3 mixture)  \\\n",
       "1025                                      276.4   \n",
       "1026                                      322.2   \n",
       "1027                                      148.5   \n",
       "1028                                      159.1   \n",
       "1029                                      260.9   \n",
       "\n",
       "      Blast Furnace Slag (component 2)(kg in a m^3 mixture)  \\\n",
       "1025                                              116.0       \n",
       "1026                                                0.0       \n",
       "1027                                              139.4       \n",
       "1028                                              186.7       \n",
       "1029                                              100.5       \n",
       "\n",
       "      Fly Ash (component 3)(kg in a m^3 mixture)  \\\n",
       "1025                                        90.3   \n",
       "1026                                       115.6   \n",
       "1027                                       108.6   \n",
       "1028                                         0.0   \n",
       "1029                                        78.3   \n",
       "\n",
       "      Water  (component 4)(kg in a m^3 mixture)  \\\n",
       "1025                                      179.6   \n",
       "1026                                      196.0   \n",
       "1027                                      192.7   \n",
       "1028                                      175.6   \n",
       "1029                                      200.6   \n",
       "\n",
       "      Superplasticizer (component 5)(kg in a m^3 mixture)  \\\n",
       "1025                                                8.9     \n",
       "1026                                               10.4     \n",
       "1027                                                6.1     \n",
       "1028                                               11.3     \n",
       "1029                                                8.6     \n",
       "\n",
       "      Coarse Aggregate  (component 6)(kg in a m^3 mixture)  \\\n",
       "1025                                              870.1      \n",
       "1026                                              817.9      \n",
       "1027                                              892.4      \n",
       "1028                                              989.6      \n",
       "1029                                              864.5      \n",
       "\n",
       "      Fine Aggregate (component 7)(kg in a m^3 mixture)  Age (day)  \\\n",
       "1025                                              768.3         28   \n",
       "1026                                              813.4         28   \n",
       "1027                                              780.0         28   \n",
       "1028                                              788.9         28   \n",
       "1029                                              761.5         28   \n",
       "\n",
       "      Concrete compressive strength(MPa, megapascals)   \n",
       "1025                                         44.284354  \n",
       "1026                                         31.178794  \n",
       "1027                                         23.696601  \n",
       "1028                                         32.768036  \n",
       "1029                                         32.401235  "
      ]
     },
     "execution_count": 4,
     "metadata": {},
     "output_type": "execute_result"
    }
   ],
   "source": [
    "# import the dataset\n",
    "url = r'https://raw.githubusercontent.com/evan-paul-carey/deep-learning-workshop/master/Course_materials/data/concrete.csv'\n",
    "concrete_source = \\\n",
    "    pd.read_csv(url)\n",
    "concrete_source.head()\n",
    "concrete_source.tail()"
   ]
  },
  {
   "cell_type": "code",
   "execution_count": 5,
   "metadata": {},
   "outputs": [
    {
     "data": {
      "text/html": [
       "<div>\n",
       "<style scoped>\n",
       "    .dataframe tbody tr th:only-of-type {\n",
       "        vertical-align: middle;\n",
       "    }\n",
       "\n",
       "    .dataframe tbody tr th {\n",
       "        vertical-align: top;\n",
       "    }\n",
       "\n",
       "    .dataframe thead th {\n",
       "        text-align: right;\n",
       "    }\n",
       "</style>\n",
       "<table border=\"1\" class=\"dataframe\">\n",
       "  <thead>\n",
       "    <tr style=\"text-align: right;\">\n",
       "      <th></th>\n",
       "      <th>Cement</th>\n",
       "      <th>Blast_Furnace_Slag</th>\n",
       "      <th>Fly_Ash</th>\n",
       "      <th>Water</th>\n",
       "      <th>Superplasticizer</th>\n",
       "      <th>Coarse_Aggregate</th>\n",
       "      <th>Fine_Aggregate</th>\n",
       "      <th>Age</th>\n",
       "      <th>Concrete_compressive_strength</th>\n",
       "    </tr>\n",
       "  </thead>\n",
       "  <tbody>\n",
       "    <tr>\n",
       "      <th>0</th>\n",
       "      <td>540.0</td>\n",
       "      <td>0.0</td>\n",
       "      <td>0.0</td>\n",
       "      <td>162.0</td>\n",
       "      <td>2.5</td>\n",
       "      <td>1040.0</td>\n",
       "      <td>676.0</td>\n",
       "      <td>28</td>\n",
       "      <td>79.986111</td>\n",
       "    </tr>\n",
       "    <tr>\n",
       "      <th>1</th>\n",
       "      <td>540.0</td>\n",
       "      <td>0.0</td>\n",
       "      <td>0.0</td>\n",
       "      <td>162.0</td>\n",
       "      <td>2.5</td>\n",
       "      <td>1055.0</td>\n",
       "      <td>676.0</td>\n",
       "      <td>28</td>\n",
       "      <td>61.887366</td>\n",
       "    </tr>\n",
       "    <tr>\n",
       "      <th>2</th>\n",
       "      <td>332.5</td>\n",
       "      <td>142.5</td>\n",
       "      <td>0.0</td>\n",
       "      <td>228.0</td>\n",
       "      <td>0.0</td>\n",
       "      <td>932.0</td>\n",
       "      <td>594.0</td>\n",
       "      <td>270</td>\n",
       "      <td>40.269535</td>\n",
       "    </tr>\n",
       "    <tr>\n",
       "      <th>3</th>\n",
       "      <td>332.5</td>\n",
       "      <td>142.5</td>\n",
       "      <td>0.0</td>\n",
       "      <td>228.0</td>\n",
       "      <td>0.0</td>\n",
       "      <td>932.0</td>\n",
       "      <td>594.0</td>\n",
       "      <td>365</td>\n",
       "      <td>41.052780</td>\n",
       "    </tr>\n",
       "    <tr>\n",
       "      <th>4</th>\n",
       "      <td>198.6</td>\n",
       "      <td>132.4</td>\n",
       "      <td>0.0</td>\n",
       "      <td>192.0</td>\n",
       "      <td>0.0</td>\n",
       "      <td>978.4</td>\n",
       "      <td>825.5</td>\n",
       "      <td>360</td>\n",
       "      <td>44.296075</td>\n",
       "    </tr>\n",
       "  </tbody>\n",
       "</table>\n",
       "</div>"
      ],
      "text/plain": [
       "   Cement  Blast_Furnace_Slag  Fly_Ash  Water  Superplasticizer  \\\n",
       "0   540.0                 0.0      0.0  162.0               2.5   \n",
       "1   540.0                 0.0      0.0  162.0               2.5   \n",
       "2   332.5               142.5      0.0  228.0               0.0   \n",
       "3   332.5               142.5      0.0  228.0               0.0   \n",
       "4   198.6               132.4      0.0  192.0               0.0   \n",
       "\n",
       "   Coarse_Aggregate  Fine_Aggregate  Age  Concrete_compressive_strength  \n",
       "0            1040.0           676.0   28                      79.986111  \n",
       "1            1055.0           676.0   28                      61.887366  \n",
       "2             932.0           594.0  270                      40.269535  \n",
       "3             932.0           594.0  365                      41.052780  \n",
       "4             978.4           825.5  360                      44.296075  "
      ]
     },
     "execution_count": 5,
     "metadata": {},
     "output_type": "execute_result"
    }
   ],
   "source": [
    "# rename the variables to make life easier ;)\n",
    "# use the re module\n",
    "# look for paranthesis, only keep first part\n",
    "import re\n",
    "temp_names = [re.split(' *\\(', x)[0] for x in concrete_source.columns]\n",
    "# sub spaces for underscores\n",
    "concrete_source.columns = [re.sub(' +', '_', x) for x in temp_names]\n",
    "concrete_source.head()"
   ]
  },
  {
   "cell_type": "markdown",
   "metadata": {},
   "source": [
    "Since we have no categorical data, we can just use the `.describe()` method"
   ]
  },
  {
   "cell_type": "code",
   "execution_count": 6,
   "metadata": {},
   "outputs": [
    {
     "data": {
      "text/html": [
       "<div>\n",
       "<style scoped>\n",
       "    .dataframe tbody tr th:only-of-type {\n",
       "        vertical-align: middle;\n",
       "    }\n",
       "\n",
       "    .dataframe tbody tr th {\n",
       "        vertical-align: top;\n",
       "    }\n",
       "\n",
       "    .dataframe thead th {\n",
       "        text-align: right;\n",
       "    }\n",
       "</style>\n",
       "<table border=\"1\" class=\"dataframe\">\n",
       "  <thead>\n",
       "    <tr style=\"text-align: right;\">\n",
       "      <th></th>\n",
       "      <th>Cement</th>\n",
       "      <th>Blast_Furnace_Slag</th>\n",
       "      <th>Fly_Ash</th>\n",
       "      <th>Water</th>\n",
       "      <th>Superplasticizer</th>\n",
       "      <th>Coarse_Aggregate</th>\n",
       "      <th>Fine_Aggregate</th>\n",
       "      <th>Age</th>\n",
       "      <th>Concrete_compressive_strength</th>\n",
       "    </tr>\n",
       "  </thead>\n",
       "  <tbody>\n",
       "    <tr>\n",
       "      <th>count</th>\n",
       "      <td>1030.000000</td>\n",
       "      <td>1030.000000</td>\n",
       "      <td>1030.000000</td>\n",
       "      <td>1030.000000</td>\n",
       "      <td>1030.000000</td>\n",
       "      <td>1030.000000</td>\n",
       "      <td>1030.000000</td>\n",
       "      <td>1030.000000</td>\n",
       "      <td>1030.000000</td>\n",
       "    </tr>\n",
       "    <tr>\n",
       "      <th>mean</th>\n",
       "      <td>281.165631</td>\n",
       "      <td>73.895485</td>\n",
       "      <td>54.187136</td>\n",
       "      <td>181.566359</td>\n",
       "      <td>6.203112</td>\n",
       "      <td>972.918592</td>\n",
       "      <td>773.578883</td>\n",
       "      <td>45.662136</td>\n",
       "      <td>35.817836</td>\n",
       "    </tr>\n",
       "    <tr>\n",
       "      <th>std</th>\n",
       "      <td>104.507142</td>\n",
       "      <td>86.279104</td>\n",
       "      <td>63.996469</td>\n",
       "      <td>21.355567</td>\n",
       "      <td>5.973492</td>\n",
       "      <td>77.753818</td>\n",
       "      <td>80.175427</td>\n",
       "      <td>63.169912</td>\n",
       "      <td>16.705679</td>\n",
       "    </tr>\n",
       "    <tr>\n",
       "      <th>min</th>\n",
       "      <td>102.000000</td>\n",
       "      <td>0.000000</td>\n",
       "      <td>0.000000</td>\n",
       "      <td>121.750000</td>\n",
       "      <td>0.000000</td>\n",
       "      <td>801.000000</td>\n",
       "      <td>594.000000</td>\n",
       "      <td>1.000000</td>\n",
       "      <td>2.331808</td>\n",
       "    </tr>\n",
       "    <tr>\n",
       "      <th>25%</th>\n",
       "      <td>192.375000</td>\n",
       "      <td>0.000000</td>\n",
       "      <td>0.000000</td>\n",
       "      <td>164.900000</td>\n",
       "      <td>0.000000</td>\n",
       "      <td>932.000000</td>\n",
       "      <td>730.950000</td>\n",
       "      <td>7.000000</td>\n",
       "      <td>23.707115</td>\n",
       "    </tr>\n",
       "    <tr>\n",
       "      <th>50%</th>\n",
       "      <td>272.900000</td>\n",
       "      <td>22.000000</td>\n",
       "      <td>0.000000</td>\n",
       "      <td>185.000000</td>\n",
       "      <td>6.350000</td>\n",
       "      <td>968.000000</td>\n",
       "      <td>779.510000</td>\n",
       "      <td>28.000000</td>\n",
       "      <td>34.442774</td>\n",
       "    </tr>\n",
       "    <tr>\n",
       "      <th>75%</th>\n",
       "      <td>350.000000</td>\n",
       "      <td>142.950000</td>\n",
       "      <td>118.270000</td>\n",
       "      <td>192.000000</td>\n",
       "      <td>10.160000</td>\n",
       "      <td>1029.400000</td>\n",
       "      <td>824.000000</td>\n",
       "      <td>56.000000</td>\n",
       "      <td>46.136287</td>\n",
       "    </tr>\n",
       "    <tr>\n",
       "      <th>max</th>\n",
       "      <td>540.000000</td>\n",
       "      <td>359.400000</td>\n",
       "      <td>200.100000</td>\n",
       "      <td>247.000000</td>\n",
       "      <td>32.200000</td>\n",
       "      <td>1145.000000</td>\n",
       "      <td>992.600000</td>\n",
       "      <td>365.000000</td>\n",
       "      <td>82.599225</td>\n",
       "    </tr>\n",
       "  </tbody>\n",
       "</table>\n",
       "</div>"
      ],
      "text/plain": [
       "            Cement  Blast_Furnace_Slag      Fly_Ash        Water  \\\n",
       "count  1030.000000         1030.000000  1030.000000  1030.000000   \n",
       "mean    281.165631           73.895485    54.187136   181.566359   \n",
       "std     104.507142           86.279104    63.996469    21.355567   \n",
       "min     102.000000            0.000000     0.000000   121.750000   \n",
       "25%     192.375000            0.000000     0.000000   164.900000   \n",
       "50%     272.900000           22.000000     0.000000   185.000000   \n",
       "75%     350.000000          142.950000   118.270000   192.000000   \n",
       "max     540.000000          359.400000   200.100000   247.000000   \n",
       "\n",
       "       Superplasticizer  Coarse_Aggregate  Fine_Aggregate          Age  \\\n",
       "count       1030.000000       1030.000000     1030.000000  1030.000000   \n",
       "mean           6.203112        972.918592      773.578883    45.662136   \n",
       "std            5.973492         77.753818       80.175427    63.169912   \n",
       "min            0.000000        801.000000      594.000000     1.000000   \n",
       "25%            0.000000        932.000000      730.950000     7.000000   \n",
       "50%            6.350000        968.000000      779.510000    28.000000   \n",
       "75%           10.160000       1029.400000      824.000000    56.000000   \n",
       "max           32.200000       1145.000000      992.600000   365.000000   \n",
       "\n",
       "       Concrete_compressive_strength  \n",
       "count                    1030.000000  \n",
       "mean                       35.817836  \n",
       "std                        16.705679  \n",
       "min                         2.331808  \n",
       "25%                        23.707115  \n",
       "50%                        34.442774  \n",
       "75%                        46.136287  \n",
       "max                        82.599225  "
      ]
     },
     "execution_count": 6,
     "metadata": {},
     "output_type": "execute_result"
    }
   ],
   "source": [
    "# Describe all the data\n",
    "concrete_source.describe(include='all')"
   ]
  },
  {
   "cell_type": "markdown",
   "metadata": {},
   "source": [
    "We will check for missing as well:"
   ]
  },
  {
   "cell_type": "code",
   "execution_count": 7,
   "metadata": {},
   "outputs": [
    {
     "data": {
      "text/plain": [
       "Cement                           0\n",
       "Blast_Furnace_Slag               0\n",
       "Fly_Ash                          0\n",
       "Water                            0\n",
       "Superplasticizer                 0\n",
       "Coarse_Aggregate                 0\n",
       "Fine_Aggregate                   0\n",
       "Age                              0\n",
       "Concrete_compressive_strength    0\n",
       "dtype: int64"
      ]
     },
     "execution_count": 7,
     "metadata": {},
     "output_type": "execute_result"
    }
   ],
   "source": [
    "# summarize missing by column\n",
    "concrete_source.isna().sum()"
   ]
  },
  {
   "cell_type": "markdown",
   "metadata": {},
   "source": [
    "We can see there is no missing data. The average compressive strength is 35.8, but the minimum is 2.3 while the max is 82.5. We want to implement a neural network that captures the non-linear and interactions in these inputs and then predicts compressive strength as a function of the inputs. "
   ]
  },
  {
   "cell_type": "code",
   "execution_count": 8,
   "metadata": {},
   "outputs": [
    {
     "data": {
      "text/plain": [
       "<matplotlib.axes._subplots.AxesSubplot at 0x1cb4a9e3a08>"
      ]
     },
     "execution_count": 8,
     "metadata": {},
     "output_type": "execute_result"
    },
    {
     "data": {
      "image/png": "[encoded data removed]",
      "text/plain": [
       "<Figure size 720x432 with 1 Axes>"
      ]
     },
     "metadata": {
      "needs_background": "light"
     },
     "output_type": "display_data"
    }
   ],
   "source": [
    "# check the distribution of the outcome\n",
    "sns.distplot(concrete_source['Concrete_compressive_strength'])"
   ]
  },
  {
   "cell_type": "markdown",
   "metadata": {},
   "source": [
    "## Setting up a traing/validation/testing dataset"
   ]
  },
  {
   "cell_type": "markdown",
   "metadata": {},
   "source": [
    "Recall our goal in machine learning in general - to develop an algorithm that minimizes **generalization error**.\n",
    "\n",
    "However, we can't directly observe **generalization error**, since it is based on out of sample data. \n",
    "\n",
    "We need to set up a separate training and testing dataset for our models. We will use the training dataset to train model parameters, then use the the testing dataset to estimate generalization error (instead of training error). I will use a random subset of the data in this case.\n",
    "\n",
    "> Other options can include leveraging time series elements of our data (if present), or leveraging clusters in our data (like stores, or plants, or customers). However we don't have those elements in this dataset, so we will use a random subset. "
   ]
  },
  {
   "cell_type": "code",
   "execution_count": 9,
   "metadata": {},
   "outputs": [
    {
     "name": "stdout",
     "output_type": "stream",
     "text": [
      "training data size: (824, 9)\n",
      "testing data size: (206, 9)\n"
     ]
    }
   ],
   "source": [
    "# initial split - default is to shuffle data and randomly split\n",
    "concrete_train = concrete_source.sample(frac=0.8,\n",
    "                                       random_state=0)\n",
    "concrete_test = concrete_source.drop(concrete_train.index)\n",
    "# check dims\n",
    "print('training data size:', concrete_train.shape)\n",
    "print('testing data size:', concrete_test.shape)"
   ]
  },
  {
   "cell_type": "markdown",
   "metadata": {},
   "source": [
    "## Convert to numpy objects"
   ]
  },
  {
   "cell_type": "markdown",
   "metadata": {},
   "source": [
    "We need to end up with numpy X and Y matrices to use as inputs to the keras workflow. There are a number of possible ways to do this. In this case, we have no categorical variables, so it is a bit easier. If there were categorical variables we would need to decide how to represent them as numbers. I good choice would be one hot encoding, or dummy coding. You could use  the `get_dummies()` function from `Pandas`, or the `patsy` package to adopt an R-style formula interface to generate the appropriate matrices (or other ways). "
   ]
  },
  {
   "cell_type": "code",
   "execution_count": 10,
   "metadata": {},
   "outputs": [],
   "source": [
    "# pd.get_dummies()\n",
    "## create numpy arrays from the target and inputs\n",
    "Y_train = concrete_train.pop('Concrete_compressive_strength').values\n",
    "Y_test = concrete_test.pop('Concrete_compressive_strength').values\n",
    "X_train = concrete_train.values\n",
    "X_test = concrete_test.values"
   ]
  },
  {
   "cell_type": "markdown",
   "metadata": {},
   "source": [
    "## Build the first keras model"
   ]
  },
  {
   "cell_type": "markdown",
   "metadata": {},
   "source": [
    "We will start with the equivalent model to a linear regression. The recommended default optimizer to use is `rmsprop`, so we will start there. \n",
    "\n",
    "> Notice that I am using the tensorflow.keras module instead of just keras. These are slightly different - tensorflow had imported the keras API into their library. There are minor differences, so this is important to note!"
   ]
  },
  {
   "cell_type": "code",
   "execution_count": 11,
   "metadata": {},
   "outputs": [],
   "source": [
    "# import needed parts\n",
    "from tensorflow.keras.layers import Dense\n",
    "from tensorflow.keras import Sequential\n",
    "# build a simple linear model\n",
    "\n",
    "\n",
    "def build_model1():\n",
    "    model = Sequential()\n",
    "    model.add(Dense(1,\n",
    "                    activation='linear',\n",
    "                    input_dim=X_train.shape[1]))\n",
    "    model.compile(optimizer='rmsprop',\n",
    "                  loss='mse',  # mean squared error\n",
    "                  metrics=['mae'])  # mean absolute error\n",
    "    return model"
   ]
  },
  {
   "cell_type": "markdown",
   "metadata": {},
   "source": [
    "We will need to scale the training and testing data in a consistent manner. Let's use the sklearn `StandardScaler()` to accomplish this. This will apply the same transformation (based on the initial `.fit()` call) to subsequent datasets. "
   ]
  },
  {
   "cell_type": "code",
   "execution_count": 12,
   "metadata": {},
   "outputs": [],
   "source": [
    "# Capture mean and stdev\n",
    "# we will want to use this mean and stdev on future data!\n",
    "x_mean = np.mean(X_train,axis=0) # column means\n",
    "x_std = np.std(X_train,axis=0) # column std"
   ]
  },
  {
   "cell_type": "code",
   "execution_count": 13,
   "metadata": {},
   "outputs": [],
   "source": [
    "# write function to normalize\n",
    "def norm(x,mean,std):\n",
    "  return (x - mean) / std"
   ]
  },
  {
   "cell_type": "code",
   "execution_count": 14,
   "metadata": {},
   "outputs": [
    {
     "name": "stdout",
     "output_type": "stream",
     "text": [
      "Column means are:\n"
     ]
    },
    {
     "data": {
      "text/plain": [
       "array([ 2.43602334e-16, -1.25034826e-16,  8.62309145e-17, -6.88769430e-16,\n",
       "        1.55215646e-16,  1.13178075e-16, -9.45306401e-16,  3.66481387e-17])"
      ]
     },
     "execution_count": 14,
     "metadata": {},
     "output_type": "execute_result"
    },
    {
     "name": "stdout",
     "output_type": "stream",
     "text": [
      "Column stdev are:\n"
     ]
    },
    {
     "data": {
      "text/plain": [
       "array([1., 1., 1., 1., 1., 1., 1., 1.])"
      ]
     },
     "execution_count": 14,
     "metadata": {},
     "output_type": "execute_result"
    }
   ],
   "source": [
    "# normalize the x values\n",
    "X_train_s = norm(X_train,x_mean,x_std)\n",
    "# check this worked!\n",
    "# means should be zero, std should be 1\n",
    "print('Column means are:')\n",
    "np.mean(X_train_s,axis=0)\n",
    "print('Column stdev are:')\n",
    "np.std(X_train_s,axis=0)"
   ]
  },
  {
   "cell_type": "markdown",
   "metadata": {},
   "source": [
    "Now we can fit the model to the dataset and investigate the results."
   ]
  },
  {
   "cell_type": "code",
   "execution_count": 15,
   "metadata": {},
   "outputs": [
    {
     "name": "stdout",
     "output_type": "stream",
     "text": [
      "Train on 659 samples, validate on 165 samples\n",
      "Epoch 1/40\n",
      "659/659 [==============================] - 1s 1ms/sample - loss: 1513.7251 - mae: 35.4257 - val_loss: 1631.7784 - val_mae: 36.9001\n",
      "Epoch 2/40\n",
      "659/659 [==============================] - 0s 87us/sample - loss: 1511.3276 - mae: 35.4025 - val_loss: 1629.4056 - val_mae: 36.8782\n",
      "Epoch 3/40\n",
      "659/659 [==============================] - 0s 84us/sample - loss: 1509.1470 - mae: 35.3813 - val_loss: 1627.0617 - val_mae: 36.8563\n",
      "Epoch 4/40\n",
      "659/659 [==============================] - 0s 84us/sample - loss: 1507.0057 - mae: 35.3603 - val_loss: 1624.7306 - val_mae: 36.8347\n",
      "Epoch 5/40\n",
      "659/659 [==============================] - 0s 85us/sample - loss: 1504.8934 - mae: 35.3399 - val_loss: 1622.5281 - val_mae: 36.8132\n",
      "Epoch 6/40\n",
      "659/659 [==============================] - 0s 86us/sample - loss: 1502.8020 - mae: 35.3186 - val_loss: 1620.1952 - val_mae: 36.7915\n",
      "Epoch 7/40\n",
      "659/659 [==============================] - 0s 78us/sample - loss: 1500.6493 - mae: 35.2978 - val_loss: 1617.8490 - val_mae: 36.7696\n",
      "Epoch 8/40\n",
      "659/659 [==============================] - 0s 85us/sample - loss: 1498.5572 - mae: 35.2771 - val_loss: 1615.6055 - val_mae: 36.7480\n",
      "Epoch 9/40\n",
      "659/659 [==============================] - 0s 85us/sample - loss: 1496.4590 - mae: 35.2568 - val_loss: 1613.3103 - val_mae: 36.7265\n",
      "Epoch 10/40\n",
      "659/659 [==============================] - 0s 80us/sample - loss: 1494.3575 - mae: 35.2361 - val_loss: 1611.0455 - val_mae: 36.7048\n",
      "Epoch 11/40\n",
      "659/659 [==============================] - 0s 78us/sample - loss: 1492.2611 - mae: 35.2155 - val_loss: 1608.8033 - val_mae: 36.6836\n",
      "Epoch 12/40\n",
      "659/659 [==============================] - 0s 82us/sample - loss: 1490.1639 - mae: 35.1948 - val_loss: 1606.5231 - val_mae: 36.6619\n",
      "Epoch 13/40\n",
      "659/659 [==============================] - 0s 84us/sample - loss: 1488.0640 - mae: 35.1736 - val_loss: 1604.2425 - val_mae: 36.6401\n",
      "Epoch 14/40\n",
      "659/659 [==============================] - 0s 80us/sample - loss: 1485.9328 - mae: 35.1528 - val_loss: 1601.8927 - val_mae: 36.6184\n",
      "Epoch 15/40\n",
      "659/659 [==============================] - 0s 77us/sample - loss: 1483.8120 - mae: 35.1321 - val_loss: 1599.6633 - val_mae: 36.5969\n",
      "Epoch 16/40\n",
      "659/659 [==============================] - 0s 77us/sample - loss: 1481.7658 - mae: 35.1113 - val_loss: 1597.4431 - val_mae: 36.5754\n",
      "Epoch 17/40\n",
      "659/659 [==============================] - 0s 77us/sample - loss: 1479.6998 - mae: 35.0906 - val_loss: 1595.1914 - val_mae: 36.5537\n",
      "Epoch 18/40\n",
      "659/659 [==============================] - 0s 77us/sample - loss: 1477.6225 - mae: 35.0699 - val_loss: 1592.9643 - val_mae: 36.5322\n",
      "Epoch 19/40\n",
      "659/659 [==============================] - 0s 76us/sample - loss: 1475.5462 - mae: 35.0488 - val_loss: 1590.6679 - val_mae: 36.5103\n",
      "Epoch 20/40\n",
      "659/659 [==============================] - 0s 77us/sample - loss: 1473.4549 - mae: 35.0284 - val_loss: 1588.3913 - val_mae: 36.4886\n",
      "Epoch 21/40\n",
      "659/659 [==============================] - 0s 77us/sample - loss: 1471.3499 - mae: 35.0076 - val_loss: 1586.1350 - val_mae: 36.4669\n",
      "Epoch 22/40\n",
      "659/659 [==============================] - 0s 85us/sample - loss: 1469.2797 - mae: 34.9875 - val_loss: 1583.9019 - val_mae: 36.4451\n",
      "Epoch 23/40\n",
      "659/659 [==============================] - 0s 78us/sample - loss: 1467.1853 - mae: 34.9658 - val_loss: 1581.5839 - val_mae: 36.4232\n",
      "Epoch 24/40\n",
      "659/659 [==============================] - 0s 77us/sample - loss: 1465.1366 - mae: 34.9460 - val_loss: 1579.4409 - val_mae: 36.4017\n",
      "Epoch 25/40\n",
      "659/659 [==============================] - 0s 77us/sample - loss: 1463.1088 - mae: 34.9245 - val_loss: 1577.2048 - val_mae: 36.3799\n",
      "Epoch 26/40\n",
      "659/659 [==============================] - 0s 80us/sample - loss: 1461.0473 - mae: 34.9038 - val_loss: 1574.9751 - val_mae: 36.3584\n",
      "Epoch 27/40\n",
      "659/659 [==============================] - 0s 86us/sample - loss: 1458.9883 - mae: 34.8832 - val_loss: 1572.7129 - val_mae: 36.3366\n",
      "Epoch 28/40\n",
      "659/659 [==============================] - 0s 79us/sample - loss: 1456.9268 - mae: 34.8628 - val_loss: 1570.5007 - val_mae: 36.3148\n",
      "Epoch 29/40\n",
      "659/659 [==============================] - 0s 76us/sample - loss: 1454.8942 - mae: 34.8423 - val_loss: 1568.2926 - val_mae: 36.2930\n",
      "Epoch 30/40\n",
      "659/659 [==============================] - 0s 77us/sample - loss: 1452.8598 - mae: 34.8211 - val_loss: 1566.0896 - val_mae: 36.2714\n",
      "Epoch 31/40\n",
      "659/659 [==============================] - 0s 78us/sample - loss: 1450.8508 - mae: 34.8005 - val_loss: 1563.9400 - val_mae: 36.2499\n",
      "Epoch 32/40\n",
      "659/659 [==============================] - 0s 88us/sample - loss: 1448.8813 - mae: 34.7802 - val_loss: 1561.8247 - val_mae: 36.2288\n",
      "Epoch 33/40\n",
      "659/659 [==============================] - 0s 84us/sample - loss: 1446.8558 - mae: 34.7587 - val_loss: 1559.6030 - val_mae: 36.2070\n",
      "Epoch 34/40\n",
      "659/659 [==============================] - 0s 83us/sample - loss: 1444.8476 - mae: 34.7378 - val_loss: 1557.4379 - val_mae: 36.1853\n",
      "Epoch 35/40\n",
      "659/659 [==============================] - 0s 78us/sample - loss: 1442.8319 - mae: 34.7172 - val_loss: 1555.1879 - val_mae: 36.1634\n",
      "Epoch 36/40\n",
      "659/659 [==============================] - 0s 77us/sample - loss: 1440.7700 - mae: 34.6966 - val_loss: 1553.0018 - val_mae: 36.1419\n",
      "Epoch 37/40\n",
      "659/659 [==============================] - 0s 81us/sample - loss: 1438.7756 - mae: 34.6761 - val_loss: 1550.8838 - val_mae: 36.1207\n",
      "Epoch 38/40\n",
      "659/659 [==============================] - 0s 74us/sample - loss: 1436.7574 - mae: 34.6550 - val_loss: 1548.6268 - val_mae: 36.0990\n",
      "Epoch 39/40\n",
      "659/659 [==============================] - 0s 71us/sample - loss: 1434.7069 - mae: 34.6345 - val_loss: 1546.4115 - val_mae: 36.0771\n",
      "Epoch 40/40\n",
      "659/659 [==============================] - 0s 74us/sample - loss: 1432.6352 - mae: 34.6132 - val_loss: 1544.1276 - val_mae: 36.0550\n"
     ]
    },
    {
     "data": {
      "text/plain": [
       "<tensorflow.python.keras.callbacks.History at 0x1cb567f6cc8>"
      ]
     },
     "execution_count": 15,
     "metadata": {},
     "output_type": "execute_result"
    }
   ],
   "source": [
    "# fit this model/architecture to my data\n",
    "regr1 = build_model1()\n",
    "regr1.fit(X_train_s,\n",
    "          Y_train,\n",
    "          epochs=40,\n",
    "          validation_split=0.2)"
   ]
  },
  {
   "cell_type": "markdown",
   "metadata": {},
   "source": [
    "We can investigate the model object by asking for the layer weights (just the slope and one weight per input in this model) by asking for the model summary. "
   ]
  },
  {
   "cell_type": "code",
   "execution_count": 16,
   "metadata": {},
   "outputs": [
    {
     "name": "stdout",
     "output_type": "stream",
     "text": [
      "Model: \"sequential\"\n",
      "_________________________________________________________________\n",
      "Layer (type)                 Output Shape              Param #   \n",
      "=================================================================\n",
      "dense (Dense)                (None, 1)                 9         \n",
      "=================================================================\n",
      "Total params: 9\n",
      "Trainable params: 9\n",
      "Non-trainable params: 0\n",
      "_________________________________________________________________\n"
     ]
    }
   ],
   "source": [
    "# summarize model\n",
    "regr1.summary()"
   ]
  },
  {
   "cell_type": "code",
   "execution_count": 17,
   "metadata": {},
   "outputs": [
    {
     "data": {
      "text/plain": [
       "[array([[ 0.9072434 ],\n",
       "        [ 0.21403272],\n",
       "        [-0.09804083],\n",
       "        [-0.6777894 ],\n",
       "        [ 0.45452335],\n",
       "        [-0.5675199 ],\n",
       "        [-0.19644596],\n",
       "        [ 0.8521321 ]], dtype=float32), array([0.84647405], dtype=float32)]"
      ]
     },
     "execution_count": 17,
     "metadata": {},
     "output_type": "execute_result"
    }
   ],
   "source": [
    "# Retrieve the weights\n",
    "regr1.get_weights()"
   ]
  },
  {
   "cell_type": "markdown",
   "metadata": {},
   "source": [
    "A good way to understand if the model has fit is to monitor the training error and the validation error for both the loss function (MSE in this case), and another sensible metric (MAE). "
   ]
  },
  {
   "cell_type": "code",
   "execution_count": 18,
   "metadata": {},
   "outputs": [
    {
     "data": {
      "text/plain": [
       "[<matplotlib.lines.Line2D at 0x1cb5709af88>]"
      ]
     },
     "execution_count": 18,
     "metadata": {},
     "output_type": "execute_result"
    },
    {
     "data": {
      "text/plain": [
       "[<matplotlib.lines.Line2D at 0x1cb57078308>]"
      ]
     },
     "execution_count": 18,
     "metadata": {},
     "output_type": "execute_result"
    },
    {
     "data": {
      "image/png": "[encoded data removed]",
      "text/plain": [
       "<Figure size 720x432 with 1 Axes>"
      ]
     },
     "metadata": {
      "needs_background": "light"
     },
     "output_type": "display_data"
    }
   ],
   "source": [
    "## plot the loss function per epoch\n",
    "plt.plot(regr1.history.history['loss'],\n",
    "        color='red')\n",
    "plt.plot(regr1.history.history['val_loss'],\n",
    "        color='blue')"
   ]
  },
  {
   "cell_type": "code",
   "execution_count": 19,
   "metadata": {},
   "outputs": [
    {
     "data": {
      "text/plain": [
       "[<matplotlib.lines.Line2D at 0x1cb5725cdc8>]"
      ]
     },
     "execution_count": 19,
     "metadata": {},
     "output_type": "execute_result"
    },
    {
     "data": {
      "text/plain": [
       "[<matplotlib.lines.Line2D at 0x1cb572365c8>]"
      ]
     },
     "execution_count": 19,
     "metadata": {},
     "output_type": "execute_result"
    },
    {
     "data": {
      "image/png": "[encoded data removed]",
      "text/plain": [
       "<Figure size 720x432 with 1 Axes>"
      ]
     },
     "metadata": {
      "needs_background": "light"
     },
     "output_type": "display_data"
    }
   ],
   "source": [
    "## plot the loss function per epoch\n",
    "plt.plot(regr1.history.history['mae'],\n",
    "         color='red')\n",
    "plt.plot(regr1.history.history['val_mae'],\n",
    "         color='blue')"
   ]
  },
  {
   "cell_type": "markdown",
   "metadata": {},
   "source": [
    "It looks like the model is making progress, but we clearly need to run it for more epochs to get 'convergence'. Let's do that.."
   ]
  },
  {
   "cell_type": "code",
   "execution_count": 20,
   "metadata": {},
   "outputs": [
    {
     "data": {
      "text/plain": [
       "<tensorflow.python.keras.callbacks.History at 0x1cb57312608>"
      ]
     },
     "execution_count": 20,
     "metadata": {},
     "output_type": "execute_result"
    }
   ],
   "source": [
    "# fit this model/architecture to my data\n",
    "regr1 = build_model1()\n",
    "regr1.fit(X_train_s,\n",
    "          Y_train,\n",
    "          epochs=2000,\n",
    "          validation_split=0.2,\n",
    "          verbose=0)"
   ]
  },
  {
   "cell_type": "code",
   "execution_count": 21,
   "metadata": {},
   "outputs": [
    {
     "data": {
      "text/plain": [
       "[<matplotlib.lines.Line2D at 0x1cb58c25448>]"
      ]
     },
     "execution_count": 21,
     "metadata": {},
     "output_type": "execute_result"
    },
    {
     "data": {
      "text/plain": [
       "[<matplotlib.lines.Line2D at 0x1cb57312988>]"
      ]
     },
     "execution_count": 21,
     "metadata": {},
     "output_type": "execute_result"
    },
    {
     "data": {
      "image/png": "[encoded data removed]",
      "text/plain": [
       "<Figure size 720x432 with 1 Axes>"
      ]
     },
     "metadata": {
      "needs_background": "light"
     },
     "output_type": "display_data"
    }
   ],
   "source": [
    "# plot the loss function per epoch\n",
    "plt.plot(regr1.history.history['loss'],\n",
    "         color='red')\n",
    "plt.plot(regr1.history.history['val_loss'],\n",
    "         color='blue')"
   ]
  },
  {
   "cell_type": "code",
   "execution_count": 22,
   "metadata": {},
   "outputs": [
    {
     "data": {
      "text/plain": [
       "[<matplotlib.lines.Line2D at 0x1cb58dd2b08>]"
      ]
     },
     "execution_count": 22,
     "metadata": {},
     "output_type": "execute_result"
    },
    {
     "data": {
      "text/plain": [
       "[<matplotlib.lines.Line2D at 0x1cb58c69588>]"
      ]
     },
     "execution_count": 22,
     "metadata": {},
     "output_type": "execute_result"
    },
    {
     "data": {
      "image/png": "[encoded data removed]",
      "text/plain": [
       "<Figure size 720x432 with 1 Axes>"
      ]
     },
     "metadata": {
      "needs_background": "light"
     },
     "output_type": "display_data"
    }
   ],
   "source": [
    "# plot the loss function per epoch\n",
    "plt.plot(regr1.history.history['mae'],\n",
    "         color='red')\n",
    "plt.plot(regr1.history.history['val_mae'],\n",
    "         color='blue')"
   ]
  },
  {
   "cell_type": "markdown",
   "metadata": {},
   "source": [
    "It looks like the model converged by the 1700 epoch or so...let's look at those numbers:"
   ]
  },
  {
   "cell_type": "code",
   "execution_count": 23,
   "metadata": {},
   "outputs": [
    {
     "data": {
      "text/plain": [
       "[117.66025866884173,\n",
       " 117.61190666429924,\n",
       " 117.56391231652462,\n",
       " 117.51564118356416,\n",
       " 117.4730273622455,\n",
       " 117.43914050477923,\n",
       " 117.39339238947088,\n",
       " 117.35209526293205,\n",
       " 117.30992251309482,\n",
       " 117.26306882916074,\n",
       " 117.22444448760062,\n",
       " 117.18501799612335,\n",
       " 117.14248042251124,\n",
       " 117.0955367117217,\n",
       " 117.05638977975556,\n",
       " 117.01613408868963,\n",
       " 116.97160274621213,\n",
       " 116.92542058771306,\n",
       " 116.88087199818004,\n",
       " 116.8400966759884,\n",
       " 116.80765311501243,\n",
       " 116.76679470177852,\n",
       " 116.72613932291667,\n",
       " 116.69976390491833,\n",
       " 116.6692011977687]"
      ]
     },
     "execution_count": 23,
     "metadata": {},
     "output_type": "execute_result"
    },
    {
     "data": {
      "text/plain": [
       "[113.84275230638909,\n",
       " 113.84028190843986,\n",
       " 113.8374134872899,\n",
       " 113.83815432461826,\n",
       " 113.83325445001776,\n",
       " 113.82979264692827,\n",
       " 113.82137219978101,\n",
       " 113.82080452658913,\n",
       " 113.81818006110913,\n",
       " 113.82024378921047,\n",
       " 113.81505737304687,\n",
       " 113.81673459139738,\n",
       " 113.81376019102154,\n",
       " 113.81104477391098,\n",
       " 113.80826628713896,\n",
       " 113.8065605394768,\n",
       " 113.80209401448568,\n",
       " 113.80002903793797,\n",
       " 113.79916631525214,\n",
       " 113.79611159815933,\n",
       " 113.79315352006392,\n",
       " 113.79609902121804,\n",
       " 113.79185684666488,\n",
       " 113.79254418575402,\n",
       " 113.78854240648674]"
      ]
     },
     "execution_count": 23,
     "metadata": {},
     "output_type": "execute_result"
    },
    {
     "data": {
      "text/plain": [
       "[8.774533,\n",
       " 8.773382,\n",
       " 8.772302,\n",
       " 8.771153,\n",
       " 8.770182,\n",
       " 8.769362,\n",
       " 8.76823,\n",
       " 8.767237,\n",
       " 8.766171,\n",
       " 8.764937,\n",
       " 8.763969,\n",
       " 8.762831,\n",
       " 8.76169,\n",
       " 8.760586,\n",
       " 8.759717,\n",
       " 8.758524,\n",
       " 8.7572565,\n",
       " 8.756074,\n",
       " 8.754797,\n",
       " 8.753909,\n",
       " 8.753133,\n",
       " 8.752105,\n",
       " 8.7508955,\n",
       " 8.750383,\n",
       " 8.749649]"
      ]
     },
     "execution_count": 23,
     "metadata": {},
     "output_type": "execute_result"
    },
    {
     "data": {
      "text/plain": [
       "[8.669551,\n",
       " 8.66963,\n",
       " 8.669398,\n",
       " 8.669315,\n",
       " 8.669321,\n",
       " 8.66899,\n",
       " 8.668689,\n",
       " 8.668792,\n",
       " 8.668624,\n",
       " 8.668693,\n",
       " 8.668537,\n",
       " 8.668539,\n",
       " 8.668366,\n",
       " 8.668301,\n",
       " 8.668155,\n",
       " 8.668201,\n",
       " 8.667929,\n",
       " 8.66804,\n",
       " 8.668178,\n",
       " 8.668148,\n",
       " 8.667967,\n",
       " 8.668256,\n",
       " 8.667961,\n",
       " 8.667979,\n",
       " 8.667872]"
      ]
     },
     "execution_count": 23,
     "metadata": {},
     "output_type": "execute_result"
    }
   ],
   "source": [
    "# print metrics from the 15th epoch\n",
    "regr1.history.history['val_loss'][1700:1725]\n",
    "regr1.history.history['val_loss'][1975:2000]\n",
    "\n",
    "regr1.history.history['val_mae'][1700:1725]\n",
    "regr1.history.history['val_mae'][1975:2000]"
   ]
  },
  {
   "cell_type": "markdown",
   "metadata": {},
   "source": [
    "Actually it looks like the validation error started getting a little bit worse towards the end! This could be a symptom of overfitting, although the current model does not have much capacity (just a linear model). \n",
    "\n",
    "We could find the minimum validation loss:"
   ]
  },
  {
   "cell_type": "code",
   "execution_count": 24,
   "metadata": {},
   "outputs": [
    {
     "name": "stdout",
     "output_type": "stream",
     "text": [
      "The min validation loss of 113.78854240648674 ,\n",
      " was at epoch 1999\n",
      "The min validation mae of 8.667872 ,\n",
      " was at epoch 1999\n"
     ]
    }
   ],
   "source": [
    "print('The min validation loss of',\n",
    "      np.min(regr1.history.history['val_loss']),\n",
    "      ',\\n was at epoch',\n",
    "      np.argmin(regr1.history.history['val_loss']))\n",
    "\n",
    "print('The min validation mae of',\n",
    "      np.min(regr1.history.history['val_mae']),\n",
    "      ',\\n was at epoch',\n",
    "      np.argmin(regr1.history.history['val_mae']))\n"
   ]
  },
  {
   "cell_type": "markdown",
   "metadata": {},
   "source": [
    "That is a bit inconclusive....we are probably OK with regard to overfitting here. Let's investigate fitting a more flexible model..."
   ]
  },
  {
   "cell_type": "markdown",
   "metadata": {},
   "source": [
    "## Build a more complex model"
   ]
  },
  {
   "cell_type": "markdown",
   "metadata": {},
   "source": [
    "We can add complexity to our model by increasing the **depth** (adding hidden layers), and also increasing the **width** (adding more neurons per layer). "
   ]
  },
  {
   "cell_type": "code",
   "execution_count": 25,
   "metadata": {},
   "outputs": [],
   "source": [
    "# build a 2 layer neural network\n",
    "def build_model2():\n",
    "    model = Sequential()\n",
    "    model.add(Dense(64,\n",
    "                    activation='relu',\n",
    "                    input_dim=X_train.shape[1]))\n",
    "    model.add(Dense(64,\n",
    "                    activation='relu'))\n",
    "    model.add(Dense(1,\n",
    "                    activation='linear'))\n",
    "    model.compile(optimizer='rmsprop',\n",
    "                  loss='mse',  # mean squared error\n",
    "                  metrics=['mae'])  # mean absolute error\n",
    "    return model"
   ]
  },
  {
   "cell_type": "code",
   "execution_count": 26,
   "metadata": {},
   "outputs": [
    {
     "data": {
      "text/plain": [
       "<tensorflow.python.keras.callbacks.History at 0x1cb58ebd388>"
      ]
     },
     "execution_count": 26,
     "metadata": {},
     "output_type": "execute_result"
    }
   ],
   "source": [
    "# fit this model/architecture to my data\n",
    "regr2 = build_model2()\n",
    "regr2.fit(X_train_s,\n",
    "          Y_train,\n",
    "          epochs=400,\n",
    "          validation_split=0.2,\n",
    "          verbose=0)"
   ]
  },
  {
   "cell_type": "markdown",
   "metadata": {},
   "source": [
    "We can investigate the model object by asking for the layer weights (just the slope and intercept in this model), or by asking for the model summary. "
   ]
  },
  {
   "cell_type": "code",
   "execution_count": 27,
   "metadata": {},
   "outputs": [
    {
     "name": "stdout",
     "output_type": "stream",
     "text": [
      "Model: \"sequential_2\"\n",
      "_________________________________________________________________\n",
      "Layer (type)                 Output Shape              Param #   \n",
      "=================================================================\n",
      "dense_2 (Dense)              (None, 64)                576       \n",
      "_________________________________________________________________\n",
      "dense_3 (Dense)              (None, 64)                4160      \n",
      "_________________________________________________________________\n",
      "dense_4 (Dense)              (None, 1)                 65        \n",
      "=================================================================\n",
      "Total params: 4,801\n",
      "Trainable params: 4,801\n",
      "Non-trainable params: 0\n",
      "_________________________________________________________________\n"
     ]
    }
   ],
   "source": [
    "# summarize model\n",
    "regr2.summary()"
   ]
  },
  {
   "cell_type": "code",
   "execution_count": 28,
   "metadata": {},
   "outputs": [],
   "source": [
    "# Retrieve the weights\n",
    "# regr2.get_weights()\n",
    "# This prints all the weights (4,000 +)"
   ]
  },
  {
   "cell_type": "code",
   "execution_count": 29,
   "metadata": {},
   "outputs": [
    {
     "data": {
      "text/plain": [
       "[<matplotlib.lines.Line2D at 0x1cb5ac76ec8>]"
      ]
     },
     "execution_count": 29,
     "metadata": {},
     "output_type": "execute_result"
    },
    {
     "data": {
      "text/plain": [
       "[<matplotlib.lines.Line2D at 0x1cb5ac43b88>]"
      ]
     },
     "execution_count": 29,
     "metadata": {},
     "output_type": "execute_result"
    },
    {
     "data": {
      "image/png": "[encoded data removed]",
      "text/plain": [
       "<Figure size 720x432 with 1 Axes>"
      ]
     },
     "metadata": {
      "needs_background": "light"
     },
     "output_type": "display_data"
    }
   ],
   "source": [
    "# plot the loss function per epoch\n",
    "plt.plot(regr2.history.history['loss'],\n",
    "         color='red')\n",
    "plt.plot(regr2.history.history['val_loss'],\n",
    "         color='blue')"
   ]
  },
  {
   "cell_type": "code",
   "execution_count": 30,
   "metadata": {},
   "outputs": [
    {
     "data": {
      "text/plain": [
       "[<matplotlib.lines.Line2D at 0x1cb5ae2ae88>]"
      ]
     },
     "execution_count": 30,
     "metadata": {},
     "output_type": "execute_result"
    },
    {
     "data": {
      "text/plain": [
       "[<matplotlib.lines.Line2D at 0x1cb5ae13c08>]"
      ]
     },
     "execution_count": 30,
     "metadata": {},
     "output_type": "execute_result"
    },
    {
     "data": {
      "image/png": "[encoded data removed]",
      "text/plain": [
       "<Figure size 720x432 with 1 Axes>"
      ]
     },
     "metadata": {
      "needs_background": "light"
     },
     "output_type": "display_data"
    }
   ],
   "source": [
    "# plot the loss function per epoch\n",
    "plt.plot(regr2.history.history['mae'],\n",
    "         color='red')\n",
    "plt.plot(regr2.history.history['val_mae'],\n",
    "         color='blue')"
   ]
  },
  {
   "cell_type": "markdown",
   "metadata": {},
   "source": [
    "This convergence pattern looks pretty good! How well did we do regarding error prediction? "
   ]
  },
  {
   "cell_type": "code",
   "execution_count": 31,
   "metadata": {},
   "outputs": [
    {
     "name": "stdout",
     "output_type": "stream",
     "text": [
      "The min validation loss of 29.994093357432973 ,\n",
      " was at epoch 387\n",
      "The min validation mae of 3.9390666 ,\n",
      " was at epoch 387\n"
     ]
    }
   ],
   "source": [
    "print('The min validation loss of',\n",
    "      np.min(regr2.history.history['val_loss']),\n",
    "      ',\\n was at epoch',\n",
    "      np.argmin(regr2.history.history['val_loss']))\n",
    "\n",
    "print('The min validation mae of',\n",
    "      np.min(regr2.history.history['val_mae']),\n",
    "      ',\\n was at epoch',\n",
    "      np.argmin(regr2.history.history['val_mae']))"
   ]
  },
  {
   "cell_type": "markdown",
   "metadata": {},
   "source": [
    "This implies we could run this for a bit longer since we have not yet overfit the data. Let's try more Epochs and look at the convergence again:"
   ]
  },
  {
   "cell_type": "code",
   "execution_count": 32,
   "metadata": {},
   "outputs": [
    {
     "data": {
      "text/plain": [
       "<tensorflow.python.keras.callbacks.History at 0x1cb5aefd648>"
      ]
     },
     "execution_count": 32,
     "metadata": {},
     "output_type": "execute_result"
    }
   ],
   "source": [
    "# fit this model/architecture to my data\n",
    "regr2 = build_model2()\n",
    "regr2.fit(X_train_s,\n",
    "          Y_train,\n",
    "          epochs=1000,\n",
    "          validation_split=0.3,\n",
    "          verbose=0)"
   ]
  },
  {
   "cell_type": "markdown",
   "metadata": {},
   "source": [
    "We can investigate the model object by asking for the layer weights (just the slope and intercept in this model), or by asking for the model summary. "
   ]
  },
  {
   "cell_type": "code",
   "execution_count": 33,
   "metadata": {},
   "outputs": [
    {
     "name": "stdout",
     "output_type": "stream",
     "text": [
      "Model: \"sequential_3\"\n",
      "_________________________________________________________________\n",
      "Layer (type)                 Output Shape              Param #   \n",
      "=================================================================\n",
      "dense_5 (Dense)              (None, 64)                576       \n",
      "_________________________________________________________________\n",
      "dense_6 (Dense)              (None, 64)                4160      \n",
      "_________________________________________________________________\n",
      "dense_7 (Dense)              (None, 1)                 65        \n",
      "=================================================================\n",
      "Total params: 4,801\n",
      "Trainable params: 4,801\n",
      "Non-trainable params: 0\n",
      "_________________________________________________________________\n"
     ]
    }
   ],
   "source": [
    "# summarize model\n",
    "regr2.summary()"
   ]
  },
  {
   "cell_type": "code",
   "execution_count": 34,
   "metadata": {},
   "outputs": [],
   "source": [
    "# Retrieve the weights\n",
    "# regr2.get_weights()\n",
    "# This prints all the weights (4,000 +)"
   ]
  },
  {
   "cell_type": "code",
   "execution_count": 35,
   "metadata": {},
   "outputs": [
    {
     "data": {
      "text/plain": [
       "[<matplotlib.lines.Line2D at 0x1cb5c8b17c8>]"
      ]
     },
     "execution_count": 35,
     "metadata": {},
     "output_type": "execute_result"
    },
    {
     "data": {
      "text/plain": [
       "[<matplotlib.lines.Line2D at 0x1cb5ae3f748>]"
      ]
     },
     "execution_count": 35,
     "metadata": {},
     "output_type": "execute_result"
    },
    {
     "data": {
      "image/png": "[encoded data removed]",
      "text/plain": [
       "<Figure size 720x432 with 1 Axes>"
      ]
     },
     "metadata": {
      "needs_background": "light"
     },
     "output_type": "display_data"
    }
   ],
   "source": [
    "# plot the loss function per epoch\n",
    "plt.plot(regr2.history.history['loss'],\n",
    "         color='red')\n",
    "plt.plot(regr2.history.history['val_loss'],\n",
    "         color='blue')"
   ]
  },
  {
   "cell_type": "code",
   "execution_count": 36,
   "metadata": {},
   "outputs": [
    {
     "data": {
      "text/plain": [
       "[<matplotlib.lines.Line2D at 0x1cb5c918b08>]"
      ]
     },
     "execution_count": 36,
     "metadata": {},
     "output_type": "execute_result"
    },
    {
     "data": {
      "text/plain": [
       "[<matplotlib.lines.Line2D at 0x1cb5c8f6748>]"
      ]
     },
     "execution_count": 36,
     "metadata": {},
     "output_type": "execute_result"
    },
    {
     "data": {
      "image/png": "[encoded data removed]",
      "text/plain": [
       "<Figure size 720x432 with 1 Axes>"
      ]
     },
     "metadata": {
      "needs_background": "light"
     },
     "output_type": "display_data"
    }
   ],
   "source": [
    "# plot the loss function per epoch\n",
    "plt.plot(regr2.history.history['mae'],\n",
    "         color='red')\n",
    "plt.plot(regr2.history.history['val_mae'],\n",
    "         color='blue')"
   ]
  },
  {
   "cell_type": "markdown",
   "metadata": {},
   "source": [
    "This convergence pattern still looks pretty good! How well did we do regarding error prediction? "
   ]
  },
  {
   "cell_type": "code",
   "execution_count": 37,
   "metadata": {},
   "outputs": [
    {
     "name": "stdout",
     "output_type": "stream",
     "text": [
      "The min validation loss of 27.550448386899888 ,\n",
      " was at epoch 740\n",
      "The min validation mae of 3.6204135 ,\n",
      " was at epoch 967\n"
     ]
    }
   ],
   "source": [
    "print('The min validation loss of',\n",
    "      np.min(regr2.history.history['val_loss']),\n",
    "      ',\\n was at epoch',\n",
    "      np.argmin(regr2.history.history['val_loss']))\n",
    "\n",
    "print('The min validation mae of',\n",
    "      np.min(regr2.history.history['val_mae']),\n",
    "      ',\\n was at epoch',\n",
    "      np.argmin(regr2.history.history['val_mae']))"
   ]
  },
  {
   "cell_type": "markdown",
   "metadata": {},
   "source": [
    "This makes me think we have reached convergence by 1000 epochs, but we did need at least ~800 to get there. "
   ]
  },
  {
   "cell_type": "markdown",
   "metadata": {},
   "source": [
    "## Build a more complex model with dropout"
   ]
  },
  {
   "cell_type": "markdown",
   "metadata": {},
   "source": [
    "It is possible we could get a better model fit on the validation dataset if we introduce some form of regularization. \n",
    "\n",
    "> A good general definition for Regularization is any modifications we make intending to increase generalization error at the expense of training error. \n",
    "\n",
    "One form of regularization is model dropout. This is easily implemented in keras:"
   ]
  },
  {
   "cell_type": "code",
   "execution_count": 38,
   "metadata": {},
   "outputs": [],
   "source": [
    "# build a two layer neural network with regularization\n",
    "from tensorflow.keras.layers import Dropout\n",
    "def build_model3():\n",
    "    model = Sequential()\n",
    "    model.add(Dense(64,\n",
    "                    activation='relu',\n",
    "                    input_dim=X_train.shape[1]))\n",
    "    model.add(Dropout(0.5))\n",
    "    model.add(Dense(64,\n",
    "                    activation='relu'))\n",
    "    model.add(Dropout(0.5))\n",
    "    model.add(Dense(64,\n",
    "                    activation='relu',\n",
    "                    input_dim=X_train.shape[1]))\n",
    "    model.add(Dropout(0.5))\n",
    "    model.add(Dense(1,\n",
    "                    activation='linear'))\n",
    "    model.compile(optimizer='rmsprop',\n",
    "                  loss='mse',  # mean squared error\n",
    "                  metrics=['mae'])  # mean absolute error\n",
    "    return model"
   ]
  },
  {
   "cell_type": "code",
   "execution_count": 39,
   "metadata": {},
   "outputs": [
    {
     "data": {
      "text/plain": [
       "<tensorflow.python.keras.callbacks.History at 0x1cb5cc0c3c8>"
      ]
     },
     "execution_count": 39,
     "metadata": {},
     "output_type": "execute_result"
    }
   ],
   "source": [
    "# fit this model/architecture to my data\n",
    "regr3 = build_model3()\n",
    "regr3.fit(X_train_s,\n",
    "          Y_train,\n",
    "          epochs=1000,\n",
    "          validation_split=0.2,\n",
    "          verbose=0)"
   ]
  },
  {
   "cell_type": "markdown",
   "metadata": {},
   "source": [
    "We can investigate the model object by asking for the layer weights (just the slope and intercept in this model), or by asking for the model summary. "
   ]
  },
  {
   "cell_type": "code",
   "execution_count": 40,
   "metadata": {},
   "outputs": [
    {
     "name": "stdout",
     "output_type": "stream",
     "text": [
      "Model: \"sequential_4\"\n",
      "_________________________________________________________________\n",
      "Layer (type)                 Output Shape              Param #   \n",
      "=================================================================\n",
      "dense_8 (Dense)              (None, 64)                576       \n",
      "_________________________________________________________________\n",
      "dropout (Dropout)            (None, 64)                0         \n",
      "_________________________________________________________________\n",
      "dense_9 (Dense)              (None, 64)                4160      \n",
      "_________________________________________________________________\n",
      "dropout_1 (Dropout)          (None, 64)                0         \n",
      "_________________________________________________________________\n",
      "dense_10 (Dense)             (None, 64)                4160      \n",
      "_________________________________________________________________\n",
      "dropout_2 (Dropout)          (None, 64)                0         \n",
      "_________________________________________________________________\n",
      "dense_11 (Dense)             (None, 1)                 65        \n",
      "=================================================================\n",
      "Total params: 8,961\n",
      "Trainable params: 8,961\n",
      "Non-trainable params: 0\n",
      "_________________________________________________________________\n"
     ]
    }
   ],
   "source": [
    "## summarize model\n",
    "regr3.summary()"
   ]
  },
  {
   "cell_type": "code",
   "execution_count": 41,
   "metadata": {},
   "outputs": [
    {
     "data": {
      "text/plain": [
       "[<matplotlib.lines.Line2D at 0x1cb5e9f8dc8>]"
      ]
     },
     "execution_count": 41,
     "metadata": {},
     "output_type": "execute_result"
    },
    {
     "data": {
      "text/plain": [
       "[<matplotlib.lines.Line2D at 0x1cb5e9ae588>]"
      ]
     },
     "execution_count": 41,
     "metadata": {},
     "output_type": "execute_result"
    },
    {
     "data": {
      "image/png": "[encoded data removed]",
      "text/plain": [
       "<Figure size 720x432 with 1 Axes>"
      ]
     },
     "metadata": {
      "needs_background": "light"
     },
     "output_type": "display_data"
    }
   ],
   "source": [
    "## plot the loss function per epoch\n",
    "plt.plot(regr3.history.history['loss'],\n",
    "        color='red')\n",
    "plt.plot(regr3.history.history['val_loss'],\n",
    "        color='blue')"
   ]
  },
  {
   "cell_type": "code",
   "execution_count": 42,
   "metadata": {},
   "outputs": [
    {
     "data": {
      "text/plain": [
       "[<matplotlib.lines.Line2D at 0x1cb5eba3c88>]"
      ]
     },
     "execution_count": 42,
     "metadata": {},
     "output_type": "execute_result"
    },
    {
     "data": {
      "text/plain": [
       "[<matplotlib.lines.Line2D at 0x1cb5eb94f48>]"
      ]
     },
     "execution_count": 42,
     "metadata": {},
     "output_type": "execute_result"
    },
    {
     "data": {
      "image/png": "[encoded data removed]",
      "text/plain": [
       "<Figure size 720x432 with 1 Axes>"
      ]
     },
     "metadata": {
      "needs_background": "light"
     },
     "output_type": "display_data"
    }
   ],
   "source": [
    "## plot the loss function per epoch\n",
    "plt.plot(regr3.history.history['mae'],\n",
    "         color='red')\n",
    "plt.plot(regr3.history.history['val_mae'],\n",
    "         color='blue')"
   ]
  },
  {
   "cell_type": "code",
   "execution_count": 43,
   "metadata": {},
   "outputs": [
    {
     "name": "stdout",
     "output_type": "stream",
     "text": [
      "The min validation loss of 52.39430791681463 ,\n",
      " was at epoch 791\n",
      "The min validation mae of 5.67797 ,\n",
      " was at epoch 791\n"
     ]
    }
   ],
   "source": [
    "print('The min validation loss of',\n",
    "      np.min(regr3.history.history['val_loss']),\n",
    "      ',\\n was at epoch',\n",
    "      np.argmin(regr3.history.history['val_loss']))\n",
    "\n",
    "print('The min validation mae of',\n",
    "      np.min(regr3.history.history['val_mae']),\n",
    "      ',\\n was at epoch',\n",
    "      np.argmin(regr3.history.history['val_mae']))"
   ]
  },
  {
   "cell_type": "markdown",
   "metadata": {},
   "source": [
    "This is looking good. The model seemed to have converged by the 900 epoch or so, overfit does not seem to be an issue. We are at a bit higher error validation error than we were in the prior models though.  "
   ]
  },
  {
   "cell_type": "markdown",
   "metadata": {},
   "source": [
    "## Build a more complex model with dropout, add L1 regularization"
   ]
  },
  {
   "cell_type": "markdown",
   "metadata": {},
   "source": [
    "Another form of regularization we can apply is through applying penalties to the weights. This is exactly like what you have learned before in the context of penalized linear models (LASSO, Ridge, Elastic net...)\n",
    "\n",
    "We can apply either L1, L2, or both penalties. \n",
    "\n",
    "-  Typically we penalize the weights but not the bias terms of the affine transformation for each neuron. \n",
    "-  We will typically use the same weight across the network, although we could consider optimizing a different weight for each neuron with input(s).\n",
    "    -  This would be expensive (large hyper-parameter space to search). \n",
    "-  L2 penalty\n",
    "    -  Like ridge regression. Reduces correlated inputs, but leaves weights in the model as small values. \n",
    "-  L1 penalty\n",
    "    -  Like LASSO regression. Eliminates some weights, induces sparsity. \n",
    "\n",
    "\n",
    "\n",
    "Some notes on the keras syntax:\n",
    "\n",
    "-  kernel_regularizer:\n",
    "    -  This will regularize the weights matrix (the Beta’s)\n",
    "-  activity_regularizer:\n",
    "    -  This will regularize the output of the neuron (the activation function output)\n",
    "\n",
    "-  bias_regularizer:\n",
    "    -  This will regularize the bias term for the neuron"
   ]
  },
  {
   "cell_type": "code",
   "execution_count": 44,
   "metadata": {},
   "outputs": [],
   "source": [
    "from tensorflow.keras.regularizers import l1\n",
    "l1_penalty = 0.1\n",
    "# build a two layer neural network with regularization\n",
    "\n",
    "\n",
    "def build_model4():\n",
    "    model = Sequential()\n",
    "    model.add(Dense(64,\n",
    "                    activation='relu',\n",
    "                    kernel_regularizer=l1(l1_penalty),\n",
    "                    input_dim=X_train.shape[1]))\n",
    "    model.add(Dropout(0.5))\n",
    "    model.add(Dense(64,\n",
    "                    activation='relu',\n",
    "                    kernel_regularizer=l1(l1_penalty)))\n",
    "    model.add(Dropout(0.5))\n",
    "    model.add(Dense(64,\n",
    "                    activation='relu',\n",
    "                    kernel_regularizer=l1(l1_penalty)))\n",
    "    model.add(Dropout(0.5))\n",
    "    model.add(Dense(1,\n",
    "                    activation='linear'))\n",
    "    model.compile(optimizer='rmsprop',\n",
    "                  loss='mse',  # mean squared error\n",
    "                  metrics=['mae'])  # mean absolute error\n",
    "    return model"
   ]
  },
  {
   "cell_type": "code",
   "execution_count": 45,
   "metadata": {},
   "outputs": [
    {
     "data": {
      "text/plain": [
       "<tensorflow.python.keras.callbacks.History at 0x1cb5ee3fb48>"
      ]
     },
     "execution_count": 45,
     "metadata": {},
     "output_type": "execute_result"
    }
   ],
   "source": [
    "# fit this model/architecture to my data\n",
    "regr4 = build_model4()\n",
    "regr4.fit(X_train_s,\n",
    "          Y_train,\n",
    "          epochs=1000,\n",
    "          validation_split=0.2,\n",
    "          verbose=0)"
   ]
  },
  {
   "cell_type": "markdown",
   "metadata": {},
   "source": [
    "We can investigate the model object by asking for the layer weights (just the slope and intercept in this model), or by asking for the model summary. "
   ]
  },
  {
   "cell_type": "code",
   "execution_count": 46,
   "metadata": {},
   "outputs": [
    {
     "name": "stdout",
     "output_type": "stream",
     "text": [
      "Model: \"sequential_5\"\n",
      "_________________________________________________________________\n",
      "Layer (type)                 Output Shape              Param #   \n",
      "=================================================================\n",
      "dense_12 (Dense)             (None, 64)                576       \n",
      "_________________________________________________________________\n",
      "dropout_3 (Dropout)          (None, 64)                0         \n",
      "_________________________________________________________________\n",
      "dense_13 (Dense)             (None, 64)                4160      \n",
      "_________________________________________________________________\n",
      "dropout_4 (Dropout)          (None, 64)                0         \n",
      "_________________________________________________________________\n",
      "dense_14 (Dense)             (None, 64)                4160      \n",
      "_________________________________________________________________\n",
      "dropout_5 (Dropout)          (None, 64)                0         \n",
      "_________________________________________________________________\n",
      "dense_15 (Dense)             (None, 1)                 65        \n",
      "=================================================================\n",
      "Total params: 8,961\n",
      "Trainable params: 8,961\n",
      "Non-trainable params: 0\n",
      "_________________________________________________________________\n"
     ]
    }
   ],
   "source": [
    "# summarize model\n",
    "regr4.summary()"
   ]
  },
  {
   "cell_type": "code",
   "execution_count": 47,
   "metadata": {},
   "outputs": [
    {
     "data": {
      "text/plain": [
       "[<matplotlib.lines.Line2D at 0x1cb6ac06548>]"
      ]
     },
     "execution_count": 47,
     "metadata": {},
     "output_type": "execute_result"
    },
    {
     "data": {
      "text/plain": [
       "[<matplotlib.lines.Line2D at 0x1cb60d96ac8>]"
      ]
     },
     "execution_count": 47,
     "metadata": {},
     "output_type": "execute_result"
    },
    {
     "data": {
      "image/png": "[encoded data removed]",
      "text/plain": [
       "<Figure size 720x432 with 1 Axes>"
      ]
     },
     "metadata": {
      "needs_background": "light"
     },
     "output_type": "display_data"
    }
   ],
   "source": [
    "# plot the loss function per epoch\n",
    "plt.plot(regr4.history.history['loss'],\n",
    "         color='red')\n",
    "plt.plot(regr4.history.history['val_loss'],\n",
    "         color='blue')"
   ]
  },
  {
   "cell_type": "code",
   "execution_count": 48,
   "metadata": {},
   "outputs": [
    {
     "data": {
      "text/plain": [
       "[<matplotlib.lines.Line2D at 0x1cb6ac6f748>]"
      ]
     },
     "execution_count": 48,
     "metadata": {},
     "output_type": "execute_result"
    },
    {
     "data": {
      "text/plain": [
       "[<matplotlib.lines.Line2D at 0x1cb6ac11648>]"
      ]
     },
     "execution_count": 48,
     "metadata": {},
     "output_type": "execute_result"
    },
    {
     "data": {
      "image/png": "[encoded data removed]",
      "text/plain": [
       "<Figure size 720x432 with 1 Axes>"
      ]
     },
     "metadata": {
      "needs_background": "light"
     },
     "output_type": "display_data"
    }
   ],
   "source": [
    "# plot the loss function per epoch\n",
    "plt.plot(regr4.history.history['mae'],\n",
    "         color='red')\n",
    "plt.plot(regr4.history.history['val_mae'],\n",
    "         color='blue')"
   ]
  },
  {
   "cell_type": "code",
   "execution_count": 49,
   "metadata": {},
   "outputs": [
    {
     "name": "stdout",
     "output_type": "stream",
     "text": [
      "The min validation loss of 88.25270323319869 ,\n",
      " was at epoch 954\n",
      "The min validation mae of 6.3125644 ,\n",
      " was at epoch 996\n"
     ]
    }
   ],
   "source": [
    "print('The min validation loss of',\n",
    "      np.min(regr4.history.history['val_loss']),\n",
    "      ',\\n was at epoch',\n",
    "      np.argmin(regr4.history.history['val_loss']))\n",
    "\n",
    "print('The min validation mae of',\n",
    "      np.min(regr4.history.history['val_mae']),\n",
    "      ',\\n was at epoch',\n",
    "      np.argmin(regr4.history.history['val_mae']))"
   ]
  },
  {
   "cell_type": "markdown",
   "metadata": {},
   "source": [
    "The model convergence looked good again (maybe could run longer), but the validation metrics are not better than without regularization. Perhaps we need a different strength penalty (different l1)?"
   ]
  },
  {
   "cell_type": "markdown",
   "metadata": {},
   "source": [
    "## Build a more complex model with dropout, add L1 regularization, smaller weight. "
   ]
  },
  {
   "cell_type": "code",
   "execution_count": 50,
   "metadata": {},
   "outputs": [],
   "source": [
    "l1_penalty = 0.001\n",
    "# build a two layer neural network with regularization\n",
    "\n",
    "\n",
    "def build_model5():\n",
    "    model = Sequential()\n",
    "    model.add(Dense(64,\n",
    "                    activation='relu',\n",
    "                    kernel_regularizer=l1(l1_penalty),\n",
    "                    input_dim=X_train.shape[1]))\n",
    "    model.add(Dropout(0.5))\n",
    "    model.add(Dense(64,\n",
    "                    activation='relu',\n",
    "                    kernel_regularizer=l1(l1_penalty)))\n",
    "    model.add(Dropout(0.5))\n",
    "    model.add(Dense(64,\n",
    "                    activation='relu',\n",
    "                    kernel_regularizer=l1(l1_penalty)))\n",
    "    model.add(Dropout(0.5))\n",
    "    model.add(Dense(1,\n",
    "                    activation='linear'))\n",
    "    model.compile(optimizer='rmsprop',\n",
    "                  loss='mse',  # mean squared error\n",
    "                  metrics=['mae'])  # mean absolute error\n",
    "    return model"
   ]
  },
  {
   "cell_type": "code",
   "execution_count": 51,
   "metadata": {},
   "outputs": [
    {
     "data": {
      "text/plain": [
       "<tensorflow.python.keras.callbacks.History at 0x1cb6b044408>"
      ]
     },
     "execution_count": 51,
     "metadata": {},
     "output_type": "execute_result"
    }
   ],
   "source": [
    "# fit this model/architecture to my data\n",
    "regr5 = build_model5()\n",
    "regr5.fit(X_train_s,\n",
    "          Y_train,\n",
    "          epochs=1000,\n",
    "          validation_split=0.2,\n",
    "          verbose=0)"
   ]
  },
  {
   "cell_type": "markdown",
   "metadata": {},
   "source": [
    "We can investigate the model object by asking for the layer weights (just the slope and intercept in this model), or by asking for the model summary. "
   ]
  },
  {
   "cell_type": "code",
   "execution_count": 52,
   "metadata": {},
   "outputs": [
    {
     "name": "stdout",
     "output_type": "stream",
     "text": [
      "Model: \"sequential_6\"\n",
      "_________________________________________________________________\n",
      "Layer (type)                 Output Shape              Param #   \n",
      "=================================================================\n",
      "dense_16 (Dense)             (None, 64)                576       \n",
      "_________________________________________________________________\n",
      "dropout_6 (Dropout)          (None, 64)                0         \n",
      "_________________________________________________________________\n",
      "dense_17 (Dense)             (None, 64)                4160      \n",
      "_________________________________________________________________\n",
      "dropout_7 (Dropout)          (None, 64)                0         \n",
      "_________________________________________________________________\n",
      "dense_18 (Dense)             (None, 64)                4160      \n",
      "_________________________________________________________________\n",
      "dropout_8 (Dropout)          (None, 64)                0         \n",
      "_________________________________________________________________\n",
      "dense_19 (Dense)             (None, 1)                 65        \n",
      "=================================================================\n",
      "Total params: 8,961\n",
      "Trainable params: 8,961\n",
      "Non-trainable params: 0\n",
      "_________________________________________________________________\n"
     ]
    }
   ],
   "source": [
    "# summarize model\n",
    "regr5.summary()"
   ]
  },
  {
   "cell_type": "code",
   "execution_count": 53,
   "metadata": {},
   "outputs": [
    {
     "data": {
      "text/plain": [
       "[<matplotlib.lines.Line2D at 0x1cb75e53788>]"
      ]
     },
     "execution_count": 53,
     "metadata": {},
     "output_type": "execute_result"
    },
    {
     "data": {
      "text/plain": [
       "[<matplotlib.lines.Line2D at 0x1cb6cfb0688>]"
      ]
     },
     "execution_count": 53,
     "metadata": {},
     "output_type": "execute_result"
    },
    {
     "data": {
      "image/png": "[encoded data removed]",
      "text/plain": [
       "<Figure size 720x432 with 1 Axes>"
      ]
     },
     "metadata": {
      "needs_background": "light"
     },
     "output_type": "display_data"
    }
   ],
   "source": [
    "# plot the loss function per epoch\n",
    "plt.plot(regr5.history.history['loss'],\n",
    "         color='red')\n",
    "plt.plot(regr5.history.history['val_loss'],\n",
    "         color='blue')"
   ]
  },
  {
   "cell_type": "code",
   "execution_count": 54,
   "metadata": {},
   "outputs": [
    {
     "data": {
      "text/plain": [
       "[<matplotlib.lines.Line2D at 0x1cb75ebdd88>]"
      ]
     },
     "execution_count": 54,
     "metadata": {},
     "output_type": "execute_result"
    },
    {
     "data": {
      "text/plain": [
       "[<matplotlib.lines.Line2D at 0x1cb75e92bc8>]"
      ]
     },
     "execution_count": 54,
     "metadata": {},
     "output_type": "execute_result"
    },
    {
     "data": {
      "image/png": "[encoded data removed]",
      "text/plain": [
       "<Figure size 720x432 with 1 Axes>"
      ]
     },
     "metadata": {
      "needs_background": "light"
     },
     "output_type": "display_data"
    }
   ],
   "source": [
    "# plot the loss function per epoch\n",
    "plt.plot(regr5.history.history['mae'],\n",
    "         color='red')\n",
    "plt.plot(regr5.history.history['val_mae'],\n",
    "         color='blue')"
   ]
  },
  {
   "cell_type": "code",
   "execution_count": 55,
   "metadata": {},
   "outputs": [
    {
     "name": "stdout",
     "output_type": "stream",
     "text": [
      "The min validation loss of 49.4000906048399 ,\n",
      " was at epoch 792\n",
      "The min validation mae of 5.2348046 ,\n",
      " was at epoch 908\n"
     ]
    }
   ],
   "source": [
    "print('The min validation loss of',\n",
    "      np.min(regr5.history.history['val_loss']),\n",
    "      ',\\n was at epoch',\n",
    "      np.argmin(regr5.history.history['val_loss']))\n",
    "\n",
    "print('The min validation mae of',\n",
    "      np.min(regr5.history.history['val_mae']),\n",
    "      ',\\n was at epoch',\n",
    "      np.argmin(regr5.history.history['val_mae']))"
   ]
  },
  {
   "cell_type": "markdown",
   "metadata": {},
   "source": [
    "The penalty gave us a similar result here. Sometimes (although possibly not on this dataset), regularization will be necessary to avoid overfitting the dataset.\n",
    "\n",
    "Let's compare all of the models we have fit thus far to get an idea of the best model (best on the validation data)."
   ]
  },
  {
   "cell_type": "code",
   "execution_count": 56,
   "metadata": {},
   "outputs": [
    {
     "data": {
      "text/plain": [
       "113.78854240648674"
      ]
     },
     "execution_count": 56,
     "metadata": {},
     "output_type": "execute_result"
    },
    {
     "data": {
      "text/plain": [
       "29.085039323376073"
      ]
     },
     "execution_count": 56,
     "metadata": {},
     "output_type": "execute_result"
    },
    {
     "data": {
      "text/plain": [
       "60.211977594549005"
      ]
     },
     "execution_count": 56,
     "metadata": {},
     "output_type": "execute_result"
    },
    {
     "data": {
      "text/plain": [
       "88.57599718498462"
      ]
     },
     "execution_count": 56,
     "metadata": {},
     "output_type": "execute_result"
    },
    {
     "data": {
      "text/plain": [
       "54.708975208166876"
      ]
     },
     "execution_count": 56,
     "metadata": {},
     "output_type": "execute_result"
    }
   ],
   "source": [
    "# comparison of mse (loss) on validation data\n",
    "regr1.history.history['val_loss'][-1]\n",
    "regr2.history.history['val_loss'][-1]\n",
    "regr3.history.history['val_loss'][-1]\n",
    "regr4.history.history['val_loss'][-1]\n",
    "regr5.history.history['val_loss'][-1]"
   ]
  },
  {
   "cell_type": "code",
   "execution_count": 57,
   "metadata": {},
   "outputs": [
    {
     "data": {
      "text/plain": [
       "8.667872"
      ]
     },
     "execution_count": 57,
     "metadata": {},
     "output_type": "execute_result"
    },
    {
     "data": {
      "text/plain": [
       "3.7026045"
      ]
     },
     "execution_count": 57,
     "metadata": {},
     "output_type": "execute_result"
    },
    {
     "data": {
      "text/plain": [
       "5.9737988"
      ]
     },
     "execution_count": 57,
     "metadata": {},
     "output_type": "execute_result"
    },
    {
     "data": {
      "text/plain": [
       "6.3765965"
      ]
     },
     "execution_count": 57,
     "metadata": {},
     "output_type": "execute_result"
    },
    {
     "data": {
      "text/plain": [
       "5.5330815"
      ]
     },
     "execution_count": 57,
     "metadata": {},
     "output_type": "execute_result"
    }
   ],
   "source": [
    "# comparison of mae on validation data\n",
    "regr1.history.history['val_mae'][-1]\n",
    "regr2.history.history['val_mae'][-1]\n",
    "regr3.history.history['val_mae'][-1]\n",
    "regr4.history.history['val_mae'][-1]\n",
    "regr5.history.history['val_mae'][-1]"
   ]
  },
  {
   "cell_type": "markdown",
   "metadata": {},
   "source": [
    "It looks like our second model was the best model by either the loss function (mse) or the other chosen metric (mae). \n",
    "\n",
    "Let's select it as the 'best model', and score it on the test data. "
   ]
  },
  {
   "cell_type": "code",
   "execution_count": 58,
   "metadata": {},
   "outputs": [
    {
     "data": {
      "text/plain": [
       "[235892455.14563107, 15260.101]"
      ]
     },
     "execution_count": 58,
     "metadata": {},
     "output_type": "execute_result"
    }
   ],
   "source": [
    "# What happened?!?\n",
    "regr2.evaluate(x=X_test,\n",
    "               y=Y_test,\n",
    "               verbose=0)"
   ]
  },
  {
   "cell_type": "markdown",
   "metadata": {},
   "source": [
    "We need to transform the X as we did (standardize it). Good thing we set up the transformer function!"
   ]
  },
  {
   "cell_type": "code",
   "execution_count": 59,
   "metadata": {},
   "outputs": [
    {
     "data": {
      "text/plain": [
       "[31.616650368403462, 3.9671931]"
      ]
     },
     "execution_count": 59,
     "metadata": {},
     "output_type": "execute_result"
    }
   ],
   "source": [
    "# we need to transform the X...\n",
    "regr2.evaluate(x=norm(X_test,x_mean,x_std),\n",
    "               y=Y_test, verbose=0)"
   ]
  },
  {
   "cell_type": "markdown",
   "metadata": {},
   "source": [
    "## Conclusion\n",
    "\n",
    "In this module, we have covered a lot! \n",
    "\n",
    "-  We learned how to implement a regression feed-forward NN using keras. \n",
    "-  We monitored our training error and our estimate of the generalization error via a validation dataset. \n",
    "-  We investigated some forms of regularization\n",
    "-  And then we finally chose the 'best' model. "
   ]
  }
 ],
 "metadata": {
  "kernelspec": {
   "display_name": "Python 3",
   "language": "python",
   "name": "python3"
  },
  "language_info": {
   "codemirror_mode": {
    "name": "ipython",
    "version": 3
   },
   "file_extension": ".py",
   "mimetype": "text/x-python",
   "name": "python",
   "nbconvert_exporter": "python",
   "pygments_lexer": "ipython3",
   "version": "3.7.5"
  }
 },
 "nbformat": 4,
 "nbformat_minor": 2
}
