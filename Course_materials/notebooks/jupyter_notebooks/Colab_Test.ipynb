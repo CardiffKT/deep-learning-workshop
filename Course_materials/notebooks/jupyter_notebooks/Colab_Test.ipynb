{
 "cells": [
  {
   "cell_type": "markdown",
   "metadata": {
    "colab_type": "text",
    "id": "HizLvp8yLX5k"
   },
   "source": [
    "# Basic Conda Python and Tensorflow Document\n",
    "*By Evan Carey* \n",
    "\n",
    "Here is some basic Python code! "
   ]
  },
  {
   "cell_type": "code",
   "execution_count": 1,
   "metadata": {
    "colab": {
     "base_uri": "https://localhost:8080/",
     "height": 34
    },
    "colab_type": "code",
    "id": "LADtZj_8Ldbk",
    "outputId": "320e73b6-d22d-4204-ae8a-37648f574bd8"
   },
   "outputs": [
    {
     "data": {
      "text/plain": [
       "4"
      ]
     },
     "execution_count": 1,
     "metadata": {},
     "output_type": "execute_result"
    }
   ],
   "source": [
    "2 + 2"
   ]
  },
  {
   "cell_type": "code",
   "execution_count": 2,
   "metadata": {
    "colab": {
     "base_uri": "https://localhost:8080/",
     "height": 34
    },
    "colab_type": "code",
    "id": "f0n5zvQMKtZg",
    "outputId": "f062c35d-a7b8-4a65-ac64-017d9abbefbb"
   },
   "outputs": [
    {
     "name": "stdout",
     "output_type": "stream",
     "text": [
      "150\n"
     ]
    }
   ],
   "source": [
    "# create a new variable\n",
    "x = 5*30\n",
    "# print it\n",
    "print(x)"
   ]
  },
  {
   "cell_type": "markdown",
   "metadata": {
    "colab_type": "text",
    "id": "G9SKhW_rLgrx"
   },
   "source": [
    "Now we will load tensorflow to use. You should have installed tensorflow using the conda commands prior to launching this jupyter notebook, so all we have to do is 'load' the functionality by calling an `import` statement. We give the module the alias `tf` upon import so we can refer to it as `tf` in subsequent code. "
   ]
  },
  {
   "cell_type": "code",
   "execution_count": 3,
   "metadata": {
    "colab": {
     "base_uri": "https://localhost:8080/",
     "height": 34
    },
    "colab_type": "code",
    "id": "IhqUOGpsLkig",
    "outputId": "14a23457-0d44-4742-aa95-f6f80fb633f0"
   },
   "outputs": [],
   "source": [
    "# load tensorflow\n",
    "import tensorflow as tf"
   ]
  },
  {
   "cell_type": "code",
   "execution_count": 4,
   "metadata": {
    "colab": {
     "base_uri": "https://localhost:8080/",
     "height": 34
    },
    "colab_type": "code",
    "id": "xIEBp-PhMn2t",
    "outputId": "700cfafe-2679-400a-8097-710919594d2e"
   },
   "outputs": [
    {
     "data": {
      "text/plain": [
       "'2.0.0'"
      ]
     },
     "execution_count": 4,
     "metadata": {},
     "output_type": "execute_result"
    }
   ],
   "source": [
    "# check tensorflow version. Should be 2.x! Versions may be slightly different between colab and conda.\n",
    "tf.__version__"
   ]
  },
  {
   "cell_type": "markdown",
   "metadata": {
    "colab_type": "text",
    "id": "gWDerptBM_oP"
   },
   "source": [
    "Now let's create a basic constant to ensure tensorflow is loaded correctly. "
   ]
  },
  {
   "cell_type": "code",
   "execution_count": 5,
   "metadata": {
    "colab": {
     "base_uri": "https://localhost:8080/",
     "height": 68
    },
    "colab_type": "code",
    "id": "qFQF6REGNEwW",
    "outputId": "89050987-f117-45b6-d888-fb6b6f3567bb"
   },
   "outputs": [
    {
     "data": {
      "text/plain": [
       "<tf.Tensor: id=2, shape=(2, 2), dtype=int32, numpy=\n",
       "array([[1, 2],\n",
       "       [3, 4]])>"
      ]
     },
     "execution_count": 5,
     "metadata": {},
     "output_type": "execute_result"
    }
   ],
   "source": [
    "# create tf constant integer\n",
    "tf.constant([1,2,3,4],\n",
    "            dtype='int32',\n",
    "            shape=[2,2])"
   ]
  }
 ],
 "metadata": {
  "colab": {
   "collapsed_sections": [],
   "name": "Colab_Test.ipynb",
   "provenance": []
  },
  "kernelspec": {
   "display_name": "Python 3",
   "language": "python",
   "name": "python3"
  },
  "language_info": {
   "codemirror_mode": {
    "name": "ipython",
    "version": 3
   },
   "file_extension": ".py",
   "mimetype": "text/x-python",
   "name": "python",
   "nbconvert_exporter": "python",
   "pygments_lexer": "ipython3",
   "version": "3.7.5"
  }
 },
 "nbformat": 4,
 "nbformat_minor": 1
}
